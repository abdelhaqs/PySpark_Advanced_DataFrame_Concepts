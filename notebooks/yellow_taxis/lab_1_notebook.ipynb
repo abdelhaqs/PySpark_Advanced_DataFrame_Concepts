{
 "cells": [
  {
   "attachments": {},
   "cell_type": "markdown",
   "metadata": {},
   "source": [
    "## Data discovery: Load and query Yellow Taxi data\n",
    "> Download the dataset from [the official TLC Trip Record Data website](https://www.nyc.gov/site/tlc/about/tlc-trip-record-data.page)"
   ]
  },
  {
   "cell_type": "markdown",
   "metadata": {},
   "source": [
    "---"
   ]
  },
  {
   "attachments": {},
   "cell_type": "markdown",
   "metadata": {},
   "source": [
    "### This cell only shows how to document code\n",
    "```python\n",
    "# Load file\n",
    "local_file = 'datasets/your-downloaded-from-TLC-taxis-file-here.parquet'\n",
    "\n",
    "# Show data\n",
    "spark.read.parquet(local_file).show()\n",
    "```"
   ]
  },
  {
   "cell_type": "code",
   "execution_count": 1,
   "metadata": {},
   "outputs": [],
   "source": [
    "from pyspark.sql import SparkSession\n",
    "from pyspark.sql.functions import to_date, col"
   ]
  },
  {
   "attachments": {},
   "cell_type": "markdown",
   "metadata": {},
   "source": [
    "### What is master(local N)?\n",
    "The --master option specifies the master URL for a distributed cluster, or local to run locally with one thread, or local[N] to run locally with N threads.\n",
    "\n",
    "<b>Source</b>: See Spark [docs here](spark.apache.org/docs/latest). See all [options here](https://spark.apache.org/docs/latest/submitting-applications.html#master-urls)"
   ]
  },
  {
   "cell_type": "code",
   "execution_count": 2,
   "metadata": {},
   "outputs": [
    {
     "name": "stdout",
     "output_type": "stream",
     "text": [
      "3.5.0\n"
     ]
    }
   ],
   "source": [
    "import pyspark\n",
    "print(pyspark.__version__)\n"
   ]
  },
  {
   "cell_type": "code",
   "execution_count": 3,
   "metadata": {},
   "outputs": [],
   "source": [
    "# Create SparkSession\n",
    "spark = SparkSession.builder\\\n",
    "             .appName(\"spark-app-version-x\")\\\n",
    "             .getOrCreate()"
   ]
  },
  {
   "cell_type": "code",
   "execution_count": 4,
   "metadata": {},
   "outputs": [],
   "source": [
    "# Read taxi data\n",
    "local_files = 'datasets/parquet/'\n",
    "df = spark.read.parquet(local_files)"
   ]
  },
  {
   "cell_type": "code",
   "execution_count": 5,
   "metadata": {},
   "outputs": [
    {
     "name": "stdout",
     "output_type": "stream",
     "text": [
      "root\n",
      " |-- VendorID: integer (nullable = true)\n",
      " |-- tpep_pickup_datetime: timestamp_ntz (nullable = true)\n",
      " |-- tpep_dropoff_datetime: timestamp_ntz (nullable = true)\n",
      " |-- passenger_count: long (nullable = true)\n",
      " |-- trip_distance: double (nullable = true)\n",
      " |-- RatecodeID: long (nullable = true)\n",
      " |-- store_and_fwd_flag: string (nullable = true)\n",
      " |-- PULocationID: integer (nullable = true)\n",
      " |-- DOLocationID: integer (nullable = true)\n",
      " |-- payment_type: long (nullable = true)\n",
      " |-- fare_amount: double (nullable = true)\n",
      " |-- extra: double (nullable = true)\n",
      " |-- mta_tax: double (nullable = true)\n",
      " |-- tip_amount: double (nullable = true)\n",
      " |-- tolls_amount: double (nullable = true)\n",
      " |-- improvement_surcharge: double (nullable = true)\n",
      " |-- total_amount: double (nullable = true)\n",
      " |-- congestion_surcharge: double (nullable = true)\n",
      " |-- Airport_fee: double (nullable = true)\n",
      "\n"
     ]
    }
   ],
   "source": [
    "# DF is like a relation table in memory. Let's see the columns\n",
    "df.printSchema()"
   ]
  },
  {
   "cell_type": "code",
   "execution_count": 6,
   "metadata": {},
   "outputs": [
    {
     "name": "stdout",
     "output_type": "stream",
     "text": [
      "+--------+------------+------------+\n",
      "|VendorID|total_amount|PULocationID|\n",
      "+--------+------------+------------+\n",
      "|       1|         9.4|         142|\n",
      "|       2|        -5.5|          71|\n",
      "|       2|         5.5|          71|\n",
      "|       1|       74.65|         132|\n",
      "|       2|        25.3|         161|\n",
      "+--------+------------+------------+\n",
      "only showing top 5 rows\n",
      "\n"
     ]
    }
   ],
   "source": [
    "# Query sample:\n",
    "df.select('VendorID','total_amount', 'PULocationID').show(n=5)"
   ]
  },
  {
   "cell_type": "code",
   "execution_count": 7,
   "metadata": {},
   "outputs": [],
   "source": [
    "# Query sample, using Spark SQL\n",
    "df.createOrReplaceTempView('tbl_raw_yellow_taxis')"
   ]
  },
  {
   "cell_type": "code",
   "execution_count": 8,
   "metadata": {},
   "outputs": [
    {
     "name": "stdout",
     "output_type": "stream",
     "text": [
      "+-------------------------+--------------------------+\n",
      "|min(tpep_pickup_datetime)|max(tpep_dropoff_datetime)|\n",
      "+-------------------------+--------------------------+\n",
      "|      2001-01-01 00:06:49|       2023-05-03 23:19:31|\n",
      "+-------------------------+--------------------------+\n",
      "\n"
     ]
    }
   ],
   "source": [
    "# SQL Statement\n",
    "# PULocationID = 188, 379 rows our of 3,066,766\n",
    "spark.sql('''\n",
    "          select min(tpep_pickup_datetime), max(tpep_dropoff_datetime)\n",
    "          from tbl_raw_yellow_taxis\n",
    "          ''').show(n=5)"
   ]
  },
  {
   "cell_type": "code",
   "execution_count": 9,
   "metadata": {},
   "outputs": [
    {
     "name": "stdout",
     "output_type": "stream",
     "text": [
      "+---------------------------------------+--------+\n",
      "|extract(year FROM tpep_pickup_datetime)|count(1)|\n",
      "+---------------------------------------+--------+\n",
      "|                                   2023| 9605947|\n",
      "+---------------------------------------+--------+\n",
      "\n"
     ]
    }
   ],
   "source": [
    "# SQL Statement\n",
    "spark.sql('''\n",
    "          select extract(year from tpep_pickup_datetime), count(1)\n",
    "          from tbl_raw_yellow_taxis\n",
    "          group by extract(year from tpep_pickup_datetime)\n",
    "          having count(1) > 100\n",
    "          ''').show(n=100)"
   ]
  },
  {
   "cell_type": "code",
   "execution_count": 10,
   "metadata": {},
   "outputs": [],
   "source": [
    "# SQL Statement example, using a subquery to clean the data\n",
    "# Use case example: imagine our business users asked to us delete all data if dataset's year has < 100 rows.\n",
    "df_clean_s1 = spark.sql('''\n",
    "          select *\n",
    "          from tbl_raw_yellow_taxis\n",
    "          where extract(year from tpep_pickup_datetime) in\n",
    "                        (select extract(year from tpep_pickup_datetime)\n",
    "                        from tbl_raw_yellow_taxis\n",
    "                        group by extract(year from tpep_pickup_datetime)\n",
    "                        having count(1) > 100\n",
    "                        )\n",
    "          ''')"
   ]
  },
  {
   "cell_type": "code",
   "execution_count": 11,
   "metadata": {},
   "outputs": [],
   "source": [
    "# Register new Temp View, using the cleansed new DataFrame \n",
    "df_clean_s1.createOrReplaceTempView('tbl_raw_yellow_taxis_clean_s1')"
   ]
  },
  {
   "cell_type": "code",
   "execution_count": 12,
   "metadata": {},
   "outputs": [
    {
     "name": "stdout",
     "output_type": "stream",
     "text": [
      "+-------------------------+--------------------------+\n",
      "|min(tpep_pickup_datetime)|max(tpep_dropoff_datetime)|\n",
      "+-------------------------+--------------------------+\n",
      "|      2023-01-31 23:49:00|       2023-05-03 23:19:31|\n",
      "+-------------------------+--------------------------+\n",
      "\n"
     ]
    }
   ],
   "source": [
    "# SQL Statement\n",
    "spark.sql('''\n",
    "          select min(tpep_pickup_datetime), max(tpep_dropoff_datetime)\n",
    "          from tbl_raw_yellow_taxis_clean_s1\n",
    "          ''').show(n=5)"
   ]
  },
  {
   "cell_type": "markdown",
   "metadata": {},
   "source": [
    "---\n",
    "### If we want to write the output, for example partitioned by date"
   ]
  },
  {
   "cell_type": "code",
   "execution_count": 13,
   "metadata": {},
   "outputs": [],
   "source": [
    "# Create new partition key\n",
    "df_sink = df_clean_s1.withColumn(\"p_date\",to_date(col('tpep_pickup_datetime')))"
   ]
  },
  {
   "cell_type": "code",
   "execution_count": 14,
   "metadata": {},
   "outputs": [],
   "source": [
    "# Write to local storage, if not done already:\n",
    "df_sink.write.partitionBy(\"p_date\").mode(\"overwrite\").parquet(\"datasets/yellow_taxis_daily/\")"
   ]
  },
  {
   "cell_type": "code",
   "execution_count": 15,
   "metadata": {},
   "outputs": [],
   "source": [
    "# Stop the session\n",
    "spark.stop()"
   ]
  },
  {
   "cell_type": "code",
   "execution_count": null,
   "metadata": {},
   "outputs": [],
   "source": []
  }
 ],
 "metadata": {
  "kernelspec": {
   "display_name": "Python 3 (ipykernel)",
   "language": "python",
   "name": "python3"
  },
  "language_info": {
   "codemirror_mode": {
    "name": "ipython",
    "version": 3
   },
   "file_extension": ".py",
   "mimetype": "text/x-python",
   "name": "python",
   "nbconvert_exporter": "python",
   "pygments_lexer": "ipython3",
   "version": "3.11.6"
  }
 },
 "nbformat": 4,
 "nbformat_minor": 4
}
