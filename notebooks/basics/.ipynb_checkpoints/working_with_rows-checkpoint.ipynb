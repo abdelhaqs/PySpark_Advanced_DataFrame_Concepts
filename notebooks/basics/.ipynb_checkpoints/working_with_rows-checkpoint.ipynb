{
 "cells": [
  {
   "cell_type": "markdown",
   "metadata": {
    "id": "mI_zYOVpf2yK"
   },
   "source": [
    "## Working with rows"
   ]
  },
  {
   "cell_type": "code",
   "execution_count": 1,
   "metadata": {},
   "outputs": [],
   "source": [
    "from pyspark.sql import SparkSession"
   ]
  },
  {
   "cell_type": "code",
   "execution_count": 2,
   "metadata": {},
   "outputs": [],
   "source": [
    "# Create SparkSession\n",
    "spark = SparkSession.builder\\\n",
    "             .appName(\"spark-app-version-x\")\\\n",
    "             .getOrCreate()"
   ]
  },
  {
   "cell_type": "code",
   "execution_count": 3,
   "metadata": {},
   "outputs": [],
   "source": [
    "local_file = '../datasets/csv/'"
   ]
  },
  {
   "cell_type": "code",
   "execution_count": 7,
   "metadata": {
    "colab": {
     "base_uri": "https://localhost:8080/"
    },
    "id": "9-1cK0nPNS95",
    "outputId": "586f31fe-4936-452b-b60b-b85fbc57ae4f",
    "scrolled": true
   },
   "outputs": [
    {
     "name": "stdout",
     "output_type": "stream",
     "text": [
      "+--------+-----------+-------------------+-------------------+----+------------------+--------------------+--------------------+------+--------+----+--------+----+--------------+--------+------------+------------+----+--------------------+------------+-------------+--------------------+\n",
      "|      ID|Case Number|               Date|              Block|IUCR|      Primary Type|         Description|Location Description|Arrest|Domestic|Beat|District|Ward|Community Area|FBI Code|X Coordinate|Y Coordinate|Year|          Updated On|    Latitude|    Longitude|            Location|\n",
      "+--------+-----------+-------------------+-------------------+----+------------------+--------------------+--------------------+------+--------+----+--------+----+--------------+--------+------------+------------+----+--------------------+------------+-------------+--------------------+\n",
      "|13498403|   JH309888|2024-05-31 00:00:00|055XX N SHERIDAN RD|1120|DECEPTIVE PRACTICE|             FORGERY|           RESIDENCE| false|   false|2023|     020|  48|            77|      10|     1168632|     1937168|2024|06/19/2024 03:41:...|41.983117874|-87.655172255|POINT (-87.655172...|\n",
      "|13491612|   JH301641|2024-05-31 00:00:00|   006XX E 100TH PL|0820|             THEFT|      $500 AND UNDER|              STREET| false|   false|0511|     005|   9|            49|      06|     1182479|     1838471|2024|06/13/2024 03:47:...|41.711975264|-87.607315217|POINT (-87.607315...|\n",
      "|13479388|   JH286734|2024-05-31 00:00:00| 008XX W EASTMAN ST|0810|             THEFT|           OVER $500|           RESIDENCE| false|   false|1822|     018|  27|             8|      06|     1170239|     1909604|2024|06/07/2024 03:41:...|41.907446122|-87.650070174|POINT (-87.650070...|\n",
      "|13481334|   JH289358|2024-05-31 00:00:00|    016XX E 53RD ST|0486|           BATTERY|DOMESTIC BATTERY ...|              STREET|  true|    true|0234|     002|   5|            41|     08B|     1187964|     1870443|2024|06/07/2024 03:41:...|41.799580705|-87.586211061|POINT (-87.586211...|\n",
      "|13481112|   JH288931|2024-05-31 00:00:00|  058XX S PEORIA ST|0810|             THEFT|           OVER $500|           RESIDENCE| false|   false|0712|     007|  16|            68|      06|     1171310|     1865948|2024|06/07/2024 03:41:...|41.787626912|-87.647416818|POINT (-87.647416...|\n",
      "+--------+-----------+-------------------+-------------------+----+------------------+--------------------+--------------------+------+--------+----+--------+----+--------------+--------+------------+------------+----+--------------------+------------+-------------+--------------------+\n",
      "only showing top 5 rows\n",
      "\n"
     ]
    }
   ],
   "source": [
    "from pyspark.sql.functions import to_timestamp,col,lit\n",
    "rc = spark.read.csv(local_file,header=True)\\\n",
    ".withColumn('Date',to_timestamp(col('Date'),'MM/dd/yyyy hh:mm:ss a'))\\\n",
    ".filter(col('Date') <= lit('2024-05-31'))\n",
    "rc.show(5)"
   ]
  },
  {
   "cell_type": "markdown",
   "metadata": {
    "id": "hgnCWSfNZsLV"
   },
   "source": [
    "**Add the reported crimes for an additional day, 12-Nov-2018, to our dataset.**"
   ]
  },
  {
   "cell_type": "code",
   "execution_count": 8,
   "metadata": {
    "colab": {
     "base_uri": "https://localhost:8080/"
    },
    "id": "808f1HzwgDyh",
    "outputId": "66340279-b4bf-4d65-90b2-03b188fe6d6f"
   },
   "outputs": [
    {
     "data": {
      "text/plain": [
       "102195"
      ]
     },
     "execution_count": 8,
     "metadata": {},
     "output_type": "execute_result"
    }
   ],
   "source": [
    "rc.count()"
   ]
  },
  {
   "cell_type": "markdown",
   "metadata": {
    "id": "WvOfJmzhf0kG"
   },
   "source": [
    "**FILER DAYS 2024-01-12 and 2024-01-13**"
   ]
  },
  {
   "cell_type": "code",
   "execution_count": 10,
   "metadata": {
    "colab": {
     "base_uri": "https://localhost:8080/"
    },
    "id": "PeeOFy5cgDRq",
    "outputId": "9fc1c580-5ecc-4bb3-c5ec-f582ec322853"
   },
   "outputs": [
    {
     "data": {
      "text/plain": [
       "13"
      ]
     },
     "execution_count": 10,
     "metadata": {},
     "output_type": "execute_result"
    }
   ],
   "source": [
    "one_day = spark.read.csv(local_file,header=True)\\\n",
    ".withColumn('Date',to_timestamp(col('Date'),'MM/dd/yyyy hh:mm:ss a'))\\\n",
    ".filter(col('Date') == lit('2024-01-12'))\n",
    "one_day.count()"
   ]
  },
  {
   "cell_type": "code",
   "execution_count": 11,
   "metadata": {
    "colab": {
     "base_uri": "https://localhost:8080/"
    },
    "id": "426sMiGuyTcU",
    "outputId": "0e7a8137-6153-4076-977c-244e3faea992"
   },
   "outputs": [
    {
     "data": {
      "text/plain": [
       "16"
      ]
     },
     "execution_count": 11,
     "metadata": {},
     "output_type": "execute_result"
    }
   ],
   "source": [
    "one_day2 = spark.read.csv(local_file,header=True)\\\n",
    ".withColumn('Date',to_timestamp(col('Date'),'MM/dd/yyyy hh:mm:ss a'))\\\n",
    ".filter(col('Date') == lit('2024-01-12'))\n",
    "one_day2.count()"
   ]
  },
  {
   "cell_type": "markdown",
   "metadata": {
    "id": "dBrMcURVzyGN"
   },
   "source": [
    "**UNION : APPEND ROWS**"
   ]
  },
  {
   "cell_type": "code",
   "execution_count": 12,
   "metadata": {
    "colab": {
     "base_uri": "https://localhost:8080/"
    },
    "id": "qLS_NEpEgDBJ",
    "outputId": "5404f56b-d710-497b-bb99-1ca714e530b2"
   },
   "outputs": [
    {
     "name": "stdout",
     "output_type": "stream",
     "text": [
      "+--------+-----------+-------------------+--------------------+----+--------------------+--------------------+--------------------+------+--------+----+--------+----+--------------+--------+------------+------------+----+--------------------+------------+-------------+--------------------+\n",
      "|      ID|Case Number|               Date|               Block|IUCR|        Primary Type|         Description|Location Description|Arrest|Domestic|Beat|District|Ward|Community Area|FBI Code|X Coordinate|Y Coordinate|Year|          Updated On|    Latitude|    Longitude|            Location|\n",
      "+--------+-----------+-------------------+--------------------+----+--------------------+--------------------+--------------------+------+--------+----+--------+----+--------------+--------+------------+------------+----+--------------------+------------+-------------+--------------------+\n",
      "|13354790|   JH135824|2024-01-13 00:00:00|037XX W FERDINAND ST|2826|       OTHER OFFENSE|HARASSMENT BY ELE...|           APARTMENT| false|    true|1122|     011|  27|            23|      26|     1151430|     1903073|2024|02/03/2024 03:40:...|41.889914754|-87.719335983|POINT (-87.719335...|\n",
      "|13337690|   JH115001|2024-01-13 00:00:00|055XX S HAMILTON AVE|0460|             BATTERY|              SIMPLE|            SIDEWALK| false|   false|0715|     007|  15|            67|     08B|     1162975|     1867834|2024|01/20/2024 03:41:...|41.792980746|-87.677925125|POINT (-87.677925...|\n",
      "|13338330|   JH115227|2024-01-13 00:00:00|  016XX S PAULINA ST|1320|     CRIMINAL DAMAGE|          TO VEHICLE|              STREET| false|   false|1234|     012|  25|            31|      14|     1165304|     1892021|2024|01/20/2024 03:41:...|41.859303418|-87.668698799|POINT (-87.668698...|\n",
      "|13337450|   JH114657|2024-01-13 00:00:00|     001XX W 95TH ST|0486|             BATTERY|DOMESTIC BATTERY ...|  GROCERY FOOD STORE| false|    true|0511|     005|   9|            49|     08B|     1176799|     1841956|2024|01/20/2024 03:41:...|41.721668118|-87.628012246|POINT (-87.628012...|\n",
      "|13338209|   JH115513|2024-01-13 00:00:00|095XX S CONSTANCE...|1154|  DECEPTIVE PRACTICE|FINANCIAL IDENTIT...|           APARTMENT| false|   false|0431|     004|   7|            51|      11|     1190181|     1842168|2024|01/20/2024 03:41:...|41.721938553|-87.578990155|POINT (-87.578990...|\n",
      "|13339618|   JH116706|2024-01-13 00:00:00|106XX S MACKINAW AVE|1310|     CRIMINAL DAMAGE|         TO PROPERTY|           RESIDENCE| false|   false|0432|     004|  10|            52|      14|     1200193|     1834922|2024|01/20/2024 03:41:...|41.701808323|-87.542562359|POINT (-87.542562...|\n",
      "|13336976|   JH114161|2024-01-13 00:00:00|   037XX W GEORGE ST|2820|       OTHER OFFENSE|    TELEPHONE THREAT|           APARTMENT| false|   false|2523|     025|  35|            21|     08A|     1150834|     1919022|2024|01/20/2024 03:41:...|41.933691987| -87.72110669|POINT (-87.721106...|\n",
      "|13337559|   JH114858|2024-01-13 00:00:00|     028XX W 71ST ST|0910| MOTOR VEHICLE THEFT|          AUTOMOBILE|              STREET| false|   false|0831|     008|  18|            66|      07|     1158502|     1857426|2024|01/20/2024 03:41:...|41.764512108|-87.694610688|POINT (-87.694610...|\n",
      "|13395718|   JH184792|2024-01-13 00:00:00| 017XX W WEBSTER AVE|0820|               THEFT|      $500 AND UNDER|           APARTMENT| false|   false|1432|     014|  32|            22|      06|     1164493|     1914684|2024|03/14/2024 03:47:...|41.921509632|-87.671033623|POINT (-87.671033...|\n",
      "|13376066|   JH160995|2024-01-13 00:00:00| 058XX S WESTERN AVE|1206|  DECEPTIVE PRACTICE|THEFT BY LESSEE, ...|COMMERCIAL / BUSI...| false|   false|0824|     008|  16|            63|      11|     1161368|     1865957|2024|02/23/2024 03:41:...|41.787863478|-87.683869834|POINT (-87.683869...|\n",
      "|13413335|   JH205665|2024-01-13 00:00:00|     001XX W 83RD ST|1153|  DECEPTIVE PRACTICE|FINANCIAL IDENTIT...|           RESIDENCE| false|   false|0622|     006|   6|            44|      11|     1176621|     1849944|2024|03/31/2024 03:40:...|41.743592217|-87.628424599|POINT (-87.628424...|\n",
      "|13338675|   JH116035|2024-01-13 00:00:00|  071XX S YATES BLVD|1310|     CRIMINAL DAMAGE|         TO PROPERTY|          RESTAURANT| false|   false|0334|     003|   5|            43|      14|     1193449|     1858049|2024|01/20/2024 03:41:...|41.765438165|-87.566501848|POINT (-87.566501...|\n",
      "|13340157|   JH117776|2024-01-13 00:00:00| 069XX S INDIANA AVE|1750|OFFENSE INVOLVING...|         CHILD ABUSE|           RESIDENCE| false|   false|0322|     003|   6|            69|     08B|     1178797|     1858895|2024|01/20/2024 03:41:...|41.768105576|-87.620179762|POINT (-87.620179...|\n",
      "|13367697|   JH151269|2024-01-12 00:00:00| 066XX N SHERIDAN RD|1153|  DECEPTIVE PRACTICE|FINANCIAL IDENTIT...|           APARTMENT| false|   false|2432|     024|  49|             1|      11|     1167039|     1944613|2024|02/15/2024 03:40:...| 42.00358158|-87.660815919|POINT (-87.660815...|\n",
      "|13345632|   JH124892|2024-01-12 00:00:00|070XX S CONSTANCE...|0560|             ASSAULT|              SIMPLE|           APARTMENT| false|   false|0332|     003|   5|            43|     08A|     1189760|     1858575|2024|01/24/2024 03:41:...|41.766971005|-87.580006077|POINT (-87.580006...|\n",
      "|13339631|   JH117464|2024-01-12 00:00:00|    014XX W LUNT AVE|1130|  DECEPTIVE PRACTICE|FRAUD OR CONFIDEN...|           APARTMENT| false|   false|2431|     024|  49|             1|      11|     1165385|     1946614|2024|01/19/2024 03:41:...|42.009107852|-87.666843608|POINT (-87.666843...|\n",
      "|13336927|   JH114112|2024-01-12 00:00:00|053XX N WINTHROP AVE|0920| MOTOR VEHICLE THEFT|ATTEMPT - AUTOMOBILE|              STREET| false|   false|2023|     020|  48|            77|      07|     1167907|     1935603|2024|01/19/2024 03:41:...|41.978839194| -87.65788403|POINT (-87.657884...|\n",
      "|13336891|   JH113848|2024-01-12 00:00:00|  006XX S RACINE AVE|0460|             BATTERY|              SIMPLE|            SIDEWALK| false|   false|1231|     012|  34|            28|     08B|     1168497|     1897409|2024|01/19/2024 03:41:...|41.874020099|-87.656822478|POINT (-87.656822...|\n",
      "|13354328|   JH135161|2024-01-12 00:00:00|    009XX S BELL AVE|1153|  DECEPTIVE PRACTICE|FINANCIAL IDENTIT...|           RESIDENCE| false|   false|1225|     012|  28|            28|      11|     1161526|     1895890|2024|02/02/2024 03:40:...|41.869999741|-87.682458985|POINT (-87.682458...|\n",
      "|13337333|   JH114422|2024-01-12 00:00:00|001XX N PARKSIDE AVE|1563|         SEX OFFENSE|CRIMINAL SEXUAL A...|           RESIDENCE| false|   false|1512|     015|  29|            25|      17|     1138575|     1900516|2024|01/19/2024 03:41:...| 41.88314073| -87.76660788|POINT (-87.766607...|\n",
      "+--------+-----------+-------------------+--------------------+----+--------------------+--------------------+--------------------+------+--------+----+--------+----+--------------+--------+------------+------------+----+--------------------+------------+-------------+--------------------+\n",
      "only showing top 20 rows\n",
      "\n"
     ]
    }
   ],
   "source": [
    "one_day.union(one_day2).orderBy('Date', ascending=False).show()"
   ]
  },
  {
   "cell_type": "markdown",
   "metadata": {
    "id": "bp8co-36ykT0"
   },
   "source": [
    "**COUNT and GROUP BY**"
   ]
  },
  {
   "cell_type": "code",
   "execution_count": 13,
   "metadata": {
    "colab": {
     "base_uri": "https://localhost:8080/"
    },
    "id": "JkUF4yJFgG25",
    "outputId": "b4c323cb-6450-4f86-d295-2a65ad15ea93"
   },
   "outputs": [
    {
     "name": "stdout",
     "output_type": "stream",
     "text": [
      "+--------------------+-----+\n",
      "|        Primary Type|count|\n",
      "+--------------------+-----+\n",
      "|OFFENSE INVOLVING...|  769|\n",
      "|CRIMINAL SEXUAL A...|  592|\n",
      "|            STALKING|  178|\n",
      "|PUBLIC PEACE VIOL...|  352|\n",
      "|           OBSCENITY|   26|\n",
      "|               ARSON|  196|\n",
      "|            GAMBLING|    7|\n",
      "|   CRIMINAL TRESPASS| 1946|\n",
      "|             ASSAULT| 9516|\n",
      "|LIQUOR LAW VIOLATION|   85|\n",
      "| MOTOR VEHICLE THEFT| 8907|\n",
      "|               THEFT|22681|\n",
      "|             BATTERY|18514|\n",
      "|             ROBBERY| 3622|\n",
      "|            HOMICIDE|  207|\n",
      "|    PUBLIC INDECENCY|    4|\n",
      "|        INTIMIDATION|   65|\n",
      "|        PROSTITUTION|   94|\n",
      "|  DECEPTIVE PRACTICE| 6391|\n",
      "|CONCEALED CARRY L...|   66|\n",
      "+--------------------+-----+\n",
      "only showing top 20 rows\n",
      "\n"
     ]
    }
   ],
   "source": [
    "rc.groupBy('Primary Type').count().show()"
   ]
  },
  {
   "cell_type": "markdown",
   "metadata": {
    "id": "T2bnJHrGxT_1"
   },
   "source": [
    "**What are the top 10 number of reported crimes by Primary type, in descending order of occurence?**"
   ]
  },
  {
   "cell_type": "code",
   "execution_count": 14,
   "metadata": {},
   "outputs": [
    {
     "name": "stdout",
     "output_type": "stream",
     "text": [
      "+-------------------+-----+\n",
      "|       Primary Type|count|\n",
      "+-------------------+-----+\n",
      "|              THEFT|22681|\n",
      "|            BATTERY|18514|\n",
      "|    CRIMINAL DAMAGE|11304|\n",
      "|            ASSAULT| 9516|\n",
      "|MOTOR VEHICLE THEFT| 8907|\n",
      "|      OTHER OFFENSE| 7153|\n",
      "| DECEPTIVE PRACTICE| 6391|\n",
      "|            ROBBERY| 3622|\n",
      "|  WEAPONS VIOLATION| 3240|\n",
      "|           BURGLARY| 3015|\n",
      "+-------------------+-----+\n",
      "only showing top 10 rows\n",
      "\n"
     ]
    }
   ],
   "source": [
    "rc.groupBy('Primary Type').count().orderBy('count', ascending=False).show(10)"
   ]
  }
 ],
 "metadata": {
  "colab": {
   "include_colab_link": true,
   "name": "Working_with_rows.ipynb",
   "provenance": []
  },
  "kernelspec": {
   "display_name": "Python 3 (ipykernel)",
   "language": "python",
   "name": "python3"
  },
  "language_info": {
   "codemirror_mode": {
    "name": "ipython",
    "version": 3
   },
   "file_extension": ".py",
   "mimetype": "text/x-python",
   "name": "python",
   "nbconvert_exporter": "python",
   "pygments_lexer": "ipython3",
   "version": "3.11.6"
  }
 },
 "nbformat": 4,
 "nbformat_minor": 4
}
