{
 "cells": [
  {
   "cell_type": "markdown",
   "metadata": {
    "colab_type": "text",
    "id": "view-in-github"
   },
   "source": [
    "<a href=\"https://colab.research.google.com/gist/abdelhaqs/41ffb651d9f69aad6b2ba75d91158ff1/working_with_columns.ipynb\" target=\"_parent\"><img src=\"https://colab.research.google.com/assets/colab-badge.svg\" alt=\"Open In Colab\"/></a>"
   ]
  },
  {
   "cell_type": "markdown",
   "metadata": {
    "id": "8qf-TmnsBgXd"
   },
   "source": [
    "# Working with columns"
   ]
  },
  {
   "cell_type": "code",
   "execution_count": 5,
   "metadata": {},
   "outputs": [],
   "source": [
    "from pyspark.sql import SparkSession\n",
    "from pyspark.sql.functions import to_timestamp,col,lit"
   ]
  },
  {
   "cell_type": "code",
   "execution_count": 6,
   "metadata": {},
   "outputs": [],
   "source": [
    "# Create SparkSession\n",
    "spark = SparkSession.builder\\\n",
    "             .appName(\"spark-app-version-x\")\\\n",
    "             .getOrCreate()"
   ]
  },
  {
   "cell_type": "code",
   "execution_count": 23,
   "metadata": {
    "colab": {
     "base_uri": "https://localhost:8080/"
    },
    "id": "9-1cK0nPNS95",
    "outputId": "ea13b407-5d21-498c-eb74-fc4a25bc2c42"
   },
   "outputs": [
    {
     "name": "stdout",
     "output_type": "stream",
     "text": [
      "+--------+-----------+-------------------+-------------------+----+------------------+--------------------+--------------------+------+--------+----+--------+----+--------------+--------+------------+------------+----+--------------------+------------+-------------+--------------------+\n",
      "|      ID|Case Number|               Date|              Block|IUCR|      Primary Type|         Description|Location Description|Arrest|Domestic|Beat|District|Ward|Community Area|FBI Code|X Coordinate|Y Coordinate|Year|          Updated On|    Latitude|    Longitude|            Location|\n",
      "+--------+-----------+-------------------+-------------------+----+------------------+--------------------+--------------------+------+--------+----+--------+----+--------------+--------+------------+------------+----+--------------------+------------+-------------+--------------------+\n",
      "|13498403|   JH309888|2024-05-31 00:00:00|055XX N SHERIDAN RD|1120|DECEPTIVE PRACTICE|             FORGERY|           RESIDENCE| false|   false|2023|     020|  48|            77|      10|     1168632|     1937168|2024|06/19/2024 03:41:...|41.983117874|-87.655172255|POINT (-87.655172...|\n",
      "|13491612|   JH301641|2024-05-31 00:00:00|   006XX E 100TH PL|0820|             THEFT|      $500 AND UNDER|              STREET| false|   false|0511|     005|   9|            49|      06|     1182479|     1838471|2024|06/13/2024 03:47:...|41.711975264|-87.607315217|POINT (-87.607315...|\n",
      "|13479388|   JH286734|2024-05-31 00:00:00| 008XX W EASTMAN ST|0810|             THEFT|           OVER $500|           RESIDENCE| false|   false|1822|     018|  27|             8|      06|     1170239|     1909604|2024|06/07/2024 03:41:...|41.907446122|-87.650070174|POINT (-87.650070...|\n",
      "|13481334|   JH289358|2024-05-31 00:00:00|    016XX E 53RD ST|0486|           BATTERY|DOMESTIC BATTERY ...|              STREET|  true|    true|0234|     002|   5|            41|     08B|     1187964|     1870443|2024|06/07/2024 03:41:...|41.799580705|-87.586211061|POINT (-87.586211...|\n",
      "|13481112|   JH288931|2024-05-31 00:00:00|  058XX S PEORIA ST|0810|             THEFT|           OVER $500|           RESIDENCE| false|   false|0712|     007|  16|            68|      06|     1171310|     1865948|2024|06/07/2024 03:41:...|41.787626912|-87.647416818|POINT (-87.647416...|\n",
      "+--------+-----------+-------------------+-------------------+----+------------------+--------------------+--------------------+------+--------+----+--------+----+--------------+--------+------------+------------+----+--------------------+------------+-------------+--------------------+\n",
      "only showing top 5 rows\n",
      "\n"
     ]
    }
   ],
   "source": [
    "local_file = '../datasets/csv/'\n",
    "rc = spark.read.csv(local_file,header=True)\\\n",
    ".withColumn('Date',to_timestamp(col('Date'),'MM/dd/yyyy hh:mm:ss a'))\\\n",
    ".filter(col('Date') <= lit('2024-05-31'))\n",
    "\n",
    "rc.show(5)"
   ]
  },
  {
   "cell_type": "markdown",
   "metadata": {
    "id": "mI_zYOVpf2yK"
   },
   "source": [
    "## Working with columns"
   ]
  },
  {
   "cell_type": "markdown",
   "metadata": {
    "id": "WvOfJmzhf0kG"
   },
   "source": [
    "**Display only the first 5 rows of the column name IUCR **\n",
    "\n",
    "**Spark can infer the schema by default.\n",
    "Spark takes a look at a couple of rows of the data, and tries to determine what kind of column each should be.**\n",
    "\n",
    "**in a production environment, you want to explicitly define your schemas.**"
   ]
  },
  {
   "cell_type": "code",
   "execution_count": 24,
   "metadata": {
    "colab": {
     "base_uri": "https://localhost:8080/"
    },
    "id": "808f1HzwgDyh",
    "outputId": "6713958f-1207-489a-842d-897c41c93f4d"
   },
   "outputs": [
    {
     "name": "stdout",
     "output_type": "stream",
     "text": [
      "root\n",
      " |-- ID: string (nullable = true)\n",
      " |-- Case Number: string (nullable = true)\n",
      " |-- Date: timestamp (nullable = true)\n",
      " |-- Block: string (nullable = true)\n",
      " |-- IUCR: string (nullable = true)\n",
      " |-- Primary Type: string (nullable = true)\n",
      " |-- Description: string (nullable = true)\n",
      " |-- Location Description: string (nullable = true)\n",
      " |-- Arrest: string (nullable = true)\n",
      " |-- Domestic: string (nullable = true)\n",
      " |-- Beat: string (nullable = true)\n",
      " |-- District: string (nullable = true)\n",
      " |-- Ward: string (nullable = true)\n",
      " |-- Community Area: string (nullable = true)\n",
      " |-- FBI Code: string (nullable = true)\n",
      " |-- X Coordinate: string (nullable = true)\n",
      " |-- Y Coordinate: string (nullable = true)\n",
      " |-- Year: string (nullable = true)\n",
      " |-- Updated On: string (nullable = true)\n",
      " |-- Latitude: string (nullable = true)\n",
      " |-- Longitude: string (nullable = true)\n",
      " |-- Location: string (nullable = true)\n",
      "\n"
     ]
    }
   ],
   "source": [
    "rc.printSchema()"
   ]
  },
  {
   "cell_type": "markdown",
   "metadata": {
    "id": "BjGTq80OTkuD"
   },
   "source": [
    "**in a production environment, you want to explicitly define your schemas.**"
   ]
  },
  {
   "cell_type": "code",
   "execution_count": 25,
   "metadata": {
    "id": "PeeOFy5cgDRq"
   },
   "outputs": [],
   "source": [
    "from pyspark.sql.types import StructType, StructField, StringType, TimestampType, BooleanType, DoubleType, IntegerType"
   ]
  },
  {
   "cell_type": "code",
   "execution_count": 26,
   "metadata": {
    "id": "qLS_NEpEgDBJ"
   },
   "outputs": [],
   "source": [
    "labels = [\n",
    "('ID',StringType()),\n",
    "('Case Number',StringType()), \n",
    "('Date',TimestampType()), (\n",
    "'Block',StringType()), \n",
    "('IUCR',StringType()),\n",
    "('Primary Type',StringType()), \n",
    "('Description',StringType()), \n",
    "('Location Description',StringType()), \n",
    "('Arrest',StringType()), \n",
    "('Domestic',BooleanType()), \n",
    "('Beat',StringType()), \n",
    "('District',StringType()), \n",
    "('Ward',StringType()),\n",
    "('Community Area',StringType()), \n",
    "('FBI Code',StringType()),\n",
    "('X Coordinate',StringType()), \n",
    "('Y Coordinate',StringType()), \n",
    "('Year',IntegerType()),\n",
    "('Updated On',StringType()), \n",
    "('Latitude',DoubleType()), \n",
    "('Longitude',DoubleType()),\n",
    "('Location',StringType())\n",
    "]\n"
   ]
  },
  {
   "cell_type": "code",
   "execution_count": 27,
   "metadata": {
    "colab": {
     "base_uri": "https://localhost:8080/"
    },
    "id": "E7NuMVpygC2h",
    "outputId": "37d57ff1-0104-4675-97bc-d9b8d1917a58"
   },
   "outputs": [
    {
     "data": {
      "text/plain": [
       "StructType([StructField('ID', StringType(), True), StructField('Case Number', StringType(), True), StructField('Date', TimestampType(), True), StructField('Block', StringType(), True), StructField('IUCR', StringType(), True), StructField('Primary Type', StringType(), True), StructField('Description', StringType(), True), StructField('Location Description', StringType(), True), StructField('Arrest', StringType(), True), StructField('Domestic', BooleanType(), True), StructField('Beat', StringType(), True), StructField('District', StringType(), True), StructField('Ward', StringType(), True), StructField('Community Area', StringType(), True), StructField('FBI Code', StringType(), True), StructField('X Coordinate', StringType(), True), StructField('Y Coordinate', StringType(), True), StructField('Year', IntegerType(), True), StructField('Updated On', StringType(), True), StructField('Latitude', DoubleType(), True), StructField('Longitude', DoubleType(), True), StructField('Location', StringType(), True)])"
      ]
     },
     "execution_count": 27,
     "metadata": {},
     "output_type": "execute_result"
    }
   ],
   "source": [
    "Myschema = StructType([StructField (x[0] ,x[1], True) for x in labels])\n",
    "Myschema"
   ]
  },
  {
   "cell_type": "code",
   "execution_count": 28,
   "metadata": {
    "colab": {
     "base_uri": "https://localhost:8080/"
    },
    "id": "gxvp9zold59Y",
    "outputId": "57cb4a01-1ba9-4e0b-a249-87e55d2cac02"
   },
   "outputs": [
    {
     "name": "stdout",
     "output_type": "stream",
     "text": [
      "root\n",
      " |-- ID: string (nullable = true)\n",
      " |-- Case Number: string (nullable = true)\n",
      " |-- Date: timestamp (nullable = true)\n",
      " |-- Block: string (nullable = true)\n",
      " |-- IUCR: string (nullable = true)\n",
      " |-- Primary Type: string (nullable = true)\n",
      " |-- Description: string (nullable = true)\n",
      " |-- Location Description: string (nullable = true)\n",
      " |-- Arrest: string (nullable = true)\n",
      " |-- Domestic: boolean (nullable = true)\n",
      " |-- Beat: string (nullable = true)\n",
      " |-- District: string (nullable = true)\n",
      " |-- Ward: string (nullable = true)\n",
      " |-- Community Area: string (nullable = true)\n",
      " |-- FBI Code: string (nullable = true)\n",
      " |-- X Coordinate: string (nullable = true)\n",
      " |-- Y Coordinate: string (nullable = true)\n",
      " |-- Year: integer (nullable = true)\n",
      " |-- Updated On: string (nullable = true)\n",
      " |-- Latitude: double (nullable = true)\n",
      " |-- Longitude: double (nullable = true)\n",
      " |-- Location: string (nullable = true)\n",
      "\n"
     ]
    }
   ],
   "source": [
    "rc2 = spark.read.csv(local_file,schema=Myschema)\n",
    "rc2.printSchema()"
   ]
  },
  {
   "cell_type": "code",
   "execution_count": 29,
   "metadata": {
    "colab": {
     "base_uri": "https://localhost:8080/"
    },
    "id": "PGg06P7NecxT",
    "outputId": "472cc5b5-3a50-4313-b78e-fce162d47569"
   },
   "outputs": [
    {
     "name": "stdout",
     "output_type": "stream",
     "text": [
      "+--------+-----------+-------------------+-------------------+----+------------------+--------------+--------------------+------+--------+----+--------+----+--------------+--------+------------+------------+----+--------------------+------------+-------------+--------------------+\n",
      "|      ID|Case Number|               Date|              Block|IUCR|      Primary Type|   Description|Location Description|Arrest|Domestic|Beat|District|Ward|Community Area|FBI Code|X Coordinate|Y Coordinate|Year|          Updated On|    Latitude|    Longitude|            Location|\n",
      "+--------+-----------+-------------------+-------------------+----+------------------+--------------+--------------------+------+--------+----+--------+----+--------------+--------+------------+------------+----+--------------------+------------+-------------+--------------------+\n",
      "|13498403|   JH309888|2024-05-31 00:00:00|055XX N SHERIDAN RD|1120|DECEPTIVE PRACTICE|       FORGERY|           RESIDENCE| false|   false|2023|     020|  48|            77|      10|     1168632|     1937168|2024|06/19/2024 03:41:...|41.983117874|-87.655172255|POINT (-87.655172...|\n",
      "|13491612|   JH301641|2024-05-31 00:00:00|   006XX E 100TH PL|0820|             THEFT|$500 AND UNDER|              STREET| false|   false|0511|     005|   9|            49|      06|     1182479|     1838471|2024|06/13/2024 03:47:...|41.711975264|-87.607315217|POINT (-87.607315...|\n",
      "|13479388|   JH286734|2024-05-31 00:00:00| 008XX W EASTMAN ST|0810|             THEFT|     OVER $500|           RESIDENCE| false|   false|1822|     018|  27|             8|      06|     1170239|     1909604|2024|06/07/2024 03:41:...|41.907446122|-87.650070174|POINT (-87.650070...|\n",
      "+--------+-----------+-------------------+-------------------+----+------------------+--------------+--------------------+------+--------+----+--------+----+--------------+--------+------------+------------+----+--------------------+------------+-------------+--------------------+\n",
      "only showing top 3 rows\n",
      "\n"
     ]
    }
   ],
   "source": [
    "rc.show(3)"
   ]
  },
  {
   "cell_type": "markdown",
   "metadata": {
    "id": "sqKVhTd7f5eV"
   },
   "source": [
    "**Display only the first 5 rows of the column name IUCR**\n",
    "\n"
   ]
  },
  {
   "cell_type": "code",
   "execution_count": 30,
   "metadata": {
    "colab": {
     "base_uri": "https://localhost:8080/"
    },
    "id": "QpQAywqjgNP5",
    "outputId": "c2aa8c6c-7df0-462e-e5a6-8abd6d1f7b2d"
   },
   "outputs": [
    {
     "name": "stdout",
     "output_type": "stream",
     "text": [
      "+----+\n",
      "|IUCR|\n",
      "+----+\n",
      "|1120|\n",
      "|0820|\n",
      "|0810|\n",
      "|0486|\n",
      "|0810|\n",
      "+----+\n",
      "only showing top 5 rows\n",
      "\n"
     ]
    }
   ],
   "source": [
    "rc.select('IUCR').show(5)"
   ]
  },
  {
   "cell_type": "code",
   "execution_count": null,
   "metadata": {
    "id": "yE_Xrp6bgqmM"
   },
   "outputs": [],
   "source": []
  },
  {
   "cell_type": "markdown",
   "metadata": {
    "id": "A4u5vp73gEtB"
   },
   "source": [
    "  **Display only the first 4 rows of the column names Case Number, Date and Arrest**"
   ]
  },
  {
   "cell_type": "code",
   "execution_count": 31,
   "metadata": {
    "colab": {
     "base_uri": "https://localhost:8080/"
    },
    "id": "ugRDxNwNgHNa",
    "outputId": "d08e10a5-d0e3-4cf9-c51f-44fcfd279009"
   },
   "outputs": [
    {
     "name": "stdout",
     "output_type": "stream",
     "text": [
      "+-----------+-------------------+------+\n",
      "|Case Number|               Date|Arrest|\n",
      "+-----------+-------------------+------+\n",
      "|   JH309888|2024-05-31 00:00:00| false|\n",
      "|   JH301641|2024-05-31 00:00:00| false|\n",
      "|   JH286734|2024-05-31 00:00:00| false|\n",
      "|   JH289358|2024-05-31 00:00:00|  true|\n",
      "+-----------+-------------------+------+\n",
      "only showing top 4 rows\n",
      "\n"
     ]
    }
   ],
   "source": [
    "rc.select('Case Number', 'Date', 'Arrest' ).show(4)"
   ]
  },
  {
   "cell_type": "markdown",
   "metadata": {
    "id": "GKnmLXJWr35c"
   },
   "source": [
    "** Add a column with name One, with entries all 1s **"
   ]
  },
  {
   "cell_type": "code",
   "execution_count": 32,
   "metadata": {
    "colab": {
     "base_uri": "https://localhost:8080/"
    },
    "id": "_OhKvPoItNtK",
    "outputId": "3c1ef562-4e7f-45bc-9c8c-84f4e84e9445"
   },
   "outputs": [
    {
     "name": "stdout",
     "output_type": "stream",
     "text": [
      "+--------+-----------+-------------------+-------------------+----+------------------+--------------------+--------------------+------+--------+----+--------+----+--------------+--------+------------+------------+----+--------------------+------------+-------------+--------------------+---+\n",
      "|      ID|Case Number|               Date|              Block|IUCR|      Primary Type|         Description|Location Description|Arrest|Domestic|Beat|District|Ward|Community Area|FBI Code|X Coordinate|Y Coordinate|Year|          Updated On|    Latitude|    Longitude|            Location|One|\n",
      "+--------+-----------+-------------------+-------------------+----+------------------+--------------------+--------------------+------+--------+----+--------+----+--------------+--------+------------+------------+----+--------------------+------------+-------------+--------------------+---+\n",
      "|13498403|   JH309888|2024-05-31 00:00:00|055XX N SHERIDAN RD|1120|DECEPTIVE PRACTICE|             FORGERY|           RESIDENCE| false|   false|2023|     020|  48|            77|      10|     1168632|     1937168|2024|06/19/2024 03:41:...|41.983117874|-87.655172255|POINT (-87.655172...|  1|\n",
      "|13491612|   JH301641|2024-05-31 00:00:00|   006XX E 100TH PL|0820|             THEFT|      $500 AND UNDER|              STREET| false|   false|0511|     005|   9|            49|      06|     1182479|     1838471|2024|06/13/2024 03:47:...|41.711975264|-87.607315217|POINT (-87.607315...|  1|\n",
      "|13479388|   JH286734|2024-05-31 00:00:00| 008XX W EASTMAN ST|0810|             THEFT|           OVER $500|           RESIDENCE| false|   false|1822|     018|  27|             8|      06|     1170239|     1909604|2024|06/07/2024 03:41:...|41.907446122|-87.650070174|POINT (-87.650070...|  1|\n",
      "|13481334|   JH289358|2024-05-31 00:00:00|    016XX E 53RD ST|0486|           BATTERY|DOMESTIC BATTERY ...|              STREET|  true|    true|0234|     002|   5|            41|     08B|     1187964|     1870443|2024|06/07/2024 03:41:...|41.799580705|-87.586211061|POINT (-87.586211...|  1|\n",
      "|13481112|   JH288931|2024-05-31 00:00:00|  058XX S PEORIA ST|0810|             THEFT|           OVER $500|           RESIDENCE| false|   false|0712|     007|  16|            68|      06|     1171310|     1865948|2024|06/07/2024 03:41:...|41.787626912|-87.647416818|POINT (-87.647416...|  1|\n",
      "+--------+-----------+-------------------+-------------------+----+------------------+--------------------+--------------------+------+--------+----+--------+----+--------------+--------+------------+------------+----+--------------------+------------+-------------+--------------------+---+\n",
      "only showing top 5 rows\n",
      "\n"
     ]
    }
   ],
   "source": [
    "rc.withColumn('One', lit(1)).show(5)"
   ]
  },
  {
   "cell_type": "code",
   "execution_count": null,
   "metadata": {
    "id": "LsweBKZNuHzA"
   },
   "outputs": [],
   "source": []
  },
  {
   "cell_type": "markdown",
   "metadata": {
    "id": "BKV2ymA2uI2h"
   },
   "source": [
    "** Remove the column IUCR **"
   ]
  },
  {
   "cell_type": "code",
   "execution_count": 36,
   "metadata": {
    "colab": {
     "base_uri": "https://localhost:8080/"
    },
    "id": "3wr2Q9djtXBV",
    "outputId": "0824c484-6639-4fd4-b5fd-317ab9a5231c"
   },
   "outputs": [
    {
     "name": "stdout",
     "output_type": "stream",
     "text": [
      "+--------+-----------+-------------------+-------------------+------------------+--------------------+--------------------+------+--------+----+--------+----+--------------+--------+------------+------------+----+--------------------+------------+-------------+--------------------+\n",
      "|      ID|Case Number|               Date|              Block|      Primary Type|         Description|Location Description|Arrest|Domestic|Beat|District|Ward|Community Area|FBI Code|X Coordinate|Y Coordinate|Year|          Updated On|    Latitude|    Longitude|            Location|\n",
      "+--------+-----------+-------------------+-------------------+------------------+--------------------+--------------------+------+--------+----+--------+----+--------------+--------+------------+------------+----+--------------------+------------+-------------+--------------------+\n",
      "|13498403|   JH309888|2024-05-31 00:00:00|055XX N SHERIDAN RD|DECEPTIVE PRACTICE|             FORGERY|           RESIDENCE| false|   false|2023|     020|  48|            77|      10|     1168632|     1937168|2024|06/19/2024 03:41:...|41.983117874|-87.655172255|POINT (-87.655172...|\n",
      "|13491612|   JH301641|2024-05-31 00:00:00|   006XX E 100TH PL|             THEFT|      $500 AND UNDER|              STREET| false|   false|0511|     005|   9|            49|      06|     1182479|     1838471|2024|06/13/2024 03:47:...|41.711975264|-87.607315217|POINT (-87.607315...|\n",
      "|13479388|   JH286734|2024-05-31 00:00:00| 008XX W EASTMAN ST|             THEFT|           OVER $500|           RESIDENCE| false|   false|1822|     018|  27|             8|      06|     1170239|     1909604|2024|06/07/2024 03:41:...|41.907446122|-87.650070174|POINT (-87.650070...|\n",
      "|13481334|   JH289358|2024-05-31 00:00:00|    016XX E 53RD ST|           BATTERY|DOMESTIC BATTERY ...|              STREET|  true|    true|0234|     002|   5|            41|     08B|     1187964|     1870443|2024|06/07/2024 03:41:...|41.799580705|-87.586211061|POINT (-87.586211...|\n",
      "|13481112|   JH288931|2024-05-31 00:00:00|  058XX S PEORIA ST|             THEFT|           OVER $500|           RESIDENCE| false|   false|0712|     007|  16|            68|      06|     1171310|     1865948|2024|06/07/2024 03:41:...|41.787626912|-87.647416818|POINT (-87.647416...|\n",
      "+--------+-----------+-------------------+-------------------+------------------+--------------------+--------------------+------+--------+----+--------+----+--------------+--------+------------+------------+----+--------------------+------------+-------------+--------------------+\n",
      "only showing top 5 rows\n",
      "\n"
     ]
    }
   ],
   "source": [
    "rc= rc.drop('IUCR')\n",
    "rc.show(5)"
   ]
  },
  {
   "cell_type": "code",
   "execution_count": null,
   "metadata": {
    "id": "3HBJev2Ctdbo"
   },
   "outputs": [],
   "source": []
  }
 ],
 "metadata": {
  "colab": {
   "collapsed_sections": [
    "Dd6t0uFzuR4X",
    "FEuEkV0BlzAD",
    "0ysUlfFrN5OD"
   ],
   "include_colab_link": true,
   "name": "Working_with_columns.ipynb",
   "provenance": []
  },
  "kernelspec": {
   "display_name": "Python 3 (ipykernel)",
   "language": "python",
   "name": "python3"
  },
  "language_info": {
   "codemirror_mode": {
    "name": "ipython",
    "version": 3
   },
   "file_extension": ".py",
   "mimetype": "text/x-python",
   "name": "python",
   "nbconvert_exporter": "python",
   "pygments_lexer": "ipython3",
   "version": "3.11.6"
  }
 },
 "nbformat": 4,
 "nbformat_minor": 4
}
