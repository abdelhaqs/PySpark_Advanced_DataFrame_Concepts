{
 "cells": [
  {
   "cell_type": "code",
   "execution_count": 2,
   "id": "2cd6f2ea-fdd6-4b93-9997-68cfdf38e49e",
   "metadata": {},
   "outputs": [],
   "source": [
    "!wget -O reported-crimes.csv https://data.cityofchicago.org/api/views/9hwr-2zxp/rows.csv?accessType=DOWNLOAD\n",
    "!mv reported-crimes.csv datasets/sparkbyexamples/\n",
    "\n",
    "!wget -O police-stations.csv https://data.cityofchicago.org/api/views/z8bn-74gv/rows.csv?accessType=DOWNLOAD\n",
    "!mv police-stations.csv datasets/sparkbyexamples/"
   ]
  },
  {
   "cell_type": "code",
   "execution_count": 4,
   "id": "40885bf1-2863-40ad-b358-3edec49abae0",
   "metadata": {},
   "outputs": [],
   "source": [
    "from pyspark.sql import SparkSession\n",
    "datasets/sparkbyexamples/spark = SparkSession.builder.getOrCreate()"
   ]
  },
  {
   "cell_type": "code",
   "execution_count": 12,
   "id": "3bdca745-4da4-49e7-b45d-fb93bdb2926e",
   "metadata": {},
   "outputs": [
    {
     "name": "stdout",
     "output_type": "stream",
     "text": [
      "total 63080\n",
      "-rw-rw-rw- 1 jovyan root    143130 Dec  5 18:00 appl_stock.csv\n",
      "-rw-rw-rw- 1 jovyan root    884736 Dec  5 18:00 chinook.db\n",
      "-rw-rw-rw- 1 jovyan root    305596 Dec  5 18:00 chinook.zip\n",
      "-rw-rw-rw- 1 jovyan root        73 Dec  5 18:00 people.json\n",
      "-rw-rw-rw- 1 jovyan users     5699 Aug 19  2019 police-stations.csv\n",
      "-rw-rw-rw- 1 jovyan users 57191981 Dec  5 12:00 reported-crimes.csv\n",
      "-rw-rw-rw- 1 jovyan root       196 Dec  5 18:00 sales_info.csv\n",
      "-rw-rw-rw- 1 jovyan root   6043326 Dec  5 18:00 sqlite_latest.jar\n"
     ]
    }
   ],
   "source": [
    "!ls -l datasets/sparkbyexamples/"
   ]
  },
  {
   "cell_type": "code",
   "execution_count": 6,
   "id": "e290b242-f983-48d7-bbfb-2f370ade3f3e",
   "metadata": {},
   "outputs": [],
   "source": [
    "rc_path='datasets/sparkbyexamples/reported-crimes.csv'\n",
    "rc= spark.read.csv(rc_path, header=True)"
   ]
  },
  {
   "cell_type": "code",
   "execution_count": 8,
   "id": "ad1a4fef-7f60-4087-9e84-1d2fa042a99b",
   "metadata": {},
   "outputs": [
    {
     "name": "stdout",
     "output_type": "stream",
     "text": [
      "+--------+-----------+--------------------+--------------------+----+-------------+--------------------+--------------------+------+--------+----+--------+----+--------------+--------+------------+------------+----+--------------------+------------+-------------+--------------------+\n",
      "|      ID|Case Number|                Date|               Block|IUCR| Primary Type|         Description|Location Description|Arrest|Domestic|Beat|District|Ward|Community Area|FBI Code|X Coordinate|Y Coordinate|Year|          Updated On|    Latitude|    Longitude|            Location|\n",
      "+--------+-----------+--------------------+--------------------+----+-------------+--------------------+--------------------+------+--------+----+--------+----+--------------+--------+------------+------------+----+--------------------+------------+-------------+--------------------+\n",
      "|12592454|   JF113025|01/14/2022 03:55:...|   067XX S MORGAN ST|2826|OTHER OFFENSE|HARASSMENT BY ELE...|           RESIDENCE| false|    true|0724|     007|  16|            68|      26|     1170805|     1860170|2022|09/14/2023 03:41:...|41.771782439|-87.649436929|(41.771782439, -8...|\n",
      "|12785595|   JF346553|08/05/2022 09:00:...|072XX S UNIVERSIT...|1544|  SEX OFFENSE|SEXUAL EXPLOITATI...|           APARTMENT|  true|   false|0324|     003|   5|            69|      17|     1185135|     1857211|2022|09/14/2023 03:41:...|41.763337967|-87.597001131|(41.763337967, -8...|\n",
      "|12808281|   JF373517|08/14/2022 02:00:...| 055XX W ARDMORE AVE|1562|  SEX OFFENSE|AGGRAVATED CRIMIN...|           RESIDENCE| false|   false|1621|     016|  39|            11|      17|     1138383|     1937953|2022|09/14/2023 03:41:...|41.985875279|-87.766403857|(41.985875279, -8...|\n",
      "+--------+-----------+--------------------+--------------------+----+-------------+--------------------+--------------------+------+--------+----+--------+----+--------------+--------+------------+------------+----+--------------------+------------+-------------+--------------------+\n",
      "only showing top 3 rows\n",
      "\n"
     ]
    }
   ],
   "source": [
    "rc.show(3)"
   ]
  },
  {
   "cell_type": "code",
   "execution_count": 9,
   "id": "b6207e13-8ede-4a78-a8a6-261f39aa5d3a",
   "metadata": {},
   "outputs": [
    {
     "name": "stdout",
     "output_type": "stream",
     "text": [
      "+------------+-------------+-------------------+-------+-----+-----+--------------------+------------+------------+------------+------------+------------+-----------+------------+--------------------+\n",
      "|    DISTRICT|DISTRICT NAME|            ADDRESS|   CITY|STATE|  ZIP|             WEBSITE|       PHONE|         FAX|         TTY|X COORDINATE|Y COORDINATE|   LATITUDE|   LONGITUDE|            LOCATION|\n",
      "+------------+-------------+-------------------+-------+-----+-----+--------------------+------------+------------+------------+------------+------------+-----------+------------+--------------------+\n",
      "|Headquarters| Headquarters|3510 S Michigan Ave|Chicago|   IL|60653|http://home.chica...|        NULL|        NULL|        NULL| 1177731.401| 1881697.404|41.83070169|-87.62339535|(41.8307016873, -...|\n",
      "|          18|   Near North| 1160 N Larrabee St|Chicago|   IL|60610|http://home.chica...|312-742-5870|312-742-5771|312-742-5773| 1172080.029| 1908086.527|41.90324165|-87.64335214|(41.9032416531, -...|\n",
      "|          19|    Town Hall|   850 W Addison St|Chicago|   IL|60613|http://home.chica...|312-744-8320|312-744-4481|312-744-8011| 1169730.744| 1924160.317|41.94740046|-87.65151202|(41.9474004564, -...|\n",
      "+------------+-------------+-------------------+-------+-----+-----+--------------------+------------+------------+------------+------------+------------+-----------+------------+--------------------+\n",
      "only showing top 3 rows\n",
      "\n"
     ]
    }
   ],
   "source": [
    "ps_path='datasets/sparkbyexamples/police-stations.csv'\n",
    "rc= spark.read.csv(ps_path, header=True)\n",
    "rc.show(3)"
   ]
  }
 ],
 "metadata": {
  "kernelspec": {
   "display_name": "Python 3 (ipykernel)",
   "language": "python",
   "name": "python3"
  },
  "language_info": {
   "codemirror_mode": {
    "name": "ipython",
    "version": 3
   },
   "file_extension": ".py",
   "mimetype": "text/x-python",
   "name": "python",
   "nbconvert_exporter": "python",
   "pygments_lexer": "ipython3",
   "version": "3.11.6"
  }
 },
 "nbformat": 4,
 "nbformat_minor": 5
}
