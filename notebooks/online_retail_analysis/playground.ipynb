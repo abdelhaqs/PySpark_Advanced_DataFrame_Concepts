{
 "cells": [
  {
   "cell_type": "code",
   "execution_count": 1,
   "metadata": {},
   "outputs": [
    {
     "name": "stdout",
     "output_type": "stream",
     "text": [
      "Requirement already satisfied: pandasql in /opt/conda/lib/python3.11/site-packages (0.7.3)\n",
      "Requirement already satisfied: missingno in /opt/conda/lib/python3.11/site-packages (0.5.2)\n",
      "Requirement already satisfied: pydantic-settings in /opt/conda/lib/python3.11/site-packages (2.6.1)\n",
      "Requirement already satisfied: pandas_profiling in /opt/conda/lib/python3.11/site-packages (3.2.0)\n",
      "Requirement already satisfied: plotly in /opt/conda/lib/python3.11/site-packages (5.24.1)\n",
      "Requirement already satisfied: numpy in /opt/conda/lib/python3.11/site-packages (from pandasql) (1.24.4)\n",
      "Requirement already satisfied: pandas in /opt/conda/lib/python3.11/site-packages (from pandasql) (2.0.3)\n",
      "Requirement already satisfied: sqlalchemy in /opt/conda/lib/python3.11/site-packages (from pandasql) (2.0.22)\n",
      "Requirement already satisfied: matplotlib in /opt/conda/lib/python3.11/site-packages (from missingno) (3.8.0)\n",
      "Requirement already satisfied: scipy in /opt/conda/lib/python3.11/site-packages (from missingno) (1.11.3)\n",
      "Requirement already satisfied: seaborn in /opt/conda/lib/python3.11/site-packages (from missingno) (0.13.0)\n",
      "Requirement already satisfied: pydantic>=2.7.0 in /opt/conda/lib/python3.11/site-packages (from pydantic-settings) (2.9.2)\n",
      "Requirement already satisfied: python-dotenv>=0.21.0 in /opt/conda/lib/python3.11/site-packages (from pydantic-settings) (1.0.1)\n",
      "Requirement already satisfied: joblib~=1.1.0 in /opt/conda/lib/python3.11/site-packages (from pandas_profiling) (1.1.1)\n",
      "Requirement already satisfied: PyYAML>=5.0.0 in /opt/conda/lib/python3.11/site-packages (from pandas_profiling) (6.0.1)\n",
      "Requirement already satisfied: jinja2>=2.11.1 in /opt/conda/lib/python3.11/site-packages (from pandas_profiling) (3.1.2)\n",
      "Requirement already satisfied: markupsafe~=2.1.1 in /opt/conda/lib/python3.11/site-packages (from pandas_profiling) (2.1.3)\n",
      "Requirement already satisfied: visions==0.7.4 in /opt/conda/lib/python3.11/site-packages (from visions[type_image_path]==0.7.4->pandas_profiling) (0.7.4)\n",
      "Requirement already satisfied: htmlmin>=0.1.12 in /opt/conda/lib/python3.11/site-packages (from pandas_profiling) (0.1.12)\n",
      "Requirement already satisfied: phik>=0.11.1 in /opt/conda/lib/python3.11/site-packages (from pandas_profiling) (0.12.4)\n",
      "Requirement already satisfied: tangled-up-in-unicode==0.2.0 in /opt/conda/lib/python3.11/site-packages (from pandas_profiling) (0.2.0)\n",
      "Requirement already satisfied: requests>=2.24.0 in /opt/conda/lib/python3.11/site-packages (from pandas_profiling) (2.31.0)\n",
      "Requirement already satisfied: tqdm>=4.48.2 in /opt/conda/lib/python3.11/site-packages (from pandas_profiling) (4.66.1)\n",
      "Requirement already satisfied: multimethod>=1.4 in /opt/conda/lib/python3.11/site-packages (from pandas_profiling) (1.12)\n",
      "Requirement already satisfied: attrs>=19.3.0 in /opt/conda/lib/python3.11/site-packages (from visions==0.7.4->visions[type_image_path]==0.7.4->pandas_profiling) (23.1.0)\n",
      "Requirement already satisfied: networkx>=2.4 in /opt/conda/lib/python3.11/site-packages (from visions==0.7.4->visions[type_image_path]==0.7.4->pandas_profiling) (3.2)\n",
      "Requirement already satisfied: imagehash in /opt/conda/lib/python3.11/site-packages (from visions[type_image_path]==0.7.4->pandas_profiling) (4.3.1)\n",
      "Requirement already satisfied: Pillow in /opt/conda/lib/python3.11/site-packages (from visions[type_image_path]==0.7.4->pandas_profiling) (10.1.0)\n",
      "Requirement already satisfied: tenacity>=6.2.0 in /opt/conda/lib/python3.11/site-packages (from plotly) (9.0.0)\n",
      "Requirement already satisfied: packaging in /opt/conda/lib/python3.11/site-packages (from plotly) (23.2)\n",
      "Requirement already satisfied: contourpy>=1.0.1 in /opt/conda/lib/python3.11/site-packages (from matplotlib->missingno) (1.1.1)\n",
      "Requirement already satisfied: cycler>=0.10 in /opt/conda/lib/python3.11/site-packages (from matplotlib->missingno) (0.12.1)\n",
      "Requirement already satisfied: fonttools>=4.22.0 in /opt/conda/lib/python3.11/site-packages (from matplotlib->missingno) (4.43.1)\n",
      "Requirement already satisfied: kiwisolver>=1.0.1 in /opt/conda/lib/python3.11/site-packages (from matplotlib->missingno) (1.4.5)\n",
      "Requirement already satisfied: pyparsing>=2.3.1 in /opt/conda/lib/python3.11/site-packages (from matplotlib->missingno) (3.1.1)\n",
      "Requirement already satisfied: python-dateutil>=2.7 in /opt/conda/lib/python3.11/site-packages (from matplotlib->missingno) (2.8.2)\n",
      "Requirement already satisfied: pytz>=2020.1 in /opt/conda/lib/python3.11/site-packages (from pandas->pandasql) (2023.3.post1)\n",
      "Requirement already satisfied: tzdata>=2022.1 in /opt/conda/lib/python3.11/site-packages (from pandas->pandasql) (2023.3)\n",
      "Requirement already satisfied: annotated-types>=0.6.0 in /opt/conda/lib/python3.11/site-packages (from pydantic>=2.7.0->pydantic-settings) (0.7.0)\n",
      "Requirement already satisfied: pydantic-core==2.23.4 in /opt/conda/lib/python3.11/site-packages (from pydantic>=2.7.0->pydantic-settings) (2.23.4)\n",
      "Requirement already satisfied: typing-extensions>=4.6.1 in /opt/conda/lib/python3.11/site-packages (from pydantic>=2.7.0->pydantic-settings) (4.8.0)\n",
      "Requirement already satisfied: charset-normalizer<4,>=2 in /opt/conda/lib/python3.11/site-packages (from requests>=2.24.0->pandas_profiling) (3.3.0)\n",
      "Requirement already satisfied: idna<4,>=2.5 in /opt/conda/lib/python3.11/site-packages (from requests>=2.24.0->pandas_profiling) (3.4)\n",
      "Requirement already satisfied: urllib3<3,>=1.21.1 in /opt/conda/lib/python3.11/site-packages (from requests>=2.24.0->pandas_profiling) (2.0.7)\n",
      "Requirement already satisfied: certifi>=2017.4.17 in /opt/conda/lib/python3.11/site-packages (from requests>=2.24.0->pandas_profiling) (2023.7.22)\n",
      "Requirement already satisfied: greenlet!=0.4.17 in /opt/conda/lib/python3.11/site-packages (from sqlalchemy->pandasql) (3.0.0)\n",
      "Requirement already satisfied: six>=1.5 in /opt/conda/lib/python3.11/site-packages (from python-dateutil>=2.7->matplotlib->missingno) (1.16.0)\n",
      "Requirement already satisfied: PyWavelets in /opt/conda/lib/python3.11/site-packages (from imagehash->visions[type_image_path]==0.7.4->pandas_profiling) (1.4.1)\n",
      "Note: you may need to restart the kernel to use updated packages.\n"
     ]
    }
   ],
   "source": [
    "pip install pandasql missingno pydantic-settings pandas_profiling plotly"
   ]
  },
  {
   "cell_type": "code",
   "execution_count": null,
   "metadata": {},
   "outputs": [],
   "source": [
    "pip install --upgrade pandas-profiling"
   ]
  },
  {
   "cell_type": "code",
   "execution_count": 17,
   "metadata": {},
   "outputs": [
    {
     "data": {
      "text/plain": [
       "<Figure size 640x480 with 0 Axes>"
      ]
     },
     "metadata": {},
     "output_type": "display_data"
    }
   ],
   "source": [
    "import pandas as pd\n",
    "import numpy as np\n",
    "import matplotlib.pyplot as plt\n",
    "import seaborn as sns\n",
    "import pandasql as ps\n",
    "import missingno as msno\n",
    "from pyspark.sql import SparkSession\n",
    "# from pandas_profiling import ProfileReport\n",
    "import plotly.graph_objects as go\n",
    "# from pydantic_settings import BaseSettings\n",
    "\n",
    "sns.set()\n",
    "sns.set_palette('deep')\n",
    "sns.set_context('notebook')\n",
    "plt.subplots_adjust(left=0, right=2, top=0.9, bottom=0.1)  # Adjust the values as needed\n",
    "\n",
    "SPARK = SparkSession.builder.appName('online_retail').master(\"local\").getOrCreate()\n",
    "\n",
    "\n",
    "def sql(df: pd.DataFrame, query: str, table_name = \"online_retail\", create_temp_view = False):\n",
    "    \"\"\"\n",
    "    Create a table in SparkSQL.\n",
    "    Execute a query\n",
    "    \"\"\"\n",
    "    if create_temp_view:\n",
    "        spark_df = SPARK.createDataFrame(df)\n",
    "        spark_df.createOrReplaceTempView(table_name)\n",
    "\n",
    "    return SPARK.sql(query)\n",
    "\n",
    "def load_data(path = \"../datasets/online_retail/Online_Retail_Data_Set.csv\"):\n",
    "    df = pd.read_csv(path, encoding = \"ISO-8859-1\") \n",
    "    return df\n",
    "\n",
    "\n",
    "def pre_processing(df):\n",
    "\n",
    "    # Changing dtype to datetime\n",
    "    df['InvoiceDate'] = pd.to_datetime(df['InvoiceDate'], format='mixed')\n",
    "\n",
    "    # Remove transactions with negative quantites or negative prices\n",
    "    df = df[df.Quantity > 0]\n",
    "    df = df[df.UnitPrice > 0]\n",
    "\n",
    "    # Replace missing CustomerIDs with 0\n",
    "    df = df.replace(np.nan, 0)\n",
    "    \n",
    "    # Remove duplicates\n",
    "    df = df[~df.duplicated()]\n",
    "\n",
    "\n",
    "    # Using Spark to:\n",
    "    #   1. Aggregate duplicated transactions with different quantites\n",
    "    #   2. Add a profit column\n",
    "    #   3. Remove transactions before 2011\n",
    "    df[\"InvoiceDate\"] = df[\"InvoiceDate\"].astype(str)\n",
    "    spark_df = SPARK.createDataFrame(df)\n",
    "    spark_df.createOrReplaceTempView(\"spark_df\")\n",
    "\n",
    "    query = \"\"\"\n",
    "    select \n",
    "        aaa.*,\n",
    "        round(aaa.quantity * aaa.UnitPrice, 2) as Profit\n",
    "    from\n",
    "    (\n",
    "        select \n",
    "            InvoiceNo,\n",
    "            StockCode,\n",
    "            description,\n",
    "            sum(quantity) as quantity,\n",
    "            InvoiceDate,\n",
    "            UnitPrice,\n",
    "            CustomerID,\n",
    "            Country\n",
    "        from spark_df\n",
    "        group by\n",
    "            InvoiceNo,\n",
    "            StockCode,\n",
    "            CustomerID,\n",
    "            description,\n",
    "            InvoiceDate,\n",
    "            UnitPrice,\n",
    "            Country\n",
    "    ) as aaa\n",
    "    where\n",
    "        aaa.InvoiceDate >= '2011-01-01'\n",
    "    \"\"\"\n",
    "    spark_df = SPARK.sql(query)\n",
    "    df = spark_df.toPandas()\n",
    "    df[\"InvoiceDate\"] = pd.to_datetime(df[\"InvoiceDate\"])\n",
    "\n",
    "\n",
    "    return df\n",
    "\n",
    "\n",
    "if __name__ == \"__main__\":\n",
    "    #df = load_data()\n",
    "    #print(df.columns)\n",
    "    #clean_df = pre_processing(df)\n",
    "    pass"
   ]
  },
  {
   "cell_type": "markdown",
   "metadata": {},
   "source": [
    "# Data Quality Check and Cleaning"
   ]
  },
  {
   "cell_type": "code",
   "execution_count": 3,
   "metadata": {},
   "outputs": [
    {
     "data": {
      "text/html": [
       "<div>\n",
       "<style scoped>\n",
       "    .dataframe tbody tr th:only-of-type {\n",
       "        vertical-align: middle;\n",
       "    }\n",
       "\n",
       "    .dataframe tbody tr th {\n",
       "        vertical-align: top;\n",
       "    }\n",
       "\n",
       "    .dataframe thead th {\n",
       "        text-align: right;\n",
       "    }\n",
       "</style>\n",
       "<table border=\"1\" class=\"dataframe\">\n",
       "  <thead>\n",
       "    <tr style=\"text-align: right;\">\n",
       "      <th></th>\n",
       "      <th>InvoiceNo</th>\n",
       "      <th>StockCode</th>\n",
       "      <th>Description</th>\n",
       "      <th>Quantity</th>\n",
       "      <th>InvoiceDate</th>\n",
       "      <th>UnitPrice</th>\n",
       "      <th>CustomerID</th>\n",
       "      <th>Country</th>\n",
       "    </tr>\n",
       "  </thead>\n",
       "  <tbody>\n",
       "    <tr>\n",
       "      <th>0</th>\n",
       "      <td>536365</td>\n",
       "      <td>85123A</td>\n",
       "      <td>WHITE HANGING HEART T-LIGHT HOLDER</td>\n",
       "      <td>6</td>\n",
       "      <td>01-12-2010 08:26</td>\n",
       "      <td>2.55</td>\n",
       "      <td>17850.0</td>\n",
       "      <td>United Kingdom</td>\n",
       "    </tr>\n",
       "    <tr>\n",
       "      <th>1</th>\n",
       "      <td>536365</td>\n",
       "      <td>71053</td>\n",
       "      <td>WHITE METAL LANTERN</td>\n",
       "      <td>6</td>\n",
       "      <td>01-12-2010 08:26</td>\n",
       "      <td>3.39</td>\n",
       "      <td>17850.0</td>\n",
       "      <td>United Kingdom</td>\n",
       "    </tr>\n",
       "    <tr>\n",
       "      <th>2</th>\n",
       "      <td>536365</td>\n",
       "      <td>84406B</td>\n",
       "      <td>CREAM CUPID HEARTS COAT HANGER</td>\n",
       "      <td>8</td>\n",
       "      <td>01-12-2010 08:26</td>\n",
       "      <td>2.75</td>\n",
       "      <td>17850.0</td>\n",
       "      <td>United Kingdom</td>\n",
       "    </tr>\n",
       "    <tr>\n",
       "      <th>3</th>\n",
       "      <td>536365</td>\n",
       "      <td>84029G</td>\n",
       "      <td>KNITTED UNION FLAG HOT WATER BOTTLE</td>\n",
       "      <td>6</td>\n",
       "      <td>01-12-2010 08:26</td>\n",
       "      <td>3.39</td>\n",
       "      <td>17850.0</td>\n",
       "      <td>United Kingdom</td>\n",
       "    </tr>\n",
       "    <tr>\n",
       "      <th>4</th>\n",
       "      <td>536365</td>\n",
       "      <td>84029E</td>\n",
       "      <td>RED WOOLLY HOTTIE WHITE HEART.</td>\n",
       "      <td>6</td>\n",
       "      <td>01-12-2010 08:26</td>\n",
       "      <td>3.39</td>\n",
       "      <td>17850.0</td>\n",
       "      <td>United Kingdom</td>\n",
       "    </tr>\n",
       "  </tbody>\n",
       "</table>\n",
       "</div>"
      ],
      "text/plain": [
       "  InvoiceNo StockCode                          Description  Quantity  \\\n",
       "0    536365    85123A   WHITE HANGING HEART T-LIGHT HOLDER         6   \n",
       "1    536365     71053                  WHITE METAL LANTERN         6   \n",
       "2    536365    84406B       CREAM CUPID HEARTS COAT HANGER         8   \n",
       "3    536365    84029G  KNITTED UNION FLAG HOT WATER BOTTLE         6   \n",
       "4    536365    84029E       RED WOOLLY HOTTIE WHITE HEART.         6   \n",
       "\n",
       "        InvoiceDate  UnitPrice  CustomerID         Country  \n",
       "0  01-12-2010 08:26       2.55     17850.0  United Kingdom  \n",
       "1  01-12-2010 08:26       3.39     17850.0  United Kingdom  \n",
       "2  01-12-2010 08:26       2.75     17850.0  United Kingdom  \n",
       "3  01-12-2010 08:26       3.39     17850.0  United Kingdom  \n",
       "4  01-12-2010 08:26       3.39     17850.0  United Kingdom  "
      ]
     },
     "execution_count": 3,
     "metadata": {},
     "output_type": "execute_result"
    }
   ],
   "source": [
    "import pandas as pd\n",
    "import numpy as np\n",
    "import matplotlib.pyplot as plt\n",
    "import seaborn as sns\n",
    "\n",
    "\n",
    "df = pd.read_csv(\"../datasets/online_retail/Online_Retail_Data_Set.csv\", encoding = \"ISO-8859-1\") \n",
    "df.head()"
   ]
  },
  {
   "cell_type": "code",
   "execution_count": 4,
   "metadata": {},
   "outputs": [
    {
     "name": "stdout",
     "output_type": "stream",
     "text": [
      "<class 'pandas.core.frame.DataFrame'>\n",
      "RangeIndex: 541909 entries, 0 to 541908\n",
      "Data columns (total 8 columns):\n",
      " #   Column       Non-Null Count   Dtype  \n",
      "---  ------       --------------   -----  \n",
      " 0   InvoiceNo    541909 non-null  object \n",
      " 1   StockCode    541909 non-null  object \n",
      " 2   Description  540455 non-null  object \n",
      " 3   Quantity     541909 non-null  int64  \n",
      " 4   InvoiceDate  541909 non-null  object \n",
      " 5   UnitPrice    541909 non-null  float64\n",
      " 6   CustomerID   406829 non-null  float64\n",
      " 7   Country      541909 non-null  object \n",
      "dtypes: float64(2), int64(1), object(5)\n",
      "memory usage: 33.1+ MB\n"
     ]
    }
   ],
   "source": [
    "df.info()"
   ]
  },
  {
   "cell_type": "code",
   "execution_count": 7,
   "metadata": {},
   "outputs": [
    {
     "data": {
      "text/plain": [
       "count             541909\n",
       "unique                38\n",
       "top       United Kingdom\n",
       "freq              495478\n",
       "Name: Country, dtype: object"
      ]
     },
     "execution_count": 7,
     "metadata": {},
     "output_type": "execute_result"
    }
   ],
   "source": [
    "df[\"Country\"].describe()"
   ]
  },
  {
   "cell_type": "code",
   "execution_count": 5,
   "metadata": {},
   "outputs": [
    {
     "data": {
      "text/html": [
       "<div>\n",
       "<style scoped>\n",
       "    .dataframe tbody tr th:only-of-type {\n",
       "        vertical-align: middle;\n",
       "    }\n",
       "\n",
       "    .dataframe tbody tr th {\n",
       "        vertical-align: top;\n",
       "    }\n",
       "\n",
       "    .dataframe thead th {\n",
       "        text-align: right;\n",
       "    }\n",
       "</style>\n",
       "<table border=\"1\" class=\"dataframe\">\n",
       "  <thead>\n",
       "    <tr style=\"text-align: right;\">\n",
       "      <th></th>\n",
       "      <th>Quantity</th>\n",
       "      <th>UnitPrice</th>\n",
       "      <th>CustomerID</th>\n",
       "    </tr>\n",
       "  </thead>\n",
       "  <tbody>\n",
       "    <tr>\n",
       "      <th>count</th>\n",
       "      <td>541909.000000</td>\n",
       "      <td>541909.000000</td>\n",
       "      <td>406829.000000</td>\n",
       "    </tr>\n",
       "    <tr>\n",
       "      <th>mean</th>\n",
       "      <td>9.552250</td>\n",
       "      <td>4.611114</td>\n",
       "      <td>15287.690570</td>\n",
       "    </tr>\n",
       "    <tr>\n",
       "      <th>std</th>\n",
       "      <td>218.081158</td>\n",
       "      <td>96.759853</td>\n",
       "      <td>1713.600303</td>\n",
       "    </tr>\n",
       "    <tr>\n",
       "      <th>min</th>\n",
       "      <td>-80995.000000</td>\n",
       "      <td>-11062.060000</td>\n",
       "      <td>12346.000000</td>\n",
       "    </tr>\n",
       "    <tr>\n",
       "      <th>25%</th>\n",
       "      <td>1.000000</td>\n",
       "      <td>1.250000</td>\n",
       "      <td>13953.000000</td>\n",
       "    </tr>\n",
       "    <tr>\n",
       "      <th>50%</th>\n",
       "      <td>3.000000</td>\n",
       "      <td>2.080000</td>\n",
       "      <td>15152.000000</td>\n",
       "    </tr>\n",
       "    <tr>\n",
       "      <th>75%</th>\n",
       "      <td>10.000000</td>\n",
       "      <td>4.130000</td>\n",
       "      <td>16791.000000</td>\n",
       "    </tr>\n",
       "    <tr>\n",
       "      <th>max</th>\n",
       "      <td>80995.000000</td>\n",
       "      <td>38970.000000</td>\n",
       "      <td>18287.000000</td>\n",
       "    </tr>\n",
       "  </tbody>\n",
       "</table>\n",
       "</div>"
      ],
      "text/plain": [
       "            Quantity      UnitPrice     CustomerID\n",
       "count  541909.000000  541909.000000  406829.000000\n",
       "mean        9.552250       4.611114   15287.690570\n",
       "std       218.081158      96.759853    1713.600303\n",
       "min    -80995.000000  -11062.060000   12346.000000\n",
       "25%         1.000000       1.250000   13953.000000\n",
       "50%         3.000000       2.080000   15152.000000\n",
       "75%        10.000000       4.130000   16791.000000\n",
       "max     80995.000000   38970.000000   18287.000000"
      ]
     },
     "execution_count": 5,
     "metadata": {},
     "output_type": "execute_result"
    }
   ],
   "source": [
    "df[[\"Quantity\", \"UnitPrice\", \"CustomerID\"]].describe()"
   ]
  },
  {
   "cell_type": "markdown",
   "metadata": {},
   "source": [
    "- Notes:\n",
    "\n",
    "- The quantity column is problematic. I need to remove transactions with Negative values\n",
    "- Remove rows with negative unit price\n"
   ]
  },
  {
   "cell_type": "markdown",
   "metadata": {},
   "source": [
    "## Data Types"
   ]
  },
  {
   "cell_type": "code",
   "execution_count": 8,
   "metadata": {},
   "outputs": [
    {
     "data": {
      "text/plain": [
       "InvoiceNo       object\n",
       "StockCode       object\n",
       "Description     object\n",
       "Quantity         int64\n",
       "InvoiceDate     object\n",
       "UnitPrice      float64\n",
       "CustomerID     float64\n",
       "Country         object\n",
       "dtype: object"
      ]
     },
     "execution_count": 8,
     "metadata": {},
     "output_type": "execute_result"
    }
   ],
   "source": [
    "df.dtypes"
   ]
  },
  {
   "cell_type": "markdown",
   "metadata": {},
   "source": [
    "Notes:\n",
    "- Change InvoiceDate to datetime"
   ]
  },
  {
   "cell_type": "code",
   "execution_count": null,
   "metadata": {},
   "outputs": [],
   "source": [
    "df['InvoiceDate'] = pd.to_datetime(df['InvoiceDate'], format='mixed')"
   ]
  },
  {
   "cell_type": "code",
   "execution_count": null,
   "metadata": {},
   "outputs": [],
   "source": [
    "df.dtypes"
   ]
  },
  {
   "cell_type": "markdown",
   "metadata": {},
   "source": [
    "## Qunatity and UnitPrice columns"
   ]
  },
  {
   "cell_type": "code",
   "execution_count": 9,
   "metadata": {},
   "outputs": [
    {
     "data": {
      "text/html": [
       "<div>\n",
       "<style scoped>\n",
       "    .dataframe tbody tr th:only-of-type {\n",
       "        vertical-align: middle;\n",
       "    }\n",
       "\n",
       "    .dataframe tbody tr th {\n",
       "        vertical-align: top;\n",
       "    }\n",
       "\n",
       "    .dataframe thead th {\n",
       "        text-align: right;\n",
       "    }\n",
       "</style>\n",
       "<table border=\"1\" class=\"dataframe\">\n",
       "  <thead>\n",
       "    <tr style=\"text-align: right;\">\n",
       "      <th></th>\n",
       "      <th>InvoiceNo</th>\n",
       "      <th>StockCode</th>\n",
       "      <th>Description</th>\n",
       "      <th>Quantity</th>\n",
       "      <th>InvoiceDate</th>\n",
       "      <th>UnitPrice</th>\n",
       "      <th>CustomerID</th>\n",
       "      <th>Country</th>\n",
       "    </tr>\n",
       "  </thead>\n",
       "  <tbody>\n",
       "    <tr>\n",
       "      <th>141</th>\n",
       "      <td>C536379</td>\n",
       "      <td>D</td>\n",
       "      <td>Discount</td>\n",
       "      <td>-1</td>\n",
       "      <td>01-12-2010 09:41</td>\n",
       "      <td>27.50</td>\n",
       "      <td>14527.0</td>\n",
       "      <td>United Kingdom</td>\n",
       "    </tr>\n",
       "    <tr>\n",
       "      <th>154</th>\n",
       "      <td>C536383</td>\n",
       "      <td>35004C</td>\n",
       "      <td>SET OF 3 COLOURED  FLYING DUCKS</td>\n",
       "      <td>-1</td>\n",
       "      <td>01-12-2010 09:49</td>\n",
       "      <td>4.65</td>\n",
       "      <td>15311.0</td>\n",
       "      <td>United Kingdom</td>\n",
       "    </tr>\n",
       "    <tr>\n",
       "      <th>235</th>\n",
       "      <td>C536391</td>\n",
       "      <td>22556</td>\n",
       "      <td>PLASTERS IN TIN CIRCUS PARADE</td>\n",
       "      <td>-12</td>\n",
       "      <td>01-12-2010 10:24</td>\n",
       "      <td>1.65</td>\n",
       "      <td>17548.0</td>\n",
       "      <td>United Kingdom</td>\n",
       "    </tr>\n",
       "    <tr>\n",
       "      <th>236</th>\n",
       "      <td>C536391</td>\n",
       "      <td>21984</td>\n",
       "      <td>PACK OF 12 PINK PAISLEY TISSUES</td>\n",
       "      <td>-24</td>\n",
       "      <td>01-12-2010 10:24</td>\n",
       "      <td>0.29</td>\n",
       "      <td>17548.0</td>\n",
       "      <td>United Kingdom</td>\n",
       "    </tr>\n",
       "    <tr>\n",
       "      <th>237</th>\n",
       "      <td>C536391</td>\n",
       "      <td>21983</td>\n",
       "      <td>PACK OF 12 BLUE PAISLEY TISSUES</td>\n",
       "      <td>-24</td>\n",
       "      <td>01-12-2010 10:24</td>\n",
       "      <td>0.29</td>\n",
       "      <td>17548.0</td>\n",
       "      <td>United Kingdom</td>\n",
       "    </tr>\n",
       "    <tr>\n",
       "      <th>...</th>\n",
       "      <td>...</td>\n",
       "      <td>...</td>\n",
       "      <td>...</td>\n",
       "      <td>...</td>\n",
       "      <td>...</td>\n",
       "      <td>...</td>\n",
       "      <td>...</td>\n",
       "      <td>...</td>\n",
       "    </tr>\n",
       "    <tr>\n",
       "      <th>540449</th>\n",
       "      <td>C581490</td>\n",
       "      <td>23144</td>\n",
       "      <td>ZINC T-LIGHT HOLDER STARS SMALL</td>\n",
       "      <td>-11</td>\n",
       "      <td>09-12-2011 09:57</td>\n",
       "      <td>0.83</td>\n",
       "      <td>14397.0</td>\n",
       "      <td>United Kingdom</td>\n",
       "    </tr>\n",
       "    <tr>\n",
       "      <th>541541</th>\n",
       "      <td>C581499</td>\n",
       "      <td>M</td>\n",
       "      <td>Manual</td>\n",
       "      <td>-1</td>\n",
       "      <td>09-12-2011 10:28</td>\n",
       "      <td>224.69</td>\n",
       "      <td>15498.0</td>\n",
       "      <td>United Kingdom</td>\n",
       "    </tr>\n",
       "    <tr>\n",
       "      <th>541715</th>\n",
       "      <td>C581568</td>\n",
       "      <td>21258</td>\n",
       "      <td>VICTORIAN SEWING BOX LARGE</td>\n",
       "      <td>-5</td>\n",
       "      <td>09-12-2011 11:57</td>\n",
       "      <td>10.95</td>\n",
       "      <td>15311.0</td>\n",
       "      <td>United Kingdom</td>\n",
       "    </tr>\n",
       "    <tr>\n",
       "      <th>541716</th>\n",
       "      <td>C581569</td>\n",
       "      <td>84978</td>\n",
       "      <td>HANGING HEART JAR T-LIGHT HOLDER</td>\n",
       "      <td>-1</td>\n",
       "      <td>09-12-2011 11:58</td>\n",
       "      <td>1.25</td>\n",
       "      <td>17315.0</td>\n",
       "      <td>United Kingdom</td>\n",
       "    </tr>\n",
       "    <tr>\n",
       "      <th>541717</th>\n",
       "      <td>C581569</td>\n",
       "      <td>20979</td>\n",
       "      <td>36 PENCILS TUBE RED RETROSPOT</td>\n",
       "      <td>-5</td>\n",
       "      <td>09-12-2011 11:58</td>\n",
       "      <td>1.25</td>\n",
       "      <td>17315.0</td>\n",
       "      <td>United Kingdom</td>\n",
       "    </tr>\n",
       "  </tbody>\n",
       "</table>\n",
       "<p>10624 rows × 8 columns</p>\n",
       "</div>"
      ],
      "text/plain": [
       "       InvoiceNo StockCode                       Description  Quantity  \\\n",
       "141      C536379         D                          Discount        -1   \n",
       "154      C536383    35004C   SET OF 3 COLOURED  FLYING DUCKS        -1   \n",
       "235      C536391     22556    PLASTERS IN TIN CIRCUS PARADE        -12   \n",
       "236      C536391     21984  PACK OF 12 PINK PAISLEY TISSUES        -24   \n",
       "237      C536391     21983  PACK OF 12 BLUE PAISLEY TISSUES        -24   \n",
       "...          ...       ...                               ...       ...   \n",
       "540449   C581490     23144   ZINC T-LIGHT HOLDER STARS SMALL       -11   \n",
       "541541   C581499         M                            Manual        -1   \n",
       "541715   C581568     21258        VICTORIAN SEWING BOX LARGE        -5   \n",
       "541716   C581569     84978  HANGING HEART JAR T-LIGHT HOLDER        -1   \n",
       "541717   C581569     20979     36 PENCILS TUBE RED RETROSPOT        -5   \n",
       "\n",
       "             InvoiceDate  UnitPrice  CustomerID         Country  \n",
       "141     01-12-2010 09:41      27.50     14527.0  United Kingdom  \n",
       "154     01-12-2010 09:49       4.65     15311.0  United Kingdom  \n",
       "235     01-12-2010 10:24       1.65     17548.0  United Kingdom  \n",
       "236     01-12-2010 10:24       0.29     17548.0  United Kingdom  \n",
       "237     01-12-2010 10:24       0.29     17548.0  United Kingdom  \n",
       "...                  ...        ...         ...             ...  \n",
       "540449  09-12-2011 09:57       0.83     14397.0  United Kingdom  \n",
       "541541  09-12-2011 10:28     224.69     15498.0  United Kingdom  \n",
       "541715  09-12-2011 11:57      10.95     15311.0  United Kingdom  \n",
       "541716  09-12-2011 11:58       1.25     17315.0  United Kingdom  \n",
       "541717  09-12-2011 11:58       1.25     17315.0  United Kingdom  \n",
       "\n",
       "[10624 rows x 8 columns]"
      ]
     },
     "execution_count": 9,
     "metadata": {},
     "output_type": "execute_result"
    }
   ],
   "source": [
    "negative_quantity = df[df.Quantity <= 0]\n",
    "negative_quantity"
   ]
  },
  {
   "cell_type": "code",
   "execution_count": 10,
   "metadata": {},
   "outputs": [
    {
     "data": {
      "text/plain": [
       "Description\n",
       "Manual                               244\n",
       "REGENCY CAKESTAND 3 TIER             181\n",
       "POSTAGE                              126\n",
       "check                                120\n",
       "JAM MAKING SET WITH JARS              87\n",
       "                                    ... \n",
       "HAIRCLIPS FORTIES FABRIC ASSORTED      1\n",
       "2 PICTURE BOOK EGGS EASTER CHICKS      1\n",
       "FELT EGG COSY BLUE RABBIT              1\n",
       "FELT EGG COSY WHITE RABBIT             1\n",
       "PAPER CRAFT , LITTLE BIRDIE            1\n",
       "Name: count, Length: 2110, dtype: int64"
      ]
     },
     "execution_count": 10,
     "metadata": {},
     "output_type": "execute_result"
    }
   ],
   "source": [
    "negative_quantity.Description.value_counts()"
   ]
  },
  {
   "cell_type": "markdown",
   "metadata": {},
   "source": [
    "- I dont see a reason why these transactions would be legit, so I will remove them from the dataset."
   ]
  },
  {
   "cell_type": "code",
   "execution_count": 11,
   "metadata": {},
   "outputs": [],
   "source": [
    "df = df[df.Quantity > 0]"
   ]
  },
  {
   "cell_type": "markdown",
   "metadata": {},
   "source": [
    "- Now lets check unitPrice\n",
    "\n",
    "- Same logic, I will drop transactions with unit price lower than 0"
   ]
  },
  {
   "cell_type": "code",
   "execution_count": 12,
   "metadata": {},
   "outputs": [
    {
     "data": {
      "text/html": [
       "<div>\n",
       "<style scoped>\n",
       "    .dataframe tbody tr th:only-of-type {\n",
       "        vertical-align: middle;\n",
       "    }\n",
       "\n",
       "    .dataframe tbody tr th {\n",
       "        vertical-align: top;\n",
       "    }\n",
       "\n",
       "    .dataframe thead th {\n",
       "        text-align: right;\n",
       "    }\n",
       "</style>\n",
       "<table border=\"1\" class=\"dataframe\">\n",
       "  <thead>\n",
       "    <tr style=\"text-align: right;\">\n",
       "      <th></th>\n",
       "      <th>InvoiceNo</th>\n",
       "      <th>StockCode</th>\n",
       "      <th>Description</th>\n",
       "      <th>Quantity</th>\n",
       "      <th>InvoiceDate</th>\n",
       "      <th>UnitPrice</th>\n",
       "      <th>CustomerID</th>\n",
       "      <th>Country</th>\n",
       "    </tr>\n",
       "  </thead>\n",
       "  <tbody>\n",
       "    <tr>\n",
       "      <th>622</th>\n",
       "      <td>536414</td>\n",
       "      <td>22139</td>\n",
       "      <td>NaN</td>\n",
       "      <td>56</td>\n",
       "      <td>01-12-2010 11:52</td>\n",
       "      <td>0.0</td>\n",
       "      <td>NaN</td>\n",
       "      <td>United Kingdom</td>\n",
       "    </tr>\n",
       "    <tr>\n",
       "      <th>1970</th>\n",
       "      <td>536545</td>\n",
       "      <td>21134</td>\n",
       "      <td>NaN</td>\n",
       "      <td>1</td>\n",
       "      <td>01-12-2010 14:32</td>\n",
       "      <td>0.0</td>\n",
       "      <td>NaN</td>\n",
       "      <td>United Kingdom</td>\n",
       "    </tr>\n",
       "    <tr>\n",
       "      <th>1971</th>\n",
       "      <td>536546</td>\n",
       "      <td>22145</td>\n",
       "      <td>NaN</td>\n",
       "      <td>1</td>\n",
       "      <td>01-12-2010 14:33</td>\n",
       "      <td>0.0</td>\n",
       "      <td>NaN</td>\n",
       "      <td>United Kingdom</td>\n",
       "    </tr>\n",
       "    <tr>\n",
       "      <th>1972</th>\n",
       "      <td>536547</td>\n",
       "      <td>37509</td>\n",
       "      <td>NaN</td>\n",
       "      <td>1</td>\n",
       "      <td>01-12-2010 14:33</td>\n",
       "      <td>0.0</td>\n",
       "      <td>NaN</td>\n",
       "      <td>United Kingdom</td>\n",
       "    </tr>\n",
       "    <tr>\n",
       "      <th>1987</th>\n",
       "      <td>536549</td>\n",
       "      <td>85226A</td>\n",
       "      <td>NaN</td>\n",
       "      <td>1</td>\n",
       "      <td>01-12-2010 14:34</td>\n",
       "      <td>0.0</td>\n",
       "      <td>NaN</td>\n",
       "      <td>United Kingdom</td>\n",
       "    </tr>\n",
       "    <tr>\n",
       "      <th>...</th>\n",
       "      <td>...</td>\n",
       "      <td>...</td>\n",
       "      <td>...</td>\n",
       "      <td>...</td>\n",
       "      <td>...</td>\n",
       "      <td>...</td>\n",
       "      <td>...</td>\n",
       "      <td>...</td>\n",
       "    </tr>\n",
       "    <tr>\n",
       "      <th>535334</th>\n",
       "      <td>581211</td>\n",
       "      <td>22142</td>\n",
       "      <td>check</td>\n",
       "      <td>14</td>\n",
       "      <td>07-12-2011 18:36</td>\n",
       "      <td>0.0</td>\n",
       "      <td>NaN</td>\n",
       "      <td>United Kingdom</td>\n",
       "    </tr>\n",
       "    <tr>\n",
       "      <th>536981</th>\n",
       "      <td>581234</td>\n",
       "      <td>72817</td>\n",
       "      <td>NaN</td>\n",
       "      <td>27</td>\n",
       "      <td>08-12-2011 10:33</td>\n",
       "      <td>0.0</td>\n",
       "      <td>NaN</td>\n",
       "      <td>United Kingdom</td>\n",
       "    </tr>\n",
       "    <tr>\n",
       "      <th>538504</th>\n",
       "      <td>581406</td>\n",
       "      <td>46000M</td>\n",
       "      <td>POLYESTER FILLER PAD 45x45cm</td>\n",
       "      <td>240</td>\n",
       "      <td>08-12-2011 13:58</td>\n",
       "      <td>0.0</td>\n",
       "      <td>NaN</td>\n",
       "      <td>United Kingdom</td>\n",
       "    </tr>\n",
       "    <tr>\n",
       "      <th>538505</th>\n",
       "      <td>581406</td>\n",
       "      <td>46000S</td>\n",
       "      <td>POLYESTER FILLER PAD 40x40cm</td>\n",
       "      <td>300</td>\n",
       "      <td>08-12-2011 13:58</td>\n",
       "      <td>0.0</td>\n",
       "      <td>NaN</td>\n",
       "      <td>United Kingdom</td>\n",
       "    </tr>\n",
       "    <tr>\n",
       "      <th>538554</th>\n",
       "      <td>581408</td>\n",
       "      <td>85175</td>\n",
       "      <td>NaN</td>\n",
       "      <td>20</td>\n",
       "      <td>08-12-2011 14:06</td>\n",
       "      <td>0.0</td>\n",
       "      <td>NaN</td>\n",
       "      <td>United Kingdom</td>\n",
       "    </tr>\n",
       "  </tbody>\n",
       "</table>\n",
       "<p>1181 rows × 8 columns</p>\n",
       "</div>"
      ],
      "text/plain": [
       "       InvoiceNo StockCode                   Description  Quantity  \\\n",
       "622       536414     22139                           NaN        56   \n",
       "1970      536545     21134                           NaN         1   \n",
       "1971      536546     22145                           NaN         1   \n",
       "1972      536547     37509                           NaN         1   \n",
       "1987      536549    85226A                           NaN         1   \n",
       "...          ...       ...                           ...       ...   \n",
       "535334    581211     22142                         check        14   \n",
       "536981    581234     72817                           NaN        27   \n",
       "538504    581406    46000M  POLYESTER FILLER PAD 45x45cm       240   \n",
       "538505    581406    46000S  POLYESTER FILLER PAD 40x40cm       300   \n",
       "538554    581408     85175                           NaN        20   \n",
       "\n",
       "             InvoiceDate  UnitPrice  CustomerID         Country  \n",
       "622     01-12-2010 11:52        0.0         NaN  United Kingdom  \n",
       "1970    01-12-2010 14:32        0.0         NaN  United Kingdom  \n",
       "1971    01-12-2010 14:33        0.0         NaN  United Kingdom  \n",
       "1972    01-12-2010 14:33        0.0         NaN  United Kingdom  \n",
       "1987    01-12-2010 14:34        0.0         NaN  United Kingdom  \n",
       "...                  ...        ...         ...             ...  \n",
       "535334  07-12-2011 18:36        0.0         NaN  United Kingdom  \n",
       "536981  08-12-2011 10:33        0.0         NaN  United Kingdom  \n",
       "538504  08-12-2011 13:58        0.0         NaN  United Kingdom  \n",
       "538505  08-12-2011 13:58        0.0         NaN  United Kingdom  \n",
       "538554  08-12-2011 14:06        0.0         NaN  United Kingdom  \n",
       "\n",
       "[1181 rows x 8 columns]"
      ]
     },
     "execution_count": 12,
     "metadata": {},
     "output_type": "execute_result"
    }
   ],
   "source": [
    "df[df.UnitPrice <= 0]"
   ]
  },
  {
   "cell_type": "code",
   "execution_count": 13,
   "metadata": {},
   "outputs": [],
   "source": [
    "df = df[df.UnitPrice > 0]"
   ]
  },
  {
   "cell_type": "code",
   "execution_count": 14,
   "metadata": {},
   "outputs": [
    {
     "data": {
      "text/html": [
       "<div>\n",
       "<style scoped>\n",
       "    .dataframe tbody tr th:only-of-type {\n",
       "        vertical-align: middle;\n",
       "    }\n",
       "\n",
       "    .dataframe tbody tr th {\n",
       "        vertical-align: top;\n",
       "    }\n",
       "\n",
       "    .dataframe thead th {\n",
       "        text-align: right;\n",
       "    }\n",
       "</style>\n",
       "<table border=\"1\" class=\"dataframe\">\n",
       "  <thead>\n",
       "    <tr style=\"text-align: right;\">\n",
       "      <th></th>\n",
       "      <th>InvoiceNo</th>\n",
       "      <th>StockCode</th>\n",
       "      <th>Description</th>\n",
       "      <th>Quantity</th>\n",
       "      <th>InvoiceDate</th>\n",
       "      <th>UnitPrice</th>\n",
       "      <th>CustomerID</th>\n",
       "      <th>Country</th>\n",
       "    </tr>\n",
       "  </thead>\n",
       "  <tbody>\n",
       "  </tbody>\n",
       "</table>\n",
       "</div>"
      ],
      "text/plain": [
       "Empty DataFrame\n",
       "Columns: [InvoiceNo, StockCode, Description, Quantity, InvoiceDate, UnitPrice, CustomerID, Country]\n",
       "Index: []"
      ]
     },
     "execution_count": 14,
     "metadata": {},
     "output_type": "execute_result"
    }
   ],
   "source": [
    "df[df.UnitPrice <= 0]"
   ]
  },
  {
   "cell_type": "markdown",
   "metadata": {},
   "source": [
    "## Missing Values"
   ]
  },
  {
   "cell_type": "code",
   "execution_count": 22,
   "metadata": {},
   "outputs": [
    {
     "data": {
      "text/plain": [
       "'df = pre_processing(df)'"
      ]
     },
     "execution_count": 22,
     "metadata": {},
     "output_type": "execute_result"
    }
   ],
   "source": [
    "df = load_data()\n",
    "\"\"\"df = pre_processing(df)\"\"\""
   ]
  },
  {
   "cell_type": "code",
   "execution_count": 23,
   "metadata": {},
   "outputs": [
    {
     "data": {
      "text/plain": [
       "InvoiceNo           0\n",
       "StockCode           0\n",
       "Description      1454\n",
       "Quantity            0\n",
       "InvoiceDate         0\n",
       "UnitPrice           0\n",
       "CustomerID     135080\n",
       "Country             0\n",
       "dtype: int64"
      ]
     },
     "execution_count": 23,
     "metadata": {},
     "output_type": "execute_result"
    }
   ],
   "source": [
    "df.isna().sum()"
   ]
  },
  {
   "cell_type": "markdown",
   "metadata": {},
   "source": [
    "- Looks like there are 132186 rows with a missing customer id"
   ]
  },
  {
   "cell_type": "code",
   "execution_count": 25,
   "metadata": {},
   "outputs": [
    {
     "data": {
      "text/html": [
       "<div>\n",
       "<style scoped>\n",
       "    .dataframe tbody tr th:only-of-type {\n",
       "        vertical-align: middle;\n",
       "    }\n",
       "\n",
       "    .dataframe tbody tr th {\n",
       "        vertical-align: top;\n",
       "    }\n",
       "\n",
       "    .dataframe thead th {\n",
       "        text-align: right;\n",
       "    }\n",
       "</style>\n",
       "<table border=\"1\" class=\"dataframe\">\n",
       "  <thead>\n",
       "    <tr style=\"text-align: right;\">\n",
       "      <th></th>\n",
       "      <th>InvoiceNo</th>\n",
       "      <th>StockCode</th>\n",
       "      <th>Description</th>\n",
       "      <th>Quantity</th>\n",
       "      <th>InvoiceDate</th>\n",
       "      <th>UnitPrice</th>\n",
       "      <th>CustomerID</th>\n",
       "      <th>Country</th>\n",
       "    </tr>\n",
       "  </thead>\n",
       "  <tbody>\n",
       "    <tr>\n",
       "      <th>0</th>\n",
       "      <td>536365</td>\n",
       "      <td>85123A</td>\n",
       "      <td>WHITE HANGING HEART T-LIGHT HOLDER</td>\n",
       "      <td>6</td>\n",
       "      <td>01-12-2010 08:26</td>\n",
       "      <td>2.55</td>\n",
       "      <td>17850.0</td>\n",
       "      <td>United Kingdom</td>\n",
       "    </tr>\n",
       "    <tr>\n",
       "      <th>1</th>\n",
       "      <td>536365</td>\n",
       "      <td>71053</td>\n",
       "      <td>WHITE METAL LANTERN</td>\n",
       "      <td>6</td>\n",
       "      <td>01-12-2010 08:26</td>\n",
       "      <td>3.39</td>\n",
       "      <td>17850.0</td>\n",
       "      <td>United Kingdom</td>\n",
       "    </tr>\n",
       "    <tr>\n",
       "      <th>2</th>\n",
       "      <td>536365</td>\n",
       "      <td>84406B</td>\n",
       "      <td>CREAM CUPID HEARTS COAT HANGER</td>\n",
       "      <td>8</td>\n",
       "      <td>01-12-2010 08:26</td>\n",
       "      <td>2.75</td>\n",
       "      <td>17850.0</td>\n",
       "      <td>United Kingdom</td>\n",
       "    </tr>\n",
       "    <tr>\n",
       "      <th>3</th>\n",
       "      <td>536365</td>\n",
       "      <td>84029G</td>\n",
       "      <td>KNITTED UNION FLAG HOT WATER BOTTLE</td>\n",
       "      <td>6</td>\n",
       "      <td>01-12-2010 08:26</td>\n",
       "      <td>3.39</td>\n",
       "      <td>17850.0</td>\n",
       "      <td>United Kingdom</td>\n",
       "    </tr>\n",
       "    <tr>\n",
       "      <th>4</th>\n",
       "      <td>536365</td>\n",
       "      <td>84029E</td>\n",
       "      <td>RED WOOLLY HOTTIE WHITE HEART.</td>\n",
       "      <td>6</td>\n",
       "      <td>01-12-2010 08:26</td>\n",
       "      <td>3.39</td>\n",
       "      <td>17850.0</td>\n",
       "      <td>United Kingdom</td>\n",
       "    </tr>\n",
       "    <tr>\n",
       "      <th>...</th>\n",
       "      <td>...</td>\n",
       "      <td>...</td>\n",
       "      <td>...</td>\n",
       "      <td>...</td>\n",
       "      <td>...</td>\n",
       "      <td>...</td>\n",
       "      <td>...</td>\n",
       "      <td>...</td>\n",
       "    </tr>\n",
       "    <tr>\n",
       "      <th>541904</th>\n",
       "      <td>581587</td>\n",
       "      <td>22613</td>\n",
       "      <td>PACK OF 20 SPACEBOY NAPKINS</td>\n",
       "      <td>12</td>\n",
       "      <td>09-12-2011 12:50</td>\n",
       "      <td>0.85</td>\n",
       "      <td>12680.0</td>\n",
       "      <td>France</td>\n",
       "    </tr>\n",
       "    <tr>\n",
       "      <th>541905</th>\n",
       "      <td>581587</td>\n",
       "      <td>22899</td>\n",
       "      <td>CHILDREN'S APRON DOLLY GIRL</td>\n",
       "      <td>6</td>\n",
       "      <td>09-12-2011 12:50</td>\n",
       "      <td>2.10</td>\n",
       "      <td>12680.0</td>\n",
       "      <td>France</td>\n",
       "    </tr>\n",
       "    <tr>\n",
       "      <th>541906</th>\n",
       "      <td>581587</td>\n",
       "      <td>23254</td>\n",
       "      <td>CHILDRENS CUTLERY DOLLY GIRL</td>\n",
       "      <td>4</td>\n",
       "      <td>09-12-2011 12:50</td>\n",
       "      <td>4.15</td>\n",
       "      <td>12680.0</td>\n",
       "      <td>France</td>\n",
       "    </tr>\n",
       "    <tr>\n",
       "      <th>541907</th>\n",
       "      <td>581587</td>\n",
       "      <td>23255</td>\n",
       "      <td>CHILDRENS CUTLERY CIRCUS PARADE</td>\n",
       "      <td>4</td>\n",
       "      <td>09-12-2011 12:50</td>\n",
       "      <td>4.15</td>\n",
       "      <td>12680.0</td>\n",
       "      <td>France</td>\n",
       "    </tr>\n",
       "    <tr>\n",
       "      <th>541908</th>\n",
       "      <td>581587</td>\n",
       "      <td>22138</td>\n",
       "      <td>BAKING SET 9 PIECE RETROSPOT</td>\n",
       "      <td>3</td>\n",
       "      <td>09-12-2011 12:50</td>\n",
       "      <td>4.95</td>\n",
       "      <td>12680.0</td>\n",
       "      <td>France</td>\n",
       "    </tr>\n",
       "  </tbody>\n",
       "</table>\n",
       "<p>541909 rows × 8 columns</p>\n",
       "</div>"
      ],
      "text/plain": [
       "       InvoiceNo StockCode                          Description  Quantity  \\\n",
       "0         536365    85123A   WHITE HANGING HEART T-LIGHT HOLDER         6   \n",
       "1         536365     71053                  WHITE METAL LANTERN         6   \n",
       "2         536365    84406B       CREAM CUPID HEARTS COAT HANGER         8   \n",
       "3         536365    84029G  KNITTED UNION FLAG HOT WATER BOTTLE         6   \n",
       "4         536365    84029E       RED WOOLLY HOTTIE WHITE HEART.         6   \n",
       "...          ...       ...                                  ...       ...   \n",
       "541904    581587     22613          PACK OF 20 SPACEBOY NAPKINS        12   \n",
       "541905    581587     22899         CHILDREN'S APRON DOLLY GIRL          6   \n",
       "541906    581587     23254        CHILDRENS CUTLERY DOLLY GIRL          4   \n",
       "541907    581587     23255      CHILDRENS CUTLERY CIRCUS PARADE         4   \n",
       "541908    581587     22138        BAKING SET 9 PIECE RETROSPOT          3   \n",
       "\n",
       "             InvoiceDate  UnitPrice  CustomerID         Country  \n",
       "0       01-12-2010 08:26       2.55     17850.0  United Kingdom  \n",
       "1       01-12-2010 08:26       3.39     17850.0  United Kingdom  \n",
       "2       01-12-2010 08:26       2.75     17850.0  United Kingdom  \n",
       "3       01-12-2010 08:26       3.39     17850.0  United Kingdom  \n",
       "4       01-12-2010 08:26       3.39     17850.0  United Kingdom  \n",
       "...                  ...        ...         ...             ...  \n",
       "541904  09-12-2011 12:50       0.85     12680.0          France  \n",
       "541905  09-12-2011 12:50       2.10     12680.0          France  \n",
       "541906  09-12-2011 12:50       4.15     12680.0          France  \n",
       "541907  09-12-2011 12:50       4.15     12680.0          France  \n",
       "541908  09-12-2011 12:50       4.95     12680.0          France  \n",
       "\n",
       "[541909 rows x 8 columns]"
      ]
     },
     "execution_count": 25,
     "metadata": {},
     "output_type": "execute_result"
    }
   ],
   "source": [
    "df"
   ]
  },
  {
   "cell_type": "code",
   "execution_count": 26,
   "metadata": {},
   "outputs": [
    {
     "data": {
      "text/html": [
       "<div>\n",
       "<style scoped>\n",
       "    .dataframe tbody tr th:only-of-type {\n",
       "        vertical-align: middle;\n",
       "    }\n",
       "\n",
       "    .dataframe tbody tr th {\n",
       "        vertical-align: top;\n",
       "    }\n",
       "\n",
       "    .dataframe thead th {\n",
       "        text-align: right;\n",
       "    }\n",
       "</style>\n",
       "<table border=\"1\" class=\"dataframe\">\n",
       "  <thead>\n",
       "    <tr style=\"text-align: right;\">\n",
       "      <th></th>\n",
       "      <th>Quantity</th>\n",
       "      <th>UnitPrice</th>\n",
       "      <th>CustomerID</th>\n",
       "    </tr>\n",
       "  </thead>\n",
       "  <tbody>\n",
       "    <tr>\n",
       "      <th>count</th>\n",
       "      <td>541909.000000</td>\n",
       "      <td>541909.000000</td>\n",
       "      <td>406829.000000</td>\n",
       "    </tr>\n",
       "    <tr>\n",
       "      <th>mean</th>\n",
       "      <td>9.552250</td>\n",
       "      <td>4.611114</td>\n",
       "      <td>15287.690570</td>\n",
       "    </tr>\n",
       "    <tr>\n",
       "      <th>std</th>\n",
       "      <td>218.081158</td>\n",
       "      <td>96.759853</td>\n",
       "      <td>1713.600303</td>\n",
       "    </tr>\n",
       "    <tr>\n",
       "      <th>min</th>\n",
       "      <td>-80995.000000</td>\n",
       "      <td>-11062.060000</td>\n",
       "      <td>12346.000000</td>\n",
       "    </tr>\n",
       "    <tr>\n",
       "      <th>25%</th>\n",
       "      <td>1.000000</td>\n",
       "      <td>1.250000</td>\n",
       "      <td>13953.000000</td>\n",
       "    </tr>\n",
       "    <tr>\n",
       "      <th>50%</th>\n",
       "      <td>3.000000</td>\n",
       "      <td>2.080000</td>\n",
       "      <td>15152.000000</td>\n",
       "    </tr>\n",
       "    <tr>\n",
       "      <th>75%</th>\n",
       "      <td>10.000000</td>\n",
       "      <td>4.130000</td>\n",
       "      <td>16791.000000</td>\n",
       "    </tr>\n",
       "    <tr>\n",
       "      <th>max</th>\n",
       "      <td>80995.000000</td>\n",
       "      <td>38970.000000</td>\n",
       "      <td>18287.000000</td>\n",
       "    </tr>\n",
       "  </tbody>\n",
       "</table>\n",
       "</div>"
      ],
      "text/plain": [
       "            Quantity      UnitPrice     CustomerID\n",
       "count  541909.000000  541909.000000  406829.000000\n",
       "mean        9.552250       4.611114   15287.690570\n",
       "std       218.081158      96.759853    1713.600303\n",
       "min    -80995.000000  -11062.060000   12346.000000\n",
       "25%         1.000000       1.250000   13953.000000\n",
       "50%         3.000000       2.080000   15152.000000\n",
       "75%        10.000000       4.130000   16791.000000\n",
       "max     80995.000000   38970.000000   18287.000000"
      ]
     },
     "execution_count": 26,
     "metadata": {},
     "output_type": "execute_result"
    }
   ],
   "source": [
    "df.describe()"
   ]
  },
  {
   "cell_type": "markdown",
   "metadata": {},
   "source": [
    "- This is about 1 out of every 5 rows.\n",
    "- I will try not to delete them"
   ]
  },
  {
   "cell_type": "code",
   "execution_count": 27,
   "metadata": {},
   "outputs": [
    {
     "data": {
      "text/html": [
       "<div>\n",
       "<style scoped>\n",
       "    .dataframe tbody tr th:only-of-type {\n",
       "        vertical-align: middle;\n",
       "    }\n",
       "\n",
       "    .dataframe tbody tr th {\n",
       "        vertical-align: top;\n",
       "    }\n",
       "\n",
       "    .dataframe thead th {\n",
       "        text-align: right;\n",
       "    }\n",
       "</style>\n",
       "<table border=\"1\" class=\"dataframe\">\n",
       "  <thead>\n",
       "    <tr style=\"text-align: right;\">\n",
       "      <th></th>\n",
       "      <th>InvoiceNo</th>\n",
       "      <th>StockCode</th>\n",
       "      <th>Description</th>\n",
       "      <th>Quantity</th>\n",
       "      <th>InvoiceDate</th>\n",
       "      <th>UnitPrice</th>\n",
       "      <th>CustomerID</th>\n",
       "      <th>Country</th>\n",
       "    </tr>\n",
       "  </thead>\n",
       "  <tbody>\n",
       "    <tr>\n",
       "      <th>622</th>\n",
       "      <td>536414</td>\n",
       "      <td>22139</td>\n",
       "      <td>NaN</td>\n",
       "      <td>56</td>\n",
       "      <td>01-12-2010 11:52</td>\n",
       "      <td>0.00</td>\n",
       "      <td>NaN</td>\n",
       "      <td>United Kingdom</td>\n",
       "    </tr>\n",
       "    <tr>\n",
       "      <th>1443</th>\n",
       "      <td>536544</td>\n",
       "      <td>21773</td>\n",
       "      <td>DECORATIVE ROSE BATHROOM BOTTLE</td>\n",
       "      <td>1</td>\n",
       "      <td>01-12-2010 14:32</td>\n",
       "      <td>2.51</td>\n",
       "      <td>NaN</td>\n",
       "      <td>United Kingdom</td>\n",
       "    </tr>\n",
       "    <tr>\n",
       "      <th>1444</th>\n",
       "      <td>536544</td>\n",
       "      <td>21774</td>\n",
       "      <td>DECORATIVE CATS BATHROOM BOTTLE</td>\n",
       "      <td>2</td>\n",
       "      <td>01-12-2010 14:32</td>\n",
       "      <td>2.51</td>\n",
       "      <td>NaN</td>\n",
       "      <td>United Kingdom</td>\n",
       "    </tr>\n",
       "    <tr>\n",
       "      <th>1445</th>\n",
       "      <td>536544</td>\n",
       "      <td>21786</td>\n",
       "      <td>POLKADOT RAIN HAT</td>\n",
       "      <td>4</td>\n",
       "      <td>01-12-2010 14:32</td>\n",
       "      <td>0.85</td>\n",
       "      <td>NaN</td>\n",
       "      <td>United Kingdom</td>\n",
       "    </tr>\n",
       "    <tr>\n",
       "      <th>1446</th>\n",
       "      <td>536544</td>\n",
       "      <td>21787</td>\n",
       "      <td>RAIN PONCHO RETROSPOT</td>\n",
       "      <td>2</td>\n",
       "      <td>01-12-2010 14:32</td>\n",
       "      <td>1.66</td>\n",
       "      <td>NaN</td>\n",
       "      <td>United Kingdom</td>\n",
       "    </tr>\n",
       "  </tbody>\n",
       "</table>\n",
       "</div>"
      ],
      "text/plain": [
       "     InvoiceNo StockCode                      Description  Quantity  \\\n",
       "622     536414     22139                              NaN        56   \n",
       "1443    536544     21773  DECORATIVE ROSE BATHROOM BOTTLE         1   \n",
       "1444    536544     21774  DECORATIVE CATS BATHROOM BOTTLE         2   \n",
       "1445    536544     21786               POLKADOT RAIN HAT          4   \n",
       "1446    536544     21787            RAIN PONCHO RETROSPOT         2   \n",
       "\n",
       "           InvoiceDate  UnitPrice  CustomerID         Country  \n",
       "622   01-12-2010 11:52       0.00         NaN  United Kingdom  \n",
       "1443  01-12-2010 14:32       2.51         NaN  United Kingdom  \n",
       "1444  01-12-2010 14:32       2.51         NaN  United Kingdom  \n",
       "1445  01-12-2010 14:32       0.85         NaN  United Kingdom  \n",
       "1446  01-12-2010 14:32       1.66         NaN  United Kingdom  "
      ]
     },
     "execution_count": 27,
     "metadata": {},
     "output_type": "execute_result"
    }
   ],
   "source": [
    "df[df.CustomerID.isna()].head()"
   ]
  },
  {
   "cell_type": "markdown",
   "metadata": {},
   "source": [
    "- They look like legit transactions.\n",
    "- I will not remove these transactions. This is too much.\n",
    "- Instead I will replace the null customerIds with a 0. This will indicate that they are missing"
   ]
  },
  {
   "cell_type": "code",
   "execution_count": 28,
   "metadata": {},
   "outputs": [],
   "source": [
    "df = df.replace(np.nan, 0)"
   ]
  },
  {
   "cell_type": "markdown",
   "metadata": {},
   "source": [
    "## Duplicates"
   ]
  },
  {
   "cell_type": "code",
   "execution_count": 29,
   "metadata": {},
   "outputs": [
    {
     "data": {
      "text/plain": [
       "541909"
      ]
     },
     "execution_count": 29,
     "metadata": {},
     "output_type": "execute_result"
    }
   ],
   "source": [
    "len(df)"
   ]
  },
  {
   "cell_type": "code",
   "execution_count": 30,
   "metadata": {},
   "outputs": [
    {
     "data": {
      "text/plain": [
       "5268"
      ]
     },
     "execution_count": 30,
     "metadata": {},
     "output_type": "execute_result"
    }
   ],
   "source": [
    "len(df[df.duplicated()])"
   ]
  },
  {
   "cell_type": "markdown",
   "metadata": {},
   "source": [
    "- looks like, out of 541909, there are 5268 duplicates. Lets dive deeper."
   ]
  },
  {
   "cell_type": "code",
   "execution_count": 31,
   "metadata": {},
   "outputs": [
    {
     "data": {
      "text/html": [
       "<div>\n",
       "<style scoped>\n",
       "    .dataframe tbody tr th:only-of-type {\n",
       "        vertical-align: middle;\n",
       "    }\n",
       "\n",
       "    .dataframe tbody tr th {\n",
       "        vertical-align: top;\n",
       "    }\n",
       "\n",
       "    .dataframe thead th {\n",
       "        text-align: right;\n",
       "    }\n",
       "</style>\n",
       "<table border=\"1\" class=\"dataframe\">\n",
       "  <thead>\n",
       "    <tr style=\"text-align: right;\">\n",
       "      <th></th>\n",
       "      <th>InvoiceNo</th>\n",
       "      <th>StockCode</th>\n",
       "      <th>Description</th>\n",
       "      <th>Quantity</th>\n",
       "      <th>InvoiceDate</th>\n",
       "      <th>UnitPrice</th>\n",
       "      <th>CustomerID</th>\n",
       "      <th>Country</th>\n",
       "    </tr>\n",
       "  </thead>\n",
       "  <tbody>\n",
       "    <tr>\n",
       "      <th>485</th>\n",
       "      <td>536409</td>\n",
       "      <td>22111</td>\n",
       "      <td>SCOTTIE DOG HOT WATER BOTTLE</td>\n",
       "      <td>1</td>\n",
       "      <td>01-12-2010 11:45</td>\n",
       "      <td>4.95</td>\n",
       "      <td>17908.0</td>\n",
       "      <td>United Kingdom</td>\n",
       "    </tr>\n",
       "    <tr>\n",
       "      <th>539</th>\n",
       "      <td>536409</td>\n",
       "      <td>22111</td>\n",
       "      <td>SCOTTIE DOG HOT WATER BOTTLE</td>\n",
       "      <td>1</td>\n",
       "      <td>01-12-2010 11:45</td>\n",
       "      <td>4.95</td>\n",
       "      <td>17908.0</td>\n",
       "      <td>United Kingdom</td>\n",
       "    </tr>\n",
       "  </tbody>\n",
       "</table>\n",
       "</div>"
      ],
      "text/plain": [
       "    InvoiceNo StockCode                   Description  Quantity  \\\n",
       "485    536409     22111  SCOTTIE DOG HOT WATER BOTTLE         1   \n",
       "539    536409     22111  SCOTTIE DOG HOT WATER BOTTLE         1   \n",
       "\n",
       "          InvoiceDate  UnitPrice  CustomerID         Country  \n",
       "485  01-12-2010 11:45       4.95     17908.0  United Kingdom  \n",
       "539  01-12-2010 11:45       4.95     17908.0  United Kingdom  "
      ]
     },
     "execution_count": 31,
     "metadata": {},
     "output_type": "execute_result"
    }
   ],
   "source": [
    "df[(df.InvoiceNo == '536409') & (df.StockCode == '22111')]"
   ]
  },
  {
   "cell_type": "markdown",
   "metadata": {},
   "source": [
    "- Looks like the duplicates are essentially a copy of the same transaction. We can drop them."
   ]
  },
  {
   "cell_type": "code",
   "execution_count": null,
   "metadata": {},
   "outputs": [],
   "source": [
    "len(df[df.Quantity > 1]) # 383058"
   ]
  },
  {
   "cell_type": "code",
   "execution_count": null,
   "metadata": {},
   "outputs": [],
   "source": [
    "df = df[~df.duplicated()]"
   ]
  },
  {
   "cell_type": "markdown",
   "metadata": {},
   "source": [
    "- Now let's check if there are duplicates in the subset: [InvoiceNo, StockCode and CustomerID]"
   ]
  },
  {
   "cell_type": "code",
   "execution_count": null,
   "metadata": {},
   "outputs": [],
   "source": [
    "column_names = [\"InvoiceNo\", \"StockCode\" , \"CustomerID\", \"InvoiceDate\"]\n",
    "df[df.duplicated(subset=column_names)].head()"
   ]
  },
  {
   "cell_type": "code",
   "execution_count": null,
   "metadata": {},
   "outputs": [],
   "source": [
    "df[(df.InvoiceNo == '536381') & (df.StockCode == '71270') & (df.CustomerID == 15311)]"
   ]
  },
  {
   "cell_type": "markdown",
   "metadata": {},
   "source": [
    "- So this is wierd. There are two exact transactions, happened at the same time by the same person. But, with different quantities.\n",
    "\n",
    "- This is actually problematic. I have no way of knowing if these are legit transactions. I need to make some assumptions about the data.\n",
    "\n",
    "Assumptions:\n",
    "- When a customer buys several products in a single purchase. Each will be registered as its own transaction.\n",
    "- Customers that buy a batch of the same product(like 4 PHOTO CLIP LINE in the same transaction), it might be divided into several rows.\n",
    "\n",
    "- Solution: Aggregate the quantities of these transactions"
   ]
  },
  {
   "cell_type": "code",
   "execution_count": 32,
   "metadata": {},
   "outputs": [],
   "source": [
    "from pyspark.sql import SparkSession\n",
    "\n",
    "df = load_data()\n",
    "df = pre_processing(df)\n",
    "df[\"InvoiceDate\"] = df[\"InvoiceDate\"].astype(str)\n",
    "\n",
    "spark = SparkSession.builder.appName('online_retail').master(\"local\").getOrCreate()\n",
    "\n",
    "spark_df = spark.createDataFrame(df)\n",
    "\n",
    "spark_df.createOrReplaceTempView(\"spark_df\")"
   ]
  },
  {
   "cell_type": "code",
   "execution_count": 33,
   "metadata": {},
   "outputs": [
    {
     "name": "stdout",
     "output_type": "stream",
     "text": [
      "+---------+---------+--------------------+--------+-------------------+---------+----------+--------------+\n",
      "|InvoiceNo|StockCode|         description|quantity|        InvoiceDate|UnitPrice|CustomerID|       Country|\n",
      "+---------+---------+--------------------+--------+-------------------+---------+----------+--------------+\n",
      "|   540026|    22263|FELT EGG COSY LAD...|       7|2011-04-01 13:25:00|     0.81|       0.0|United Kingdom|\n",
      "|   540026|    85094|CANDY SPOT EGG WA...|       2|2011-04-01 13:25:00|     0.85|       0.0|United Kingdom|\n",
      "|   540026|    85103|SILVER T-LIGHT SE...|       1|2011-04-01 13:25:00|     5.91|       0.0|United Kingdom|\n",
      "|   540026|    21221|SET/4 BADGES CUTE...|       3|2011-04-01 13:25:00|     0.85|       0.0|United Kingdom|\n",
      "|   540026|    21991|BOHEMIAN COLLAGE ...|       3|2011-04-01 13:25:00|     2.51|       0.0|United Kingdom|\n",
      "+---------+---------+--------------------+--------+-------------------+---------+----------+--------------+\n",
      "only showing top 5 rows\n",
      "\n"
     ]
    }
   ],
   "source": [
    "query = \"\"\"\n",
    "select \n",
    "    InvoiceNo,\n",
    "    StockCode,\n",
    "    description,\n",
    "    sum(quantity) as quantity,\n",
    "    InvoiceDate,\n",
    "    UnitPrice,\n",
    "    CustomerID,\n",
    "    Country\n",
    "from spark_df\n",
    "group by\n",
    "    InvoiceNo,\n",
    "    StockCode,\n",
    "    CustomerID,\n",
    "    description,\n",
    "    InvoiceDate,\n",
    "    UnitPrice,\n",
    "    Country\n",
    "\"\"\"\n",
    "\n",
    "spark_df = spark.sql(query)\n",
    "spark_df.show(5)\n",
    "\n",
    "\n"
   ]
  },
  {
   "cell_type": "code",
   "execution_count": 34,
   "metadata": {},
   "outputs": [],
   "source": [
    "df = spark_df.toPandas()\n",
    "df[\"InvoiceDate\"] = pd.to_datetime(df[\"InvoiceDate\"])"
   ]
  },
  {
   "cell_type": "code",
   "execution_count": 35,
   "metadata": {},
   "outputs": [
    {
     "data": {
      "text/html": [
       "<div>\n",
       "<style scoped>\n",
       "    .dataframe tbody tr th:only-of-type {\n",
       "        vertical-align: middle;\n",
       "    }\n",
       "\n",
       "    .dataframe tbody tr th {\n",
       "        vertical-align: top;\n",
       "    }\n",
       "\n",
       "    .dataframe thead th {\n",
       "        text-align: right;\n",
       "    }\n",
       "</style>\n",
       "<table border=\"1\" class=\"dataframe\">\n",
       "  <thead>\n",
       "    <tr style=\"text-align: right;\">\n",
       "      <th></th>\n",
       "      <th>InvoiceNo</th>\n",
       "      <th>StockCode</th>\n",
       "      <th>description</th>\n",
       "      <th>quantity</th>\n",
       "      <th>InvoiceDate</th>\n",
       "      <th>UnitPrice</th>\n",
       "      <th>CustomerID</th>\n",
       "      <th>Country</th>\n",
       "    </tr>\n",
       "  </thead>\n",
       "  <tbody>\n",
       "    <tr>\n",
       "      <th>0</th>\n",
       "      <td>540026</td>\n",
       "      <td>22263</td>\n",
       "      <td>FELT EGG COSY LADYBIRD</td>\n",
       "      <td>7</td>\n",
       "      <td>2011-04-01 13:25:00</td>\n",
       "      <td>0.81</td>\n",
       "      <td>0.0</td>\n",
       "      <td>United Kingdom</td>\n",
       "    </tr>\n",
       "    <tr>\n",
       "      <th>1</th>\n",
       "      <td>540026</td>\n",
       "      <td>85094</td>\n",
       "      <td>CANDY SPOT EGG WARMER RABBIT</td>\n",
       "      <td>2</td>\n",
       "      <td>2011-04-01 13:25:00</td>\n",
       "      <td>0.85</td>\n",
       "      <td>0.0</td>\n",
       "      <td>United Kingdom</td>\n",
       "    </tr>\n",
       "    <tr>\n",
       "      <th>2</th>\n",
       "      <td>540026</td>\n",
       "      <td>85103</td>\n",
       "      <td>SILVER T-LIGHT SETTING</td>\n",
       "      <td>1</td>\n",
       "      <td>2011-04-01 13:25:00</td>\n",
       "      <td>5.91</td>\n",
       "      <td>0.0</td>\n",
       "      <td>United Kingdom</td>\n",
       "    </tr>\n",
       "    <tr>\n",
       "      <th>3</th>\n",
       "      <td>540026</td>\n",
       "      <td>21221</td>\n",
       "      <td>SET/4 BADGES CUTE CREATURES</td>\n",
       "      <td>3</td>\n",
       "      <td>2011-04-01 13:25:00</td>\n",
       "      <td>0.85</td>\n",
       "      <td>0.0</td>\n",
       "      <td>United Kingdom</td>\n",
       "    </tr>\n",
       "    <tr>\n",
       "      <th>4</th>\n",
       "      <td>540026</td>\n",
       "      <td>21991</td>\n",
       "      <td>BOHEMIAN COLLAGE STATIONERY SET</td>\n",
       "      <td>3</td>\n",
       "      <td>2011-04-01 13:25:00</td>\n",
       "      <td>2.51</td>\n",
       "      <td>0.0</td>\n",
       "      <td>United Kingdom</td>\n",
       "    </tr>\n",
       "  </tbody>\n",
       "</table>\n",
       "</div>"
      ],
      "text/plain": [
       "  InvoiceNo StockCode                      description  quantity  \\\n",
       "0    540026     22263          FELT EGG COSY LADYBIRD          7   \n",
       "1    540026     85094     CANDY SPOT EGG WARMER RABBIT         2   \n",
       "2    540026     85103           SILVER T-LIGHT SETTING         1   \n",
       "3    540026     21221      SET/4 BADGES CUTE CREATURES         3   \n",
       "4    540026     21991  BOHEMIAN COLLAGE STATIONERY SET         3   \n",
       "\n",
       "          InvoiceDate  UnitPrice  CustomerID         Country  \n",
       "0 2011-04-01 13:25:00       0.81         0.0  United Kingdom  \n",
       "1 2011-04-01 13:25:00       0.85         0.0  United Kingdom  \n",
       "2 2011-04-01 13:25:00       5.91         0.0  United Kingdom  \n",
       "3 2011-04-01 13:25:00       0.85         0.0  United Kingdom  \n",
       "4 2011-04-01 13:25:00       2.51         0.0  United Kingdom  "
      ]
     },
     "execution_count": 35,
     "metadata": {},
     "output_type": "execute_result"
    }
   ],
   "source": [
    "df.head()"
   ]
  },
  {
   "cell_type": "markdown",
   "metadata": {},
   "source": [
    "- Let's check if there are duplicate transactions again"
   ]
  },
  {
   "cell_type": "code",
   "execution_count": 36,
   "metadata": {},
   "outputs": [
    {
     "data": {
      "text/html": [
       "<div>\n",
       "<style scoped>\n",
       "    .dataframe tbody tr th:only-of-type {\n",
       "        vertical-align: middle;\n",
       "    }\n",
       "\n",
       "    .dataframe tbody tr th {\n",
       "        vertical-align: top;\n",
       "    }\n",
       "\n",
       "    .dataframe thead th {\n",
       "        text-align: right;\n",
       "    }\n",
       "</style>\n",
       "<table border=\"1\" class=\"dataframe\">\n",
       "  <thead>\n",
       "    <tr style=\"text-align: right;\">\n",
       "      <th></th>\n",
       "      <th>InvoiceNo</th>\n",
       "      <th>StockCode</th>\n",
       "      <th>description</th>\n",
       "      <th>quantity</th>\n",
       "      <th>InvoiceDate</th>\n",
       "      <th>UnitPrice</th>\n",
       "      <th>CustomerID</th>\n",
       "      <th>Country</th>\n",
       "    </tr>\n",
       "  </thead>\n",
       "  <tbody>\n",
       "  </tbody>\n",
       "</table>\n",
       "</div>"
      ],
      "text/plain": [
       "Empty DataFrame\n",
       "Columns: [InvoiceNo, StockCode, description, quantity, InvoiceDate, UnitPrice, CustomerID, Country]\n",
       "Index: []"
      ]
     },
     "execution_count": 36,
     "metadata": {},
     "output_type": "execute_result"
    }
   ],
   "source": [
    "column_names = [\"InvoiceNo\", \"StockCode\" , \"CustomerID\", \"InvoiceDate\", \"Country\", \"UnitPrice\", \"description\"]\n",
    "df[df.duplicated(subset=column_names)]"
   ]
  },
  {
   "cell_type": "markdown",
   "metadata": {},
   "source": [
    "## Checking for other issues"
   ]
  },
  {
   "cell_type": "code",
   "execution_count": 37,
   "metadata": {},
   "outputs": [],
   "source": [
    "df = load_data()\n",
    "df = pre_processing(df)"
   ]
  },
  {
   "cell_type": "code",
   "execution_count": 38,
   "metadata": {},
   "outputs": [
    {
     "data": {
      "text/html": [
       "<div>\n",
       "<style scoped>\n",
       "    .dataframe tbody tr th:only-of-type {\n",
       "        vertical-align: middle;\n",
       "    }\n",
       "\n",
       "    .dataframe tbody tr th {\n",
       "        vertical-align: top;\n",
       "    }\n",
       "\n",
       "    .dataframe thead th {\n",
       "        text-align: right;\n",
       "    }\n",
       "</style>\n",
       "<table border=\"1\" class=\"dataframe\">\n",
       "  <thead>\n",
       "    <tr style=\"text-align: right;\">\n",
       "      <th></th>\n",
       "      <th>quantity</th>\n",
       "      <th>InvoiceDate</th>\n",
       "      <th>UnitPrice</th>\n",
       "      <th>CustomerID</th>\n",
       "      <th>Profit</th>\n",
       "    </tr>\n",
       "  </thead>\n",
       "  <tbody>\n",
       "    <tr>\n",
       "      <th>count</th>\n",
       "      <td>479447.000000</td>\n",
       "      <td>479447</td>\n",
       "      <td>479447.000000</td>\n",
       "      <td>479447.000000</td>\n",
       "      <td>479447.000000</td>\n",
       "    </tr>\n",
       "    <tr>\n",
       "      <th>mean</th>\n",
       "      <td>10.875865</td>\n",
       "      <td>2011-07-10 23:38:41.902275072</td>\n",
       "      <td>3.862583</td>\n",
       "      <td>11545.912560</td>\n",
       "      <td>20.483303</td>\n",
       "    </tr>\n",
       "    <tr>\n",
       "      <th>min</th>\n",
       "      <td>1.000000</td>\n",
       "      <td>2011-01-02 08:23:00</td>\n",
       "      <td>0.001000</td>\n",
       "      <td>0.000000</td>\n",
       "      <td>0.000000</td>\n",
       "    </tr>\n",
       "    <tr>\n",
       "      <th>25%</th>\n",
       "      <td>1.000000</td>\n",
       "      <td>2011-04-13 13:15:00</td>\n",
       "      <td>1.250000</td>\n",
       "      <td>12406.000000</td>\n",
       "      <td>4.130000</td>\n",
       "    </tr>\n",
       "    <tr>\n",
       "      <th>50%</th>\n",
       "      <td>4.000000</td>\n",
       "      <td>2011-07-17 14:51:00</td>\n",
       "      <td>2.080000</td>\n",
       "      <td>14367.000000</td>\n",
       "      <td>9.960000</td>\n",
       "    </tr>\n",
       "    <tr>\n",
       "      <th>75%</th>\n",
       "      <td>12.000000</td>\n",
       "      <td>2011-10-11 12:37:00</td>\n",
       "      <td>4.130000</td>\n",
       "      <td>16241.000000</td>\n",
       "      <td>17.700000</td>\n",
       "    </tr>\n",
       "    <tr>\n",
       "      <th>max</th>\n",
       "      <td>80995.000000</td>\n",
       "      <td>2011-12-10 17:19:00</td>\n",
       "      <td>11062.060000</td>\n",
       "      <td>18287.000000</td>\n",
       "      <td>168469.600000</td>\n",
       "    </tr>\n",
       "    <tr>\n",
       "      <th>std</th>\n",
       "      <td>163.155257</td>\n",
       "      <td>NaN</td>\n",
       "      <td>31.691205</td>\n",
       "      <td>6720.170954</td>\n",
       "      <td>282.831466</td>\n",
       "    </tr>\n",
       "  </tbody>\n",
       "</table>\n",
       "</div>"
      ],
      "text/plain": [
       "            quantity                    InvoiceDate      UnitPrice  \\\n",
       "count  479447.000000                         479447  479447.000000   \n",
       "mean       10.875865  2011-07-10 23:38:41.902275072       3.862583   \n",
       "min         1.000000            2011-01-02 08:23:00       0.001000   \n",
       "25%         1.000000            2011-04-13 13:15:00       1.250000   \n",
       "50%         4.000000            2011-07-17 14:51:00       2.080000   \n",
       "75%        12.000000            2011-10-11 12:37:00       4.130000   \n",
       "max     80995.000000            2011-12-10 17:19:00   11062.060000   \n",
       "std       163.155257                            NaN      31.691205   \n",
       "\n",
       "          CustomerID         Profit  \n",
       "count  479447.000000  479447.000000  \n",
       "mean    11545.912560      20.483303  \n",
       "min         0.000000       0.000000  \n",
       "25%     12406.000000       4.130000  \n",
       "50%     14367.000000       9.960000  \n",
       "75%     16241.000000      17.700000  \n",
       "max     18287.000000  168469.600000  \n",
       "std      6720.170954     282.831466  "
      ]
     },
     "execution_count": 38,
     "metadata": {},
     "output_type": "execute_result"
    }
   ],
   "source": [
    "df.describe()"
   ]
  },
  {
   "cell_type": "code",
   "execution_count": 39,
   "metadata": {},
   "outputs": [
    {
     "name": "stdout",
     "output_type": "stream",
     "text": [
      "<class 'pandas.core.frame.DataFrame'>\n",
      "RangeIndex: 479447 entries, 0 to 479446\n",
      "Data columns (total 9 columns):\n",
      " #   Column       Non-Null Count   Dtype         \n",
      "---  ------       --------------   -----         \n",
      " 0   InvoiceNo    479447 non-null  object        \n",
      " 1   StockCode    479447 non-null  object        \n",
      " 2   description  479447 non-null  object        \n",
      " 3   quantity     479447 non-null  int64         \n",
      " 4   InvoiceDate  479447 non-null  datetime64[ns]\n",
      " 5   UnitPrice    479447 non-null  float64       \n",
      " 6   CustomerID   479447 non-null  float64       \n",
      " 7   Country      479447 non-null  object        \n",
      " 8   Profit       479447 non-null  float64       \n",
      "dtypes: datetime64[ns](1), float64(3), int64(1), object(4)\n",
      "memory usage: 32.9+ MB\n"
     ]
    }
   ],
   "source": [
    "df.info()"
   ]
  },
  {
   "cell_type": "code",
   "execution_count": 40,
   "metadata": {},
   "outputs": [
    {
     "data": {
      "text/plain": [
       "InvoiceNo      0\n",
       "StockCode      0\n",
       "description    0\n",
       "quantity       0\n",
       "InvoiceDate    0\n",
       "UnitPrice      0\n",
       "CustomerID     0\n",
       "Country        0\n",
       "Profit         0\n",
       "dtype: int64"
      ]
     },
     "execution_count": 40,
     "metadata": {},
     "output_type": "execute_result"
    }
   ],
   "source": [
    "df.isna().sum()"
   ]
  },
  {
   "cell_type": "code",
   "execution_count": 41,
   "metadata": {},
   "outputs": [
    {
     "data": {
      "text/plain": [
       "InvoiceNo      0\n",
       "StockCode      0\n",
       "description    0\n",
       "quantity       0\n",
       "InvoiceDate    0\n",
       "UnitPrice      0\n",
       "CustomerID     0\n",
       "Country        0\n",
       "Profit         0\n",
       "dtype: int64"
      ]
     },
     "execution_count": 41,
     "metadata": {},
     "output_type": "execute_result"
    }
   ],
   "source": [
    "df.isnull().sum()"
   ]
  },
  {
   "cell_type": "markdown",
   "metadata": {},
   "source": [
    "# EDA"
   ]
  },
  {
   "cell_type": "code",
   "execution_count": null,
   "metadata": {},
   "outputs": [],
   "source": [
    "df = load_data()\n",
    "df = pre_processing(df)"
   ]
  },
  {
   "cell_type": "code",
   "execution_count": null,
   "metadata": {},
   "outputs": [],
   "source": [
    "df.head()"
   ]
  },
  {
   "cell_type": "markdown",
   "metadata": {},
   "source": [
    "- Let's start with an overall report of the data\n",
    "\n",
    "Notes:\n",
    "\n",
    "- There are 3922 unique products. But there are 4026 descriptions. Meaning there are products with the same StockCode but different description. I will leave it as it is. The difference in the descirptions is because of commas, spaces etc. Not important.\n",
    "\n",
    "- About 98% of the transactions occured in the second half of the InvoiceDate column values\n",
    "\n",
    "- About 80% of the transactions occured in the UK"
   ]
  },
  {
   "cell_type": "code",
   "execution_count": null,
   "metadata": {},
   "outputs": [],
   "source": [
    "## Ghadi n desctivih it mkahdamach\n",
    "#profile = ProfileReport(df, title=\"Data Report\")\n",
    "#profile"
   ]
  },
  {
   "cell_type": "code",
   "execution_count": null,
   "metadata": {},
   "outputs": [],
   "source": [
    "## "
   ]
  },
  {
   "cell_type": "code",
   "execution_count": null,
   "metadata": {},
   "outputs": [],
   "source": []
  },
  {
   "cell_type": "code",
   "execution_count": null,
   "metadata": {},
   "outputs": [],
   "source": []
  },
  {
   "cell_type": "code",
   "execution_count": null,
   "metadata": {},
   "outputs": [],
   "source": []
  },
  {
   "cell_type": "code",
   "execution_count": null,
   "metadata": {},
   "outputs": [],
   "source": []
  },
  {
   "cell_type": "markdown",
   "metadata": {},
   "source": [
    "# Creating a Dashboard\n",
    "\n",
    "Lets load the data to csv file and upload it to Tableau\n",
    "\n",
    "- I will add a column called profits"
   ]
  },
  {
   "cell_type": "code",
   "execution_count": 42,
   "metadata": {},
   "outputs": [],
   "source": [
    "df = load_data()\n",
    "df = pre_processing(df)\n",
    "df.to_csv(\"clean_data.csv\")"
   ]
  },
  {
   "cell_type": "code",
   "execution_count": 43,
   "metadata": {},
   "outputs": [
    {
     "data": {
      "text/html": [
       "<div>\n",
       "<style scoped>\n",
       "    .dataframe tbody tr th:only-of-type {\n",
       "        vertical-align: middle;\n",
       "    }\n",
       "\n",
       "    .dataframe tbody tr th {\n",
       "        vertical-align: top;\n",
       "    }\n",
       "\n",
       "    .dataframe thead th {\n",
       "        text-align: right;\n",
       "    }\n",
       "</style>\n",
       "<table border=\"1\" class=\"dataframe\">\n",
       "  <thead>\n",
       "    <tr style=\"text-align: right;\">\n",
       "      <th></th>\n",
       "      <th>InvoiceNo</th>\n",
       "      <th>StockCode</th>\n",
       "      <th>description</th>\n",
       "      <th>quantity</th>\n",
       "      <th>InvoiceDate</th>\n",
       "      <th>UnitPrice</th>\n",
       "      <th>CustomerID</th>\n",
       "      <th>Country</th>\n",
       "      <th>Profit</th>\n",
       "    </tr>\n",
       "  </thead>\n",
       "  <tbody>\n",
       "    <tr>\n",
       "      <th>0</th>\n",
       "      <td>540026</td>\n",
       "      <td>22263</td>\n",
       "      <td>FELT EGG COSY LADYBIRD</td>\n",
       "      <td>7</td>\n",
       "      <td>2011-04-01 13:25:00</td>\n",
       "      <td>0.81</td>\n",
       "      <td>0.0</td>\n",
       "      <td>United Kingdom</td>\n",
       "      <td>5.67</td>\n",
       "    </tr>\n",
       "    <tr>\n",
       "      <th>1</th>\n",
       "      <td>540026</td>\n",
       "      <td>85094</td>\n",
       "      <td>CANDY SPOT EGG WARMER RABBIT</td>\n",
       "      <td>2</td>\n",
       "      <td>2011-04-01 13:25:00</td>\n",
       "      <td>0.85</td>\n",
       "      <td>0.0</td>\n",
       "      <td>United Kingdom</td>\n",
       "      <td>1.70</td>\n",
       "    </tr>\n",
       "    <tr>\n",
       "      <th>2</th>\n",
       "      <td>540026</td>\n",
       "      <td>85103</td>\n",
       "      <td>SILVER T-LIGHT SETTING</td>\n",
       "      <td>1</td>\n",
       "      <td>2011-04-01 13:25:00</td>\n",
       "      <td>5.91</td>\n",
       "      <td>0.0</td>\n",
       "      <td>United Kingdom</td>\n",
       "      <td>5.91</td>\n",
       "    </tr>\n",
       "    <tr>\n",
       "      <th>3</th>\n",
       "      <td>540026</td>\n",
       "      <td>21221</td>\n",
       "      <td>SET/4 BADGES CUTE CREATURES</td>\n",
       "      <td>3</td>\n",
       "      <td>2011-04-01 13:25:00</td>\n",
       "      <td>0.85</td>\n",
       "      <td>0.0</td>\n",
       "      <td>United Kingdom</td>\n",
       "      <td>2.55</td>\n",
       "    </tr>\n",
       "    <tr>\n",
       "      <th>4</th>\n",
       "      <td>540026</td>\n",
       "      <td>21991</td>\n",
       "      <td>BOHEMIAN COLLAGE STATIONERY SET</td>\n",
       "      <td>3</td>\n",
       "      <td>2011-04-01 13:25:00</td>\n",
       "      <td>2.51</td>\n",
       "      <td>0.0</td>\n",
       "      <td>United Kingdom</td>\n",
       "      <td>7.53</td>\n",
       "    </tr>\n",
       "    <tr>\n",
       "      <th>...</th>\n",
       "      <td>...</td>\n",
       "      <td>...</td>\n",
       "      <td>...</td>\n",
       "      <td>...</td>\n",
       "      <td>...</td>\n",
       "      <td>...</td>\n",
       "      <td>...</td>\n",
       "      <td>...</td>\n",
       "      <td>...</td>\n",
       "    </tr>\n",
       "    <tr>\n",
       "      <th>479442</th>\n",
       "      <td>581498</td>\n",
       "      <td>23198</td>\n",
       "      <td>PANTRY MAGNETIC  SHOPPING LIST</td>\n",
       "      <td>2</td>\n",
       "      <td>2011-09-12 10:26:00</td>\n",
       "      <td>3.29</td>\n",
       "      <td>0.0</td>\n",
       "      <td>United Kingdom</td>\n",
       "      <td>6.58</td>\n",
       "    </tr>\n",
       "    <tr>\n",
       "      <th>479443</th>\n",
       "      <td>581498</td>\n",
       "      <td>23494</td>\n",
       "      <td>VINTAGE DOILY DELUXE SEWING KIT</td>\n",
       "      <td>1</td>\n",
       "      <td>2011-09-12 10:26:00</td>\n",
       "      <td>12.46</td>\n",
       "      <td>0.0</td>\n",
       "      <td>United Kingdom</td>\n",
       "      <td>12.46</td>\n",
       "    </tr>\n",
       "    <tr>\n",
       "      <th>479444</th>\n",
       "      <td>581567</td>\n",
       "      <td>22627</td>\n",
       "      <td>MINT KITCHEN SCALES</td>\n",
       "      <td>2</td>\n",
       "      <td>2011-09-12 11:56:00</td>\n",
       "      <td>8.50</td>\n",
       "      <td>16626.0</td>\n",
       "      <td>United Kingdom</td>\n",
       "      <td>17.00</td>\n",
       "    </tr>\n",
       "    <tr>\n",
       "      <th>479445</th>\n",
       "      <td>581571</td>\n",
       "      <td>44234</td>\n",
       "      <td>ASSORTED CIRCULAR MOBILE</td>\n",
       "      <td>1</td>\n",
       "      <td>2011-09-12 12:00:00</td>\n",
       "      <td>0.21</td>\n",
       "      <td>15311.0</td>\n",
       "      <td>United Kingdom</td>\n",
       "      <td>0.21</td>\n",
       "    </tr>\n",
       "    <tr>\n",
       "      <th>479446</th>\n",
       "      <td>581580</td>\n",
       "      <td>23334</td>\n",
       "      <td>IVORY WICKER HEART SMALL</td>\n",
       "      <td>4</td>\n",
       "      <td>2011-09-12 12:20:00</td>\n",
       "      <td>0.63</td>\n",
       "      <td>12748.0</td>\n",
       "      <td>United Kingdom</td>\n",
       "      <td>2.52</td>\n",
       "    </tr>\n",
       "  </tbody>\n",
       "</table>\n",
       "<p>479447 rows × 9 columns</p>\n",
       "</div>"
      ],
      "text/plain": [
       "       InvoiceNo StockCode                       description  quantity  \\\n",
       "0         540026     22263           FELT EGG COSY LADYBIRD          7   \n",
       "1         540026     85094      CANDY SPOT EGG WARMER RABBIT         2   \n",
       "2         540026     85103            SILVER T-LIGHT SETTING         1   \n",
       "3         540026     21221       SET/4 BADGES CUTE CREATURES         3   \n",
       "4         540026     21991   BOHEMIAN COLLAGE STATIONERY SET         3   \n",
       "...          ...       ...                               ...       ...   \n",
       "479442    581498     23198    PANTRY MAGNETIC  SHOPPING LIST         2   \n",
       "479443    581498     23494  VINTAGE DOILY DELUXE SEWING KIT          1   \n",
       "479444    581567     22627               MINT KITCHEN SCALES         2   \n",
       "479445    581571     44234          ASSORTED CIRCULAR MOBILE         1   \n",
       "479446    581580     23334          IVORY WICKER HEART SMALL         4   \n",
       "\n",
       "               InvoiceDate  UnitPrice  CustomerID         Country  Profit  \n",
       "0      2011-04-01 13:25:00       0.81         0.0  United Kingdom    5.67  \n",
       "1      2011-04-01 13:25:00       0.85         0.0  United Kingdom    1.70  \n",
       "2      2011-04-01 13:25:00       5.91         0.0  United Kingdom    5.91  \n",
       "3      2011-04-01 13:25:00       0.85         0.0  United Kingdom    2.55  \n",
       "4      2011-04-01 13:25:00       2.51         0.0  United Kingdom    7.53  \n",
       "...                    ...        ...         ...             ...     ...  \n",
       "479442 2011-09-12 10:26:00       3.29         0.0  United Kingdom    6.58  \n",
       "479443 2011-09-12 10:26:00      12.46         0.0  United Kingdom   12.46  \n",
       "479444 2011-09-12 11:56:00       8.50     16626.0  United Kingdom   17.00  \n",
       "479445 2011-09-12 12:00:00       0.21     15311.0  United Kingdom    0.21  \n",
       "479446 2011-09-12 12:20:00       0.63     12748.0  United Kingdom    2.52  \n",
       "\n",
       "[479447 rows x 9 columns]"
      ]
     },
     "execution_count": 43,
     "metadata": {},
     "output_type": "execute_result"
    }
   ],
   "source": [
    "df"
   ]
  },
  {
   "cell_type": "markdown",
   "metadata": {},
   "source": [
    "# Answering Business Questions\n",
    "\n",
    "    Sales Analysis:\n",
    "        What is the total revenue for each invoice?\n",
    "        What is the total revenue for each customer?\n",
    "        Which products have the highest total sales revenue?\n",
    "        What is the overall sales trend over time?\n",
    "\n",
    "    Product Analysis:\n",
    "        Which products are the best-sellers in terms of quantity sold?\n",
    "        What is the average unit price for each product?\n",
    "        What is the distribution of products across different categories?\n",
    "        Are there any products that are frequently bought together?\n",
    "\n",
    "    Customer Analysis:\n",
    "        Who are the top customers based on total spending?\n",
    "        What is the distribution of customers by country?\n",
    "        What is the average order quantity per customer?\n",
    "        How often do customers make repeat purchases?\n",
    "\n",
    "    Time Analysis:\n",
    "        What are the busiest months in terms of sales volume?\n",
    "        Is there a pattern in sales based on days of the week?\n",
    "        How does sales performance vary by different times of the day?\n",
    "\n",
    "    Geographical Analysis:\n",
    "        Which countries contribute the most to sales revenue?\n",
    "        Are there any regional preferences in product purchases?\n",
    "        How does customer behavior differ across countries?\n",
    "\n",
    "    Inventory Analysis:\n",
    "        What is the stock movement for each product (quantity bought vs. quantity sold)?\n",
    "        Are there any products with consistently low inventory turnover?\n",
    "        How does the inventory turnover differ for different product categories?\n",
    "\n",
    "    Price Analysis:\n",
    "        What is the average unit price for products in different categories?\n",
    "        Are there any pricing strategies that lead to increased sales?\n",
    "        How does the price affect the quantity of products sold?\n",
    "\n",
    "    Customer Segmentation:\n",
    "        Can customers be grouped into segments based on their purchasing behavior?\n",
    "        What are the characteristics of high-value customers?\n",
    "        Are there any trends or patterns specific to different customer segments?\n",
    "\n",
    "    Invoice Patterns:\n",
    "        What is the average number of products per invoice?\n",
    "        How frequently do customers make repeat purchases within a short time frame?\n",
    "\n",
    "    Returns and Refunds:\n",
    "        What is the frequency of product returns?\n",
    "        Are there any specific products that are more prone to returns?\n",
    "        How do returns impact overall revenue?"
   ]
  },
  {
   "cell_type": "code",
   "execution_count": 45,
   "metadata": {},
   "outputs": [],
   "source": [
    "SPARK.stop()"
   ]
  },
  {
   "cell_type": "code",
   "execution_count": 46,
   "metadata": {},
   "outputs": [],
   "source": [
    "SPARK = SparkSession.builder.appName('online_retail').master(\"local\").getOrCreate()"
   ]
  },
  {
   "cell_type": "code",
   "execution_count": 47,
   "metadata": {},
   "outputs": [],
   "source": [
    "# commet dialy\n",
    "df = load_data()\n",
    "df = pre_processing(df)\n",
    "\n",
    "spark_df = SPARK.createDataFrame(df)\n",
    "\n",
    "spark_df.createOrReplaceTempView(\"online_retail\")"
   ]
  },
  {
   "cell_type": "code",
   "execution_count": 48,
   "metadata": {},
   "outputs": [
    {
     "name": "stdout",
     "output_type": "stream",
     "text": [
      "+---------+---------+--------------------+--------+-------------------+---------+----------+--------------+------+\n",
      "|InvoiceNo|StockCode|         description|quantity|        InvoiceDate|UnitPrice|CustomerID|       Country|Profit|\n",
      "+---------+---------+--------------------+--------+-------------------+---------+----------+--------------+------+\n",
      "|   540026|    22263|FELT EGG COSY LAD...|       7|2011-04-01 13:25:00|     0.81|       0.0|United Kingdom|  5.67|\n",
      "|   540026|    85094|CANDY SPOT EGG WA...|       2|2011-04-01 13:25:00|     0.85|       0.0|United Kingdom|   1.7|\n",
      "|   540026|    85103|SILVER T-LIGHT SE...|       1|2011-04-01 13:25:00|     5.91|       0.0|United Kingdom|  5.91|\n",
      "|   540026|    21221|SET/4 BADGES CUTE...|       3|2011-04-01 13:25:00|     0.85|       0.0|United Kingdom|  2.55|\n",
      "|   540026|    21991|BOHEMIAN COLLAGE ...|       3|2011-04-01 13:25:00|     2.51|       0.0|United Kingdom|  7.53|\n",
      "+---------+---------+--------------------+--------+-------------------+---------+----------+--------------+------+\n",
      "\n"
     ]
    }
   ],
   "source": [
    "query = \"\"\"\n",
    "select *\n",
    "from online_retail\n",
    "limit 5\n",
    "\"\"\"\n",
    "\n",
    "results = SPARK.sql(query)\n",
    "results.show()"
   ]
  },
  {
   "cell_type": "markdown",
   "metadata": {},
   "source": [
    "##     Sales Analysis:\n",
    "\n",
    "        What is the total revenue for each invoice?\n",
    "        What is the total revenue for each customer?\n",
    "        Which products have the highest total sales revenue?\n",
    "        What is the overall sales trend over time?\n"
   ]
  },
  {
   "cell_type": "markdown",
   "metadata": {},
   "source": [
    "### What is the total revenue for each invoice?"
   ]
  },
  {
   "cell_type": "code",
   "execution_count": 49,
   "metadata": {},
   "outputs": [
    {
     "data": {
      "text/html": [
       "<div>\n",
       "<style scoped>\n",
       "    .dataframe tbody tr th:only-of-type {\n",
       "        vertical-align: middle;\n",
       "    }\n",
       "\n",
       "    .dataframe tbody tr th {\n",
       "        vertical-align: top;\n",
       "    }\n",
       "\n",
       "    .dataframe thead th {\n",
       "        text-align: right;\n",
       "    }\n",
       "</style>\n",
       "<table border=\"1\" class=\"dataframe\">\n",
       "  <thead>\n",
       "    <tr style=\"text-align: right;\">\n",
       "      <th></th>\n",
       "      <th>InvoiceNo</th>\n",
       "      <th>InvoiceProfit</th>\n",
       "      <th>num_of_transactions</th>\n",
       "    </tr>\n",
       "  </thead>\n",
       "  <tbody>\n",
       "    <tr>\n",
       "      <th>0</th>\n",
       "      <td>581483</td>\n",
       "      <td>168469.60</td>\n",
       "      <td>1</td>\n",
       "    </tr>\n",
       "    <tr>\n",
       "      <th>1</th>\n",
       "      <td>541431</td>\n",
       "      <td>77183.60</td>\n",
       "      <td>1</td>\n",
       "    </tr>\n",
       "    <tr>\n",
       "      <th>2</th>\n",
       "      <td>574941</td>\n",
       "      <td>52940.94</td>\n",
       "      <td>101</td>\n",
       "    </tr>\n",
       "    <tr>\n",
       "      <th>3</th>\n",
       "      <td>576365</td>\n",
       "      <td>50653.91</td>\n",
       "      <td>99</td>\n",
       "    </tr>\n",
       "    <tr>\n",
       "      <th>4</th>\n",
       "      <td>556444</td>\n",
       "      <td>38970.00</td>\n",
       "      <td>1</td>\n",
       "    </tr>\n",
       "  </tbody>\n",
       "</table>\n",
       "</div>"
      ],
      "text/plain": [
       "  InvoiceNo  InvoiceProfit  num_of_transactions\n",
       "0    581483      168469.60                    1\n",
       "1    541431       77183.60                    1\n",
       "2    574941       52940.94                  101\n",
       "3    576365       50653.91                   99\n",
       "4    556444       38970.00                    1"
      ]
     },
     "execution_count": 49,
     "metadata": {},
     "output_type": "execute_result"
    }
   ],
   "source": [
    "query = \"\"\"\n",
    "select \n",
    "    InvoiceNo,\n",
    "    round(sum(Profit), 2) as InvoiceProfit,\n",
    "    count(*) as num_of_transactions\n",
    "from online_retail\n",
    "group by\n",
    "    InvoiceNo\n",
    "order by sum(Profit) desc\n",
    "\"\"\"\n",
    "\n",
    "invoice_revenues = SPARK.sql(query).toPandas()\n",
    "\n",
    "invoice_revenues.head()"
   ]
  },
  {
   "cell_type": "code",
   "execution_count": 52,
   "metadata": {},
   "outputs": [
    {
     "name": "stderr",
     "output_type": "stream",
     "text": [
      "/tmp/ipykernel_724/1488741216.py:1: FutureWarning: \n",
      "\n",
      "Passing `palette` without assigning `hue` is deprecated and will be removed in v0.14.0. Assign the `x` variable to `hue` and set `legend=False` for the same effect.\n",
      "\n",
      "  sns.barplot(x=\"InvoiceNo\", y=\"InvoiceProfit\", data=invoice_revenues.head(10), palette=\"Blues_d\")\n"
     ]
    },
    {
     "data": {
      "image/png": "[encoded data removed]",
      "text/plain": [
       "<Figure size 640x480 with 1 Axes>"
      ]
     },
     "metadata": {},
     "output_type": "display_data"
    }
   ],
   "source": [
    "sns.barplot(x=\"InvoiceNo\", y=\"InvoiceProfit\", data=invoice_revenues.head(10), palette=\"Blues_d\")\n",
    "\n",
    "plt.title(\"Top 10 Invoices by Revenue\")\n",
    "plt.xlabel(\"Invoice Number\")\n",
    "plt.ylabel(\"Revenue\")\n",
    "\n",
    "plt.xticks(rotation=45)\n",
    "\n",
    "plt.show()"
   ]
  },
  {
   "cell_type": "markdown",
   "metadata": {},
   "source": [
    "### What is the total revenue for each customer?"
   ]
  },
  {
   "cell_type": "code",
   "execution_count": 53,
   "metadata": {},
   "outputs": [
    {
     "data": {
      "text/html": [
       "<div>\n",
       "<style scoped>\n",
       "    .dataframe tbody tr th:only-of-type {\n",
       "        vertical-align: middle;\n",
       "    }\n",
       "\n",
       "    .dataframe tbody tr th {\n",
       "        vertical-align: top;\n",
       "    }\n",
       "\n",
       "    .dataframe thead th {\n",
       "        text-align: right;\n",
       "    }\n",
       "</style>\n",
       "<table border=\"1\" class=\"dataframe\">\n",
       "  <thead>\n",
       "    <tr style=\"text-align: right;\">\n",
       "      <th></th>\n",
       "      <th>CustomerID</th>\n",
       "      <th>CustomerProfit</th>\n",
       "      <th>num_of_transactions</th>\n",
       "    </tr>\n",
       "  </thead>\n",
       "  <tbody>\n",
       "    <tr>\n",
       "      <th>0</th>\n",
       "      <td>14646</td>\n",
       "      <td>271614.14</td>\n",
       "      <td>2006</td>\n",
       "    </tr>\n",
       "    <tr>\n",
       "      <th>1</th>\n",
       "      <td>18102</td>\n",
       "      <td>231822.69</td>\n",
       "      <td>413</td>\n",
       "    </tr>\n",
       "    <tr>\n",
       "      <th>2</th>\n",
       "      <td>17450</td>\n",
       "      <td>192361.95</td>\n",
       "      <td>333</td>\n",
       "    </tr>\n",
       "    <tr>\n",
       "      <th>3</th>\n",
       "      <td>16446</td>\n",
       "      <td>168472.50</td>\n",
       "      <td>3</td>\n",
       "    </tr>\n",
       "    <tr>\n",
       "      <th>4</th>\n",
       "      <td>14911</td>\n",
       "      <td>135973.23</td>\n",
       "      <td>5379</td>\n",
       "    </tr>\n",
       "  </tbody>\n",
       "</table>\n",
       "</div>"
      ],
      "text/plain": [
       "   CustomerID  CustomerProfit  num_of_transactions\n",
       "0       14646       271614.14                 2006\n",
       "1       18102       231822.69                  413\n",
       "2       17450       192361.95                  333\n",
       "3       16446       168472.50                    3\n",
       "4       14911       135973.23                 5379"
      ]
     },
     "execution_count": 53,
     "metadata": {},
     "output_type": "execute_result"
    }
   ],
   "source": [
    "query = \"\"\"\n",
    "with cte_test as\n",
    "(\n",
    "    select \n",
    "        cast(case\n",
    "            when CustomerID = 0 then null else CustomerID\n",
    "        end as int) as CustomerID,\n",
    "        round(sum(Profit), 2) as CustomerProfit,\n",
    "        count(*) as num_of_transactions\n",
    "    from online_retail\n",
    "    group by\n",
    "        CustomerID\n",
    "    order by sum(Profit) desc\n",
    ")\n",
    "select *\n",
    "from cte_test\n",
    "where\n",
    "    CustomerID is not null;\n",
    "\"\"\"\n",
    "\n",
    "customer_revenues = SPARK.sql(query).toPandas()\n",
    "\n",
    "customer_revenues.head()"
   ]
  },
  {
   "cell_type": "code",
   "execution_count": null,
   "metadata": {},
   "outputs": [],
   "source": [
    "# bar plot sorted by profit\n",
    "sns.barplot(x=\"CustomerID\", y=\"CustomerProfit\", data=customer_revenues.head(10), palette=\"Blues_d\")\n",
    "\n",
    "plt.title(\"Top 10 Customers by Revenue\")\n",
    "\n",
    "plt.xlabel(\"Customer ID\")\n",
    "\n",
    "plt.ylabel(\"Revenue\")\n",
    "\n",
    "plt.xticks(rotation = 45)\n",
    "plt.show()"
   ]
  },
  {
   "cell_type": "markdown",
   "metadata": {},
   "source": [
    "### Revenue Trend"
   ]
  },
  {
   "cell_type": "code",
   "execution_count": null,
   "metadata": {},
   "outputs": [],
   "source": [
    "new_df = df.copy()\n",
    "\n",
    "new_df[\"InvoiceDate\"] = new_df[\"InvoiceDate\"].dt.date\n",
    "\n",
    "new_df.sort_values(by=\"InvoiceDate\", inplace=True)\n",
    "\n",
    "new_df[\"Running_Sum\"] = new_df[\"Profit\"].cumsum()\n",
    "\n",
    "new_df[\"Running_Sum\"] = new_df[\"Running_Sum\"].astype(\"float64\")\n",
    "\n",
    "new_df = new_df[['InvoiceDate', 'Profit', 'Running_Sum']]"
   ]
  },
  {
   "cell_type": "code",
   "execution_count": null,
   "metadata": {},
   "outputs": [],
   "source": [
    "new_df.head()"
   ]
  },
  {
   "cell_type": "code",
   "execution_count": null,
   "metadata": {},
   "outputs": [],
   "source": [
    "# line plot\n",
    "fig = go.Figure()\n",
    "\n",
    "fig.add_trace(go.Scatter(x=new_df.InvoiceDate, y=new_df.Running_Sum,\n",
    "                         \n",
    "                            mode='lines',\n",
    "                            name='lines'))\n",
    "\n",
    "fig.update_layout(title='Cumulative Revenue',\n",
    "                     xaxis_title='Date',\n",
    "                        yaxis_title='Revenue')\n",
    "\n",
    "fig.show()"
   ]
  },
  {
   "cell_type": "markdown",
   "metadata": {},
   "source": [
    "## Product Analysis:\n",
    "        Which products are the best-sellers in terms of quantity sold?\n",
    "        What is the average unit price for each product?\n",
    "        What is the distribution of products across different categories?\n",
    "        Are there any products that are frequently bought together?"
   ]
  },
  {
   "cell_type": "markdown",
   "metadata": {},
   "source": [
    "### Product Quantities"
   ]
  },
  {
   "cell_type": "code",
   "execution_count": null,
   "metadata": {},
   "outputs": [],
   "source": [
    "query = \"\"\"\n",
    "select \n",
    "    StockCode,\n",
    "    description,\n",
    "    count(StockCode) as products_sold\n",
    "from online_retail\n",
    "group by \n",
    "    StockCode,\n",
    "    description\n",
    "order by count(StockCode) desc\n",
    "limit 10\n",
    "\"\"\"\n",
    "\n",
    "top10_most_sold_products = SPARK.sql(query)\n",
    "\n",
    "top10_most_sold_products.show()"
   ]
  },
  {
   "cell_type": "code",
   "execution_count": null,
   "metadata": {},
   "outputs": [],
   "source": [
    "top10_most_sold_products = top10_most_sold_products.toPandas()"
   ]
  },
  {
   "cell_type": "code",
   "execution_count": null,
   "metadata": {},
   "outputs": [],
   "source": [
    "\n",
    "sns.barplot(data = top10_most_sold_products, x = \"products_sold\", y = \"StockCode\", palette ='Blues_r')\n",
    "\n",
    "plt.title(\"Top 10 Products by Count\")\n",
    "plt.show()"
   ]
  },
  {
   "cell_type": "markdown",
   "metadata": {},
   "source": [
    "### Average unit of price"
   ]
  },
  {
   "cell_type": "code",
   "execution_count": null,
   "metadata": {},
   "outputs": [],
   "source": [
    "print(f\"Average Pirce of a Unit: {round(np.average(df.UnitPrice), 2)}\")"
   ]
  },
  {
   "cell_type": "markdown",
   "metadata": {},
   "source": [
    "### Products by Category"
   ]
  },
  {
   "cell_type": "code",
   "execution_count": null,
   "metadata": {},
   "outputs": [],
   "source": [
    "descriptions = df.description\n",
    "descriptions = descriptions.str.split().to_list()"
   ]
  },
  {
   "cell_type": "code",
   "execution_count": null,
   "metadata": {},
   "outputs": [],
   "source": [
    "# product types\n",
    "clothing_types = [\n",
    "    \"t-shirt\",\n",
    "    \"jeans\",\n",
    "    \"dress\",\n",
    "    \"sweater\",\n",
    "    \"shorts\",\n",
    "    \"skirt\",\n",
    "    \"jacket\",\n",
    "    \"hoodie\",\n",
    "    \"blouse\",\n",
    "    \"suit\",\n",
    "    \"pants\",\n",
    "    \"coat\",\n",
    "    \"shirt\",\n",
    "    \"tank top\",\n",
    "    \"leggings\",\n",
    "    \"sweatshirt\",\n",
    "    \"trousers\",\n",
    "    \"blazer\",\n",
    "    \"polo shirt\",\n",
    "    \"jumpsuit\",\n",
    "]\n",
    "\n",
    "# electronic types\n",
    "electronic_types = [\n",
    "    \"smartphone\",\n",
    "    \"laptop\",\n",
    "    \"tablet\",\n",
    "    \"television\",\n",
    "    \"headphones\",\n",
    "    \"smartwatch\",\n",
    "    \"camera\",\n",
    "    \"speaker\",\n",
    "    \"gaming console\",\n",
    "    \"router\",\n",
    "    \"monitor\",\n",
    "    \"keyboard\",\n",
    "    \"mouse\",\n",
    "    \"printer\",\n",
    "    \"earbuds\",\n",
    "    \"fitness tracker\",\n",
    "    \"drone\",\n",
    "    \"projector\",\n",
    "    \"external hard drive\",\n",
    "    \"bluetooth earphones\",\n",
    "]\n",
    "\n",
    "food_types = [\n",
    "    \"pizza\",\n",
    "    \"burger\",\n",
    "    \"pasta\",\n",
    "    \"sushi\",\n",
    "    \"salad\",\n",
    "    \"taco\",\n",
    "    \"sandwich\",\n",
    "    \"ramen\",\n",
    "    \"steak\",\n",
    "    \"ice cream\",\n",
    "    \"chocolate\",\n",
    "    \"cake\",\n",
    "    \"coffee\",\n",
    "    \"smoothie\",\n",
    "    \"sushi\",\n",
    "    \"doughnut\",\n",
    "    \"burrito\",\n",
    "    \"pancake\",\n",
    "    \"croissant\",\n",
    "    \"noodles\",\n",
    "    \"candy\"\n",
    "]"
   ]
  },
  {
   "cell_type": "code",
   "execution_count": null,
   "metadata": {},
   "outputs": [],
   "source": [
    "descriptions_categories = {}\n",
    "\n",
    "for row in descriptions:\n",
    "    for word in row:\n",
    "        word = word.lower()\n",
    "        if word in clothing_types:\n",
    "            descriptions_categories[tuple(row)] = \"Clothes\"\n",
    "            break\n",
    "        \n",
    "        elif word in electronic_types:\n",
    "            descriptions_categories[tuple(row)] = \"Eletronics\"\n",
    "            break \n",
    "        \n",
    "        elif word in food_types:\n",
    "            descriptions_categories[tuple(row)] = \"Food\"\n",
    "            break \n",
    "\n",
    "        else:\n",
    "            descriptions_categories[tuple(row)] = \"Unidentified\""
   ]
  },
  {
   "cell_type": "code",
   "execution_count": null,
   "metadata": {},
   "outputs": [],
   "source": [
    "new_df = df[[\"StockCode\", \"description\"]]\n",
    "new_df.head()"
   ]
  },
  {
   "cell_type": "code",
   "execution_count": null,
   "metadata": {},
   "outputs": [],
   "source": [
    "categories = []\n",
    "    \n",
    "for row in new_df.iterrows():\n",
    "    categories.append(descriptions_categories[tuple(row[1].description.split())])\n",
    "\n",
    "new_df[\"Category\"] = categories\n",
    "\n",
    "new_df.head()"
   ]
  },
  {
   "cell_type": "code",
   "execution_count": null,
   "metadata": {},
   "outputs": [],
   "source": [
    "new_df = SPARK.createDataFrame(new_df)"
   ]
  },
  {
   "cell_type": "code",
   "execution_count": null,
   "metadata": {},
   "outputs": [],
   "source": [
    "new_df.createOrReplaceTempView(\"categories\")"
   ]
  },
  {
   "cell_type": "code",
   "execution_count": null,
   "metadata": {},
   "outputs": [],
   "source": [
    "query = \"\"\"\n",
    "select \n",
    "    category,\n",
    "    count(*) as num_of_products\n",
    "from categories\n",
    "where\n",
    "    category != 'Unidentified'\n",
    "group by\n",
    "    category\n",
    "order by \n",
    "    count(*) desc\n",
    "\"\"\"\n",
    "\n",
    "new_df = SPARK.sql(query)\n",
    "\n",
    "new_df.show()"
   ]
  },
  {
   "cell_type": "markdown",
   "metadata": {},
   "source": [
    "##     Customer Analysis:\n",
    "        Who are the top customers based on total spending?\n",
    "        What is the distribution of customers by country?\n",
    "        What is the average order quantity per customer?\n",
    "        How often do customers make repeat purchases?"
   ]
  },
  {
   "cell_type": "code",
   "execution_count": null,
   "metadata": {},
   "outputs": [],
   "source": [
    "df = load_data()\n",
    "df = pre_processing(df)\n",
    "\n",
    "spark_df = SPARK.createDataFrame(df).repartition(5)"
   ]
  },
  {
   "cell_type": "code",
   "execution_count": null,
   "metadata": {},
   "outputs": [],
   "source": [
    "spark_df = SPARK.createDataFrame(df)\n",
    "\n",
    "spark_df.createOrReplaceTempView(\"online_retail\")"
   ]
  },
  {
   "cell_type": "markdown",
   "metadata": {},
   "source": [
    "### Who are the top customers based on total spending?"
   ]
  },
  {
   "cell_type": "code",
   "execution_count": null,
   "metadata": {},
   "outputs": [],
   "source": [
    "query = \"\"\"\n",
    "select \n",
    "    CustomerID,    \n",
    "    round(sum(Profit), 2) as Total_Profit\n",
    "from online_retail\n",
    "where\n",
    "    CustomerID != 0\n",
    "group by\n",
    "    CustomerID\n",
    "order by\n",
    "    round(sum(Profit), 2) desc\n",
    "limit 10\n",
    "\"\"\"\n",
    "\n",
    "top10_customers = SPARK.sql(query).toPandas()\n",
    "\n",
    "top10_customers.head()"
   ]
  },
  {
   "cell_type": "code",
   "execution_count": null,
   "metadata": {},
   "outputs": [],
   "source": [
    "sns.barplot(data = top10_customers, x = \"CustomerID\", y = \"Total_Profit\", palette ='Blues_r', order = top10_customers.sort_values(\"Total_Profit\", ascending = False).CustomerID)\n",
    "\n",
    "plt.title(\"Top 10 Customers by Profit\")\n",
    "plt.ylabel(\"Profit\")\n",
    "plt.xticks(rotation = 45)\n",
    "\n",
    "plt.show()"
   ]
  },
  {
   "cell_type": "markdown",
   "metadata": {},
   "source": [
    "### What is the distribution of customers by country?\n"
   ]
  },
  {
   "cell_type": "code",
   "execution_count": null,
   "metadata": {},
   "outputs": [],
   "source": [
    "query = \"\"\"\n",
    "select \n",
    "    country,    \n",
    "    count(country) as country_count\n",
    "from online_retail\n",
    "group by\n",
    "    country\n",
    "order by\n",
    "    count(country) desc\n",
    "limit 10\n",
    "\"\"\"\n",
    "\n",
    "top10_countries = SPARK.sql(query).toPandas()\n",
    "\n",
    "top10_countries.head()"
   ]
  },
  {
   "cell_type": "code",
   "execution_count": null,
   "metadata": {},
   "outputs": [],
   "source": [
    "sns.catplot(data = top10_countries, x = \"country_count\", y = \"country\", palette ='Blues_r', kind = \"bar\")\n",
    "\n",
    "plt.title(\"Top 10 Countries by Count\")\n",
    "plt.ylabel(\"Country\")\n",
    "plt.xticks(rotation = 45)\n",
    "\n",
    "plt.subplots_adjust(left = 0, right = 1)\n",
    "\n",
    "plt.show()\n"
   ]
  },
  {
   "cell_type": "markdown",
   "metadata": {},
   "source": [
    "### What is the average order quantity per customer?"
   ]
  },
  {
   "cell_type": "code",
   "execution_count": null,
   "metadata": {},
   "outputs": [],
   "source": [
    "print(f\"Average Quantity per Order: {round(np.average(df.quantity), 2)}\")"
   ]
  },
  {
   "cell_type": "markdown",
   "metadata": {},
   "source": [
    "### How often do customers make repeat purchases?"
   ]
  },
  {
   "cell_type": "code",
   "execution_count": null,
   "metadata": {},
   "outputs": [],
   "source": [
    "df = load_data()\n",
    "df = pre_processing(df)\n",
    "\n",
    "spark_df = SPARK.createDataFrame(df)\n",
    "\n",
    "spark_df.createOrReplaceTempView(\"online_retail\")"
   ]
  },
  {
   "cell_type": "code",
   "execution_count": null,
   "metadata": {},
   "outputs": [],
   "source": [
    "query = \"\"\"\n",
    "with cte_temp as\n",
    "(\n",
    "\n",
    "    select \n",
    "        CustomerID,\n",
    "        round(avg(diff), 2) as avg_days_between_purchase,\n",
    "        count(CustomerID) as transaction_amount\n",
    "    from\n",
    "    (\n",
    "        select \n",
    "            CustomerID,\n",
    "            date_diff(InvoiceDate, lag1) as diff\n",
    "        from\n",
    "        (\n",
    "            select \n",
    "                cast(CustomerID as integer) as CustomerID,\n",
    "                InvoiceDate,\n",
    "                lag(InvoiceDate, 1) over (partition by CustomerID order by InvoiceDate) as lag1\n",
    "            from\n",
    "            (\n",
    "                select \n",
    "                    CustomerID,\n",
    "                    InvoiceDate\n",
    "                from online_retail\n",
    "                where\n",
    "                    CustomerID != 0\n",
    "                group by\n",
    "                    CustomerID,\n",
    "                    InvoiceDate\n",
    "                order by\n",
    "                    CustomerID desc, InvoiceDate desc\n",
    "            )\n",
    "        ) \n",
    "    ) \n",
    "    group by CustomerID\n",
    ")\n",
    "\n",
    "select *\n",
    "from cte_temp\n",
    "where avg_days_between_purchase > 0\n",
    "order by avg_days_between_purchase\n",
    "\"\"\"\n",
    "\n",
    "most_frequent_customers = SPARK.sql(query)\n",
    "\n",
    "most_frequent_customers.show()\n"
   ]
  },
  {
   "cell_type": "code",
   "execution_count": null,
   "metadata": {},
   "outputs": [],
   "source": [
    "most_frequent_customers = most_frequent_customers.toPandas()"
   ]
  },
  {
   "cell_type": "code",
   "execution_count": null,
   "metadata": {},
   "outputs": [],
   "source": [
    "most_frequent_customers = most_frequent_customers[(most_frequent_customers[\"avg_days_between_purchase\"] < 50) & (most_frequent_customers[\"transaction_amount\"] >= 5)].sort_values(\"CustomerID\")\n",
    "\n",
    "sns.relplot(data = most_frequent_customers, \n",
    "            y = \"avg_days_between_purchase\", \n",
    "            x = \"transaction_amount\", palette ='Reds', \n",
    "            kind = \"scatter\", hue = \"transaction_amount\", size = \"transaction_amount\", sizes = (10, 250), alpha = 0.8)\n",
    "\n",
    "# Annotate most frequent customers\n",
    "plt.annotate(\"Dead Zone\", xy=[10,50])\n",
    "\n",
    "plt.annotate(\"Whales\", xy=[125,5])\n",
    "\n",
    "plt.title(\"Most Frequent Customers\")\n",
    "\n",
    "plt.xlabel(\"Number of Transactions\")\n",
    "\n",
    "plt.ylabel(\"Average Days Between Purchase\")\n",
    "\n",
    "plt.show()"
   ]
  },
  {
   "cell_type": "code",
   "execution_count": null,
   "metadata": {},
   "outputs": [],
   "source": [
    "print(f\"The average number of days it takes a customer to buy another product is: {round(np.average(most_frequent_customers.avg_days_between_purchase), 2)}\")"
   ]
  },
  {
   "cell_type": "markdown",
   "metadata": {},
   "source": [
    "##    Time Analysis:\n",
    "        What are the busiest months in terms of sales volume?\n",
    "        Is there a pattern in sales based on days of the week?\n",
    "        How does sales performance vary by different times of the day?"
   ]
  },
  {
   "cell_type": "code",
   "execution_count": null,
   "metadata": {},
   "outputs": [],
   "source": [
    "df = load_data()\n",
    "df = pre_processing(df)\n",
    "\n",
    "spark_df = SPARK.createDataFrame(df)\n",
    "spark_df.createOrReplaceTempView(\"online_retail\")"
   ]
  },
  {
   "cell_type": "markdown",
   "metadata": {},
   "source": [
    "### What are the busiest months in terms of sales volume?"
   ]
  },
  {
   "cell_type": "code",
   "execution_count": null,
   "metadata": {},
   "outputs": [],
   "source": [
    "query = \"\"\"\n",
    "select \n",
    "    month(InvoiceDate) as month,\n",
    "    round(sum(profit), 2) as Total_Profit,\n",
    "    count(*) as num_of_transactions\n",
    "from online_retail\n",
    "group by\n",
    "    month(InvoiceDate)\n",
    "order by\n",
    "    month(InvoiceDate)\n",
    "\"\"\"\n",
    "\n",
    "profits_per_month = SPARK.sql(query)\n",
    "\n",
    "profits_per_month.show()"
   ]
  },
  {
   "cell_type": "code",
   "execution_count": null,
   "metadata": {},
   "outputs": [],
   "source": [
    "profits_per_month = profits_per_month.toPandas()"
   ]
  },
  {
   "cell_type": "code",
   "execution_count": null,
   "metadata": {},
   "outputs": [],
   "source": [
    "profits_per_month.to_csv(\"profits_per_month.csv\")"
   ]
  },
  {
   "cell_type": "code",
   "execution_count": null,
   "metadata": {},
   "outputs": [],
   "source": [
    "sns.barplot(data = profits_per_month, x = \"month\", y = \"Total_Profit\", hue=\"month\", palette=\"Blues_r\", order = profits_per_month.sort_values(\"Total_Profit\", ascending = False).month , legend=False)\n",
    "sns.barplot(data = profits_per_month, x = \"month\", y = \"num_of_transactions\", hue=\"month\", palette=\"Reds\", order = profits_per_month.sort_values(\"num_of_transactions\", ascending = False).month, legend=False)\n",
    "\n",
    "plt.title(\"Total Profit + num of transactions per Month\")\n",
    "\n",
    "plt.xlabel(\"Month\")\n",
    "\n",
    "plt.ylabel(\"Total Profit\")\n",
    "\n",
    "plt.show()"
   ]
  },
  {
   "cell_type": "markdown",
   "metadata": {},
   "source": [
    "### Is there a pattern in sales based on days of the week?"
   ]
  },
  {
   "cell_type": "code",
   "execution_count": null,
   "metadata": {},
   "outputs": [],
   "source": [
    "query = \"\"\"\n",
    "select \n",
    "    cast(InvoiceDate as date) as InvoiceDate,\n",
    "    round(sum(profit), 2) as daily_profit\n",
    "from online_retail\n",
    "group by\n",
    "    cast(InvoiceDate as date)\n",
    "order by\n",
    "    InvoiceDate\n",
    "\"\"\"\n",
    "\n",
    "profits_per_day = SPARK.sql(query)\n",
    "\n",
    "profits_per_day.show()"
   ]
  },
  {
   "cell_type": "code",
   "execution_count": null,
   "metadata": {},
   "outputs": [],
   "source": [
    "profits_per_day = profits_per_day.toPandas()"
   ]
  },
  {
   "cell_type": "code",
   "execution_count": null,
   "metadata": {},
   "outputs": [],
   "source": [
    "profits_per_day.to_csv(\"profits_per_day.csv\")"
   ]
  },
  {
   "cell_type": "code",
   "execution_count": null,
   "metadata": {},
   "outputs": [],
   "source": [
    "fig = go.Figure()\n",
    "\n",
    "fig.add_trace(go.Scatter(x=profits_per_day.InvoiceDate, y=profits_per_day.daily_profit,\n",
    "                         \n",
    "                            mode='lines',\n",
    "                            name='lines'))\n",
    "\n",
    "fig.update_layout(title='Daily Revenue',\n",
    "\n",
    "                        xaxis_title='Date',\n",
    "                        yaxis_title='Revenue')\n",
    "\n",
    "fig.show()"
   ]
  },
  {
   "cell_type": "code",
   "execution_count": null,
   "metadata": {},
   "outputs": [],
   "source": [
    "query = \"\"\"\n",
    "select \n",
    "    cast(InvoiceDate as date) as InvoiceDate,\n",
    "    day(cast(InvoiceDate as date)) as day,\n",
    "    month(cast(InvoiceDate as date)) as month,\n",
    "    round(sum(profit), 2) as daily_profit,\n",
    "    count(*) as num_of_transactions\n",
    "from online_retail\n",
    "group by\n",
    "    cast(InvoiceDate as date),\n",
    "    day(cast(InvoiceDate as date)),\n",
    "    month(cast(InvoiceDate as date))\n",
    "order by\n",
    "    InvoiceDate\n",
    "\"\"\"\n",
    "\n",
    "revenue_density = SPARK.sql(query)\n",
    "\n",
    "revenue_density.show()"
   ]
  },
  {
   "cell_type": "code",
   "execution_count": null,
   "metadata": {},
   "outputs": [],
   "source": [
    "revenue_density = revenue_density.toPandas()"
   ]
  },
  {
   "cell_type": "code",
   "execution_count": null,
   "metadata": {},
   "outputs": [],
   "source": [
    "revenue_density.to_csv(\"revenue_density.csv\")"
   ]
  },
  {
   "cell_type": "code",
   "execution_count": null,
   "metadata": {},
   "outputs": [],
   "source": [
    "sns.kdeplot(data = revenue_density, x = \"daily_profit\", fill = True, alpha = 0.5)\n",
    "\n",
    "plt.title(\"Daily Revenue Distribution\")\n",
    "\n",
    "plt.xlabel(\"Daily Revenue\")\n",
    "\n",
    "plt.ylabel(\"Density\")\n",
    "\n",
    "plt.show()"
   ]
  },
  {
   "cell_type": "code",
   "execution_count": null,
   "metadata": {},
   "outputs": [],
   "source": [
    "sns.kdeplot(data = revenue_density, x = \"num_of_transactions\", fill = True, alpha = 0.5)\n",
    "\n",
    "plt.title(\"Daily Transactions Distribution\")\n",
    "\n",
    "plt.xlabel(\"Daily Transactions\")\n",
    "\n",
    "plt.ylabel(\"Density\")\n",
    "\n",
    "plt.show()"
   ]
  },
  {
   "cell_type": "code",
   "execution_count": null,
   "metadata": {},
   "outputs": [],
   "source": []
  },
  {
   "cell_type": "code",
   "execution_count": null,
   "metadata": {},
   "outputs": [],
   "source": []
  },
  {
   "cell_type": "code",
   "execution_count": null,
   "metadata": {},
   "outputs": [],
   "source": []
  },
  {
   "cell_type": "code",
   "execution_count": null,
   "metadata": {},
   "outputs": [],
   "source": []
  },
  {
   "cell_type": "code",
   "execution_count": null,
   "metadata": {},
   "outputs": [],
   "source": []
  },
  {
   "cell_type": "code",
   "execution_count": null,
   "metadata": {},
   "outputs": [],
   "source": []
  },
  {
   "cell_type": "code",
   "execution_count": null,
   "metadata": {},
   "outputs": [],
   "source": []
  },
  {
   "cell_type": "code",
   "execution_count": null,
   "metadata": {},
   "outputs": [],
   "source": []
  },
  {
   "cell_type": "code",
   "execution_count": null,
   "metadata": {},
   "outputs": [],
   "source": []
  }
 ],
 "metadata": {
  "kernelspec": {
   "display_name": "Python 3 (ipykernel)",
   "language": "python",
   "name": "python3"
  },
  "language_info": {
   "codemirror_mode": {
    "name": "ipython",
    "version": 3
   },
   "file_extension": ".py",
   "mimetype": "text/x-python",
   "name": "python",
   "nbconvert_exporter": "python",
   "pygments_lexer": "ipython3",
   "version": "3.11.6"
  }
 },
 "nbformat": 4,
 "nbformat_minor": 4
}
