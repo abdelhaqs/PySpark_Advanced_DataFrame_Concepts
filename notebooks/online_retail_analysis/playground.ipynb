{
 "cells": [
  {
   "cell_type": "code",
   "execution_count": null,
   "metadata": {},
   "outputs": [],
   "source": [
    "pip install pandasql missingno pydantic-settings pandas_profiling plotly"
   ]
  },
  {
   "cell_type": "code",
   "execution_count": null,
   "metadata": {},
   "outputs": [],
   "source": [
    "pip install --upgrade pandas-profiling"
   ]
  },
  {
   "cell_type": "code",
   "execution_count": null,
   "metadata": {},
   "outputs": [],
   "source": [
    "import pandas as pd\n",
    "import numpy as np\n",
    "import matplotlib.pyplot as plt\n",
    "import seaborn as sns\n",
    "import pandasql as ps\n",
    "import missingno as msno\n",
    "from pyspark.sql import SparkSession\n",
    "# from pandas_profiling import ProfileReport\n",
    "import plotly.graph_objects as go\n",
    "# from pydantic_settings import BaseSettings\n",
    "\n",
    "sns.set()\n",
    "sns.set_palette('deep')\n",
    "sns.set_context('notebook')\n",
    "plt.subplots_adjust(left=0, right=2, top=0.9, bottom=0.1)  # Adjust the values as needed\n",
    "\n",
    "SPARK = SparkSession.builder.appName('online_retail').master(\"local\").getOrCreate()\n",
    "\n",
    "\n",
    "def sql(df: pd.DataFrame, query: str, table_name = \"online_retail\", create_temp_view = False):\n",
    "    \"\"\"\n",
    "    Create a table in SparkSQL.\n",
    "    Execute a query\n",
    "    \"\"\"\n",
    "    if create_temp_view:\n",
    "        spark_df = SPARK.createDataFrame(df)\n",
    "        spark_df.createOrReplaceTempView(table_name)\n",
    "\n",
    "    return SPARK.sql(query)\n",
    "\n",
    "def load_data(path = \"../datasets/online_retail/Online_Retail_Data_Set.csv\"):\n",
    "    df = pd.read_csv(path, encoding = \"ISO-8859-1\") \n",
    "    return df\n",
    "\n",
    "\n",
    "def pre_processing(df):\n",
    "\n",
    "    # Changing dtype to datetime\n",
    "    df['InvoiceDate'] = pd.to_datetime(df['InvoiceDate'], format='mixed')\n",
    "\n",
    "    # Remove transactions with negative quantites or negative prices\n",
    "    df = df[df.Quantity > 0]\n",
    "    df = df[df.UnitPrice > 0]\n",
    "\n",
    "    # Replace missing CustomerIDs with 0\n",
    "    df = df.replace(np.nan, 0)\n",
    "    \n",
    "    # Remove duplicates\n",
    "    df = df[~df.duplicated()]\n",
    "\n",
    "\n",
    "    # Using Spark to:\n",
    "    #   1. Aggregate duplicated transactions with different quantites\n",
    "    #   2. Add a profit column\n",
    "    #   3. Remove transactions before 2011\n",
    "    df[\"InvoiceDate\"] = df[\"InvoiceDate\"].astype(str)\n",
    "    spark_df = SPARK.createDataFrame(df)\n",
    "    spark_df.createOrReplaceTempView(\"spark_df\")\n",
    "\n",
    "    query = \"\"\"\n",
    "    select \n",
    "        aaa.*,\n",
    "        round(aaa.quantity * aaa.UnitPrice, 2) as Profit\n",
    "    from\n",
    "    (\n",
    "        select \n",
    "            InvoiceNo,\n",
    "            StockCode,\n",
    "            description,\n",
    "            sum(quantity) as quantity,\n",
    "            InvoiceDate,\n",
    "            UnitPrice,\n",
    "            CustomerID,\n",
    "            Country\n",
    "        from spark_df\n",
    "        group by\n",
    "            InvoiceNo,\n",
    "            StockCode,\n",
    "            CustomerID,\n",
    "            description,\n",
    "            InvoiceDate,\n",
    "            UnitPrice,\n",
    "            Country\n",
    "    ) as aaa\n",
    "    where\n",
    "        aaa.InvoiceDate >= '2011-01-01'\n",
    "    \"\"\"\n",
    "    spark_df = SPARK.sql(query)\n",
    "    df = spark_df.toPandas()\n",
    "    df[\"InvoiceDate\"] = pd.to_datetime(df[\"InvoiceDate\"])\n",
    "\n",
    "\n",
    "    return df\n",
    "\n",
    "\n",
    "if __name__ == \"__main__\":\n",
    "    #df = load_data()\n",
    "    #print(df.columns)\n",
    "    #clean_df = pre_processing(df)\n",
    "    pass"
   ]
  },
  {
   "cell_type": "markdown",
   "metadata": {},
   "source": [
    "# Data Quality Check and Cleaning"
   ]
  },
  {
   "cell_type": "code",
   "execution_count": 5,
   "metadata": {},
   "outputs": [
    {
     "data": {
      "text/html": [
       "<div>\n",
       "<style scoped>\n",
       "    .dataframe tbody tr th:only-of-type {\n",
       "        vertical-align: middle;\n",
       "    }\n",
       "\n",
       "    .dataframe tbody tr th {\n",
       "        vertical-align: top;\n",
       "    }\n",
       "\n",
       "    .dataframe thead th {\n",
       "        text-align: right;\n",
       "    }\n",
       "</style>\n",
       "<table border=\"1\" class=\"dataframe\">\n",
       "  <thead>\n",
       "    <tr style=\"text-align: right;\">\n",
       "      <th></th>\n",
       "      <th>InvoiceNo</th>\n",
       "      <th>StockCode</th>\n",
       "      <th>Description</th>\n",
       "      <th>Quantity</th>\n",
       "      <th>InvoiceDate</th>\n",
       "      <th>UnitPrice</th>\n",
       "      <th>CustomerID</th>\n",
       "      <th>Country</th>\n",
       "    </tr>\n",
       "  </thead>\n",
       "  <tbody>\n",
       "    <tr>\n",
       "      <th>0</th>\n",
       "      <td>536365</td>\n",
       "      <td>85123A</td>\n",
       "      <td>WHITE HANGING HEART T-LIGHT HOLDER</td>\n",
       "      <td>6</td>\n",
       "      <td>01-12-2010 08:26</td>\n",
       "      <td>2.55</td>\n",
       "      <td>17850.0</td>\n",
       "      <td>United Kingdom</td>\n",
       "    </tr>\n",
       "    <tr>\n",
       "      <th>1</th>\n",
       "      <td>536365</td>\n",
       "      <td>71053</td>\n",
       "      <td>WHITE METAL LANTERN</td>\n",
       "      <td>6</td>\n",
       "      <td>01-12-2010 08:26</td>\n",
       "      <td>3.39</td>\n",
       "      <td>17850.0</td>\n",
       "      <td>United Kingdom</td>\n",
       "    </tr>\n",
       "    <tr>\n",
       "      <th>2</th>\n",
       "      <td>536365</td>\n",
       "      <td>84406B</td>\n",
       "      <td>CREAM CUPID HEARTS COAT HANGER</td>\n",
       "      <td>8</td>\n",
       "      <td>01-12-2010 08:26</td>\n",
       "      <td>2.75</td>\n",
       "      <td>17850.0</td>\n",
       "      <td>United Kingdom</td>\n",
       "    </tr>\n",
       "    <tr>\n",
       "      <th>3</th>\n",
       "      <td>536365</td>\n",
       "      <td>84029G</td>\n",
       "      <td>KNITTED UNION FLAG HOT WATER BOTTLE</td>\n",
       "      <td>6</td>\n",
       "      <td>01-12-2010 08:26</td>\n",
       "      <td>3.39</td>\n",
       "      <td>17850.0</td>\n",
       "      <td>United Kingdom</td>\n",
       "    </tr>\n",
       "    <tr>\n",
       "      <th>4</th>\n",
       "      <td>536365</td>\n",
       "      <td>84029E</td>\n",
       "      <td>RED WOOLLY HOTTIE WHITE HEART.</td>\n",
       "      <td>6</td>\n",
       "      <td>01-12-2010 08:26</td>\n",
       "      <td>3.39</td>\n",
       "      <td>17850.0</td>\n",
       "      <td>United Kingdom</td>\n",
       "    </tr>\n",
       "  </tbody>\n",
       "</table>\n",
       "</div>"
      ],
      "text/plain": [
       "  InvoiceNo StockCode                          Description  Quantity  \\\n",
       "0    536365    85123A   WHITE HANGING HEART T-LIGHT HOLDER         6   \n",
       "1    536365     71053                  WHITE METAL LANTERN         6   \n",
       "2    536365    84406B       CREAM CUPID HEARTS COAT HANGER         8   \n",
       "3    536365    84029G  KNITTED UNION FLAG HOT WATER BOTTLE         6   \n",
       "4    536365    84029E       RED WOOLLY HOTTIE WHITE HEART.         6   \n",
       "\n",
       "        InvoiceDate  UnitPrice  CustomerID         Country  \n",
       "0  01-12-2010 08:26       2.55     17850.0  United Kingdom  \n",
       "1  01-12-2010 08:26       3.39     17850.0  United Kingdom  \n",
       "2  01-12-2010 08:26       2.75     17850.0  United Kingdom  \n",
       "3  01-12-2010 08:26       3.39     17850.0  United Kingdom  \n",
       "4  01-12-2010 08:26       3.39     17850.0  United Kingdom  "
      ]
     },
     "execution_count": 5,
     "metadata": {},
     "output_type": "execute_result"
    }
   ],
   "source": [
    "import pandas as pd\n",
    "import numpy as np\n",
    "import matplotlib.pyplot as plt\n",
    "import seaborn as sns\n",
    "\n",
    "\n",
    "df = pd.read_csv(\"../datasets/online_retail/Online_Retail_Data_Set.csv\", encoding = \"ISO-8859-1\") \n",
    "df.head()"
   ]
  },
  {
   "cell_type": "code",
   "execution_count": null,
   "metadata": {},
   "outputs": [],
   "source": [
    "df.info()"
   ]
  },
  {
   "cell_type": "code",
   "execution_count": null,
   "metadata": {},
   "outputs": [],
   "source": [
    "df[\"Country\"].describe()"
   ]
  },
  {
   "cell_type": "code",
   "execution_count": 4,
   "metadata": {},
   "outputs": [
    {
     "data": {
      "text/html": [
       "<div>\n",
       "<style scoped>\n",
       "    .dataframe tbody tr th:only-of-type {\n",
       "        vertical-align: middle;\n",
       "    }\n",
       "\n",
       "    .dataframe tbody tr th {\n",
       "        vertical-align: top;\n",
       "    }\n",
       "\n",
       "    .dataframe thead th {\n",
       "        text-align: right;\n",
       "    }\n",
       "</style>\n",
       "<table border=\"1\" class=\"dataframe\">\n",
       "  <thead>\n",
       "    <tr style=\"text-align: right;\">\n",
       "      <th></th>\n",
       "      <th>Quantity</th>\n",
       "      <th>UnitPrice</th>\n",
       "      <th>CustomerID</th>\n",
       "    </tr>\n",
       "  </thead>\n",
       "  <tbody>\n",
       "    <tr>\n",
       "      <th>count</th>\n",
       "      <td>541909.000000</td>\n",
       "      <td>541909.000000</td>\n",
       "      <td>406829.000000</td>\n",
       "    </tr>\n",
       "    <tr>\n",
       "      <th>mean</th>\n",
       "      <td>9.552250</td>\n",
       "      <td>4.611114</td>\n",
       "      <td>15287.690570</td>\n",
       "    </tr>\n",
       "    <tr>\n",
       "      <th>std</th>\n",
       "      <td>218.081158</td>\n",
       "      <td>96.759853</td>\n",
       "      <td>1713.600303</td>\n",
       "    </tr>\n",
       "    <tr>\n",
       "      <th>min</th>\n",
       "      <td>-80995.000000</td>\n",
       "      <td>-11062.060000</td>\n",
       "      <td>12346.000000</td>\n",
       "    </tr>\n",
       "    <tr>\n",
       "      <th>25%</th>\n",
       "      <td>1.000000</td>\n",
       "      <td>1.250000</td>\n",
       "      <td>13953.000000</td>\n",
       "    </tr>\n",
       "    <tr>\n",
       "      <th>50%</th>\n",
       "      <td>3.000000</td>\n",
       "      <td>2.080000</td>\n",
       "      <td>15152.000000</td>\n",
       "    </tr>\n",
       "    <tr>\n",
       "      <th>75%</th>\n",
       "      <td>10.000000</td>\n",
       "      <td>4.130000</td>\n",
       "      <td>16791.000000</td>\n",
       "    </tr>\n",
       "    <tr>\n",
       "      <th>max</th>\n",
       "      <td>80995.000000</td>\n",
       "      <td>38970.000000</td>\n",
       "      <td>18287.000000</td>\n",
       "    </tr>\n",
       "  </tbody>\n",
       "</table>\n",
       "</div>"
      ],
      "text/plain": [
       "            Quantity      UnitPrice     CustomerID\n",
       "count  541909.000000  541909.000000  406829.000000\n",
       "mean        9.552250       4.611114   15287.690570\n",
       "std       218.081158      96.759853    1713.600303\n",
       "min    -80995.000000  -11062.060000   12346.000000\n",
       "25%         1.000000       1.250000   13953.000000\n",
       "50%         3.000000       2.080000   15152.000000\n",
       "75%        10.000000       4.130000   16791.000000\n",
       "max     80995.000000   38970.000000   18287.000000"
      ]
     },
     "execution_count": 4,
     "metadata": {},
     "output_type": "execute_result"
    }
   ],
   "source": [
    "df[[\"Quantity\", \"UnitPrice\", \"CustomerID\"]].describe()"
   ]
  },
  {
   "cell_type": "markdown",
   "metadata": {},
   "source": [
    "- Notes:\n",
    "\n",
    "- The quantity column is problematic. I need to remove transactions with Negative values\n",
    "- Remove rows with negative unit price\n"
   ]
  },
  {
   "cell_type": "markdown",
   "metadata": {},
   "source": [
    "## Data Types"
   ]
  },
  {
   "cell_type": "code",
   "execution_count": null,
   "metadata": {},
   "outputs": [],
   "source": [
    "df.dtypes"
   ]
  },
  {
   "cell_type": "markdown",
   "metadata": {},
   "source": [
    "Notes:\n",
    "- Change InvoiceDate to datetime"
   ]
  },
  {
   "cell_type": "code",
   "execution_count": null,
   "metadata": {},
   "outputs": [],
   "source": [
    "df['InvoiceDate'] = pd.to_datetime(df['InvoiceDate'], format='mixed')"
   ]
  },
  {
   "cell_type": "code",
   "execution_count": null,
   "metadata": {},
   "outputs": [],
   "source": [
    "df.dtypes"
   ]
  },
  {
   "cell_type": "markdown",
   "metadata": {},
   "source": [
    "## Qunatity and UnitPrice columns"
   ]
  },
  {
   "cell_type": "code",
   "execution_count": null,
   "metadata": {},
   "outputs": [],
   "source": [
    "negative_quantity = df[df.Quantity <= 0]\n",
    "negative_quantity"
   ]
  },
  {
   "cell_type": "code",
   "execution_count": null,
   "metadata": {},
   "outputs": [],
   "source": [
    "negative_quantity.Description.value_counts()"
   ]
  },
  {
   "cell_type": "markdown",
   "metadata": {},
   "source": [
    "- I dont see a reason why these transactions would be legit, so I will remove them from the dataset."
   ]
  },
  {
   "cell_type": "code",
   "execution_count": null,
   "metadata": {},
   "outputs": [],
   "source": [
    "df = df[df.Quantity > 0]"
   ]
  },
  {
   "cell_type": "markdown",
   "metadata": {},
   "source": [
    "- Now lets check unitPrice\n",
    "\n",
    "- Same logic, I will drop transactions with unit price lower than 0"
   ]
  },
  {
   "cell_type": "code",
   "execution_count": null,
   "metadata": {},
   "outputs": [],
   "source": [
    "df[df.UnitPrice <= 0]"
   ]
  },
  {
   "cell_type": "code",
   "execution_count": null,
   "metadata": {},
   "outputs": [],
   "source": [
    "df = df[df.UnitPrice > 0]"
   ]
  },
  {
   "cell_type": "code",
   "execution_count": null,
   "metadata": {},
   "outputs": [],
   "source": [
    "df[df.UnitPrice <= 0]"
   ]
  },
  {
   "cell_type": "markdown",
   "metadata": {},
   "source": [
    "## Missing Values"
   ]
  },
  {
   "cell_type": "code",
   "execution_count": null,
   "metadata": {},
   "outputs": [],
   "source": [
    "df = load_data()\n",
    "\"\"\"df = pre_processing(df)\"\"\""
   ]
  },
  {
   "cell_type": "code",
   "execution_count": null,
   "metadata": {},
   "outputs": [],
   "source": [
    "df.isna().sum()"
   ]
  },
  {
   "cell_type": "markdown",
   "metadata": {},
   "source": [
    "- Looks like there are 132186 rows with a missing customer id"
   ]
  },
  {
   "cell_type": "code",
   "execution_count": null,
   "metadata": {},
   "outputs": [],
   "source": [
    "df"
   ]
  },
  {
   "cell_type": "code",
   "execution_count": null,
   "metadata": {},
   "outputs": [],
   "source": [
    "df.describe()"
   ]
  },
  {
   "cell_type": "markdown",
   "metadata": {},
   "source": [
    "- This is about 1 out of every 5 rows.\n",
    "- I will try not to delete them"
   ]
  },
  {
   "cell_type": "code",
   "execution_count": null,
   "metadata": {},
   "outputs": [],
   "source": [
    "df[df.CustomerID.isna()].head()"
   ]
  },
  {
   "cell_type": "markdown",
   "metadata": {},
   "source": [
    "- They look like legit transactions.\n",
    "- I will not remove these transactions. This is too much.\n",
    "- Instead I will replace the null customerIds with a 0. This will indicate that they are missing"
   ]
  },
  {
   "cell_type": "code",
   "execution_count": null,
   "metadata": {},
   "outputs": [],
   "source": [
    "df = df.replace(np.nan, 0)"
   ]
  },
  {
   "cell_type": "markdown",
   "metadata": {},
   "source": [
    "## Duplicates"
   ]
  },
  {
   "cell_type": "code",
   "execution_count": null,
   "metadata": {},
   "outputs": [],
   "source": [
    "len(df)"
   ]
  },
  {
   "cell_type": "code",
   "execution_count": null,
   "metadata": {},
   "outputs": [],
   "source": [
    "len(df[df.duplicated()])"
   ]
  },
  {
   "cell_type": "markdown",
   "metadata": {},
   "source": [
    "- looks like, out of 541909, there are 5268 duplicates. Lets dive deeper."
   ]
  },
  {
   "cell_type": "code",
   "execution_count": null,
   "metadata": {},
   "outputs": [],
   "source": [
    "df[(df.InvoiceNo == '536409') & (df.StockCode == '22111')]"
   ]
  },
  {
   "cell_type": "markdown",
   "metadata": {},
   "source": [
    "- Looks like the duplicates are essentially a copy of the same transaction. We can drop them."
   ]
  },
  {
   "cell_type": "code",
   "execution_count": null,
   "metadata": {},
   "outputs": [],
   "source": [
    "len(df[df.Quantity > 1]) # 383058"
   ]
  },
  {
   "cell_type": "code",
   "execution_count": null,
   "metadata": {},
   "outputs": [],
   "source": [
    "df = df[~df.duplicated()]"
   ]
  },
  {
   "cell_type": "markdown",
   "metadata": {},
   "source": [
    "- Now let's check if there are duplicates in the subset: [InvoiceNo, StockCode and CustomerID]"
   ]
  },
  {
   "cell_type": "code",
   "execution_count": null,
   "metadata": {},
   "outputs": [],
   "source": [
    "column_names = [\"InvoiceNo\", \"StockCode\" , \"CustomerID\", \"InvoiceDate\"]\n",
    "df[df.duplicated(subset=column_names)].head()"
   ]
  },
  {
   "cell_type": "code",
   "execution_count": null,
   "metadata": {},
   "outputs": [],
   "source": [
    "df[(df.InvoiceNo == '536381') & (df.StockCode == '71270') & (df.CustomerID == 15311)]"
   ]
  },
  {
   "cell_type": "markdown",
   "metadata": {},
   "source": [
    "- So this is wierd. There are two exact transactions, happened at the same time by the same person. But, with different quantities.\n",
    "\n",
    "- This is actually problematic. I have no way of knowing if these are legit transactions. I need to make some assumptions about the data.\n",
    "\n",
    "Assumptions:\n",
    "- When a customer buys several products in a single purchase. Each will be registered as its own transaction.\n",
    "- Customers that buy a batch of the same product(like 4 PHOTO CLIP LINE in the same transaction), it might be divided into several rows.\n",
    "\n",
    "- Solution: Aggregate the quantities of these transactions"
   ]
  },
  {
   "cell_type": "code",
   "execution_count": null,
   "metadata": {},
   "outputs": [],
   "source": [
    "from pyspark.sql import SparkSession\n",
    "\n",
    "df = load_data()\n",
    "df = pre_processing(df)\n",
    "df[\"InvoiceDate\"] = df[\"InvoiceDate\"].astype(str)\n",
    "\n",
    "spark = SparkSession.builder.appName('online_retail').master(\"local\").getOrCreate()\n",
    "\n",
    "spark_df = spark.createDataFrame(df)\n",
    "\n",
    "spark_df.createOrReplaceTempView(\"spark_df\")"
   ]
  },
  {
   "cell_type": "code",
   "execution_count": null,
   "metadata": {},
   "outputs": [],
   "source": [
    "query = \"\"\"\n",
    "select \n",
    "    InvoiceNo,\n",
    "    StockCode,\n",
    "    description,\n",
    "    sum(quantity) as quantity,\n",
    "    InvoiceDate,\n",
    "    UnitPrice,\n",
    "    CustomerID,\n",
    "    Country\n",
    "from spark_df\n",
    "group by\n",
    "    InvoiceNo,\n",
    "    StockCode,\n",
    "    CustomerID,\n",
    "    description,\n",
    "    InvoiceDate,\n",
    "    UnitPrice,\n",
    "    Country\n",
    "\"\"\"\n",
    "\n",
    "spark_df = spark.sql(query)\n",
    "spark_df.show(5)\n",
    "\n",
    "\n"
   ]
  },
  {
   "cell_type": "code",
   "execution_count": null,
   "metadata": {},
   "outputs": [],
   "source": [
    "df = spark_df.toPandas()\n",
    "df[\"InvoiceDate\"] = pd.to_datetime(df[\"InvoiceDate\"])"
   ]
  },
  {
   "cell_type": "code",
   "execution_count": null,
   "metadata": {},
   "outputs": [],
   "source": [
    "df.head()"
   ]
  },
  {
   "cell_type": "markdown",
   "metadata": {},
   "source": [
    "- Let's check if there are duplicate transactions again"
   ]
  },
  {
   "cell_type": "code",
   "execution_count": null,
   "metadata": {},
   "outputs": [],
   "source": [
    "column_names = [\"InvoiceNo\", \"StockCode\" , \"CustomerID\", \"InvoiceDate\", \"Country\", \"UnitPrice\", \"description\"]\n",
    "df[df.duplicated(subset=column_names)]"
   ]
  },
  {
   "cell_type": "markdown",
   "metadata": {},
   "source": [
    "## Checking for other issues"
   ]
  },
  {
   "cell_type": "code",
   "execution_count": null,
   "metadata": {},
   "outputs": [],
   "source": [
    "df = load_data()\n",
    "df = pre_processing(df)"
   ]
  },
  {
   "cell_type": "code",
   "execution_count": null,
   "metadata": {},
   "outputs": [],
   "source": [
    "df.describe()"
   ]
  },
  {
   "cell_type": "code",
   "execution_count": null,
   "metadata": {},
   "outputs": [],
   "source": [
    "df.info()"
   ]
  },
  {
   "cell_type": "code",
   "execution_count": null,
   "metadata": {},
   "outputs": [],
   "source": [
    "df.isna().sum()"
   ]
  },
  {
   "cell_type": "code",
   "execution_count": null,
   "metadata": {},
   "outputs": [],
   "source": [
    "df.isnull().sum()"
   ]
  },
  {
   "cell_type": "markdown",
   "metadata": {},
   "source": [
    "# EDA"
   ]
  },
  {
   "cell_type": "code",
   "execution_count": null,
   "metadata": {},
   "outputs": [],
   "source": [
    "df = load_data()\n",
    "df = pre_processing(df)"
   ]
  },
  {
   "cell_type": "code",
   "execution_count": null,
   "metadata": {},
   "outputs": [],
   "source": [
    "df.head()"
   ]
  },
  {
   "cell_type": "markdown",
   "metadata": {},
   "source": [
    "- Let's start with an overall report of the data\n",
    "\n",
    "Notes:\n",
    "\n",
    "- There are 3922 unique products. But there are 4026 descriptions. Meaning there are products with the same StockCode but different description. I will leave it as it is. The difference in the descirptions is because of commas, spaces etc. Not important.\n",
    "\n",
    "- About 98% of the transactions occured in the second half of the InvoiceDate column values\n",
    "\n",
    "- About 80% of the transactions occured in the UK"
   ]
  },
  {
   "cell_type": "code",
   "execution_count": null,
   "metadata": {},
   "outputs": [],
   "source": [
    "## Ghadi n desctivih it mkahdamach\n",
    "#profile = ProfileReport(df, title=\"Data Report\")\n",
    "#profile"
   ]
  },
  {
   "cell_type": "code",
   "execution_count": null,
   "metadata": {},
   "outputs": [],
   "source": [
    "## "
   ]
  },
  {
   "cell_type": "code",
   "execution_count": null,
   "metadata": {},
   "outputs": [],
   "source": []
  },
  {
   "cell_type": "code",
   "execution_count": null,
   "metadata": {},
   "outputs": [],
   "source": []
  },
  {
   "cell_type": "code",
   "execution_count": null,
   "metadata": {},
   "outputs": [],
   "source": []
  },
  {
   "cell_type": "code",
   "execution_count": null,
   "metadata": {},
   "outputs": [],
   "source": []
  },
  {
   "cell_type": "markdown",
   "metadata": {},
   "source": [
    "# Creating a Dashboard\n",
    "\n",
    "Lets load the data to csv file and upload it to Tableau\n",
    "\n",
    "- I will add a column called profits"
   ]
  },
  {
   "cell_type": "code",
   "execution_count": null,
   "metadata": {},
   "outputs": [],
   "source": [
    "df = load_data()\n",
    "df = pre_processing(df)\n",
    "df.to_csv(\"clean_data.csv\")"
   ]
  },
  {
   "cell_type": "code",
   "execution_count": null,
   "metadata": {},
   "outputs": [],
   "source": [
    "df"
   ]
  },
  {
   "cell_type": "markdown",
   "metadata": {},
   "source": [
    "# Answering Business Questions\n",
    "\n",
    "    Sales Analysis:\n",
    "        What is the total revenue for each invoice?\n",
    "        What is the total revenue for each customer?\n",
    "        Which products have the highest total sales revenue?\n",
    "        What is the overall sales trend over time?\n",
    "\n",
    "    Product Analysis:\n",
    "        Which products are the best-sellers in terms of quantity sold?\n",
    "        What is the average unit price for each product?\n",
    "        What is the distribution of products across different categories?\n",
    "        Are there any products that are frequently bought together?\n",
    "\n",
    "    Customer Analysis:\n",
    "        Who are the top customers based on total spending?\n",
    "        What is the distribution of customers by country?\n",
    "        What is the average order quantity per customer?\n",
    "        How often do customers make repeat purchases?\n",
    "\n",
    "    Time Analysis:\n",
    "        What are the busiest months in terms of sales volume?\n",
    "        Is there a pattern in sales based on days of the week?\n",
    "        How does sales performance vary by different times of the day?\n",
    "\n",
    "    Geographical Analysis:\n",
    "        Which countries contribute the most to sales revenue?\n",
    "        Are there any regional preferences in product purchases?\n",
    "        How does customer behavior differ across countries?\n",
    "\n",
    "    Inventory Analysis:\n",
    "        What is the stock movement for each product (quantity bought vs. quantity sold)?\n",
    "        Are there any products with consistently low inventory turnover?\n",
    "        How does the inventory turnover differ for different product categories?\n",
    "\n",
    "    Price Analysis:\n",
    "        What is the average unit price for products in different categories?\n",
    "        Are there any pricing strategies that lead to increased sales?\n",
    "        How does the price affect the quantity of products sold?\n",
    "\n",
    "    Customer Segmentation:\n",
    "        Can customers be grouped into segments based on their purchasing behavior?\n",
    "        What are the characteristics of high-value customers?\n",
    "        Are there any trends or patterns specific to different customer segments?\n",
    "\n",
    "    Invoice Patterns:\n",
    "        What is the average number of products per invoice?\n",
    "        How frequently do customers make repeat purchases within a short time frame?\n",
    "\n",
    "    Returns and Refunds:\n",
    "        What is the frequency of product returns?\n",
    "        Are there any specific products that are more prone to returns?\n",
    "        How do returns impact overall revenue?"
   ]
  },
  {
   "cell_type": "code",
   "execution_count": null,
   "metadata": {},
   "outputs": [],
   "source": [
    "SPARK.stop()"
   ]
  },
  {
   "cell_type": "code",
   "execution_count": null,
   "metadata": {},
   "outputs": [],
   "source": [
    "SPARK = SparkSession.builder.appName('online_retail').master(\"local\").getOrCreate()"
   ]
  },
  {
   "cell_type": "code",
   "execution_count": null,
   "metadata": {},
   "outputs": [],
   "source": [
    "# commet dialy\n",
    "df = load_data()\n",
    "df = pre_processing(df)\n",
    "\n",
    "spark_df = SPARK.createDataFrame(df)\n",
    "\n",
    "spark_df.createOrReplaceTempView(\"online_retail\")"
   ]
  },
  {
   "cell_type": "code",
   "execution_count": null,
   "metadata": {},
   "outputs": [],
   "source": [
    "query = \"\"\"\n",
    "select *\n",
    "from online_retail\n",
    "limit 5\n",
    "\"\"\"\n",
    "\n",
    "results = SPARK.sql(query)\n",
    "results.show()"
   ]
  },
  {
   "cell_type": "markdown",
   "metadata": {},
   "source": [
    "##     Sales Analysis:\n",
    "\n",
    "        What is the total revenue for each invoice?\n",
    "        What is the total revenue for each customer?\n",
    "        Which products have the highest total sales revenue?\n",
    "        What is the overall sales trend over time?\n"
   ]
  },
  {
   "cell_type": "markdown",
   "metadata": {},
   "source": [
    "### What is the total revenue for each invoice?"
   ]
  },
  {
   "cell_type": "code",
   "execution_count": null,
   "metadata": {},
   "outputs": [],
   "source": [
    "query = \"\"\"\n",
    "select \n",
    "    InvoiceNo,\n",
    "    round(sum(Profit), 2) as InvoiceProfit,\n",
    "    count(*) as num_of_transactions\n",
    "from online_retail\n",
    "group by\n",
    "    InvoiceNo\n",
    "order by sum(Profit) desc\n",
    "\"\"\"\n",
    "\n",
    "invoice_revenues = SPARK.sql(query).toPandas()\n",
    "\n",
    "invoice_revenues.head()"
   ]
  },
  {
   "cell_type": "code",
   "execution_count": null,
   "metadata": {},
   "outputs": [],
   "source": [
    "sns.barplot(x=\"InvoiceNo\", y=\"InvoiceProfit\", data=invoice_revenues.head(10), palette=\"Blues_d\")\n",
    "\n",
    "plt.title(\"Top 10 Invoices by Revenue\")\n",
    "plt.xlabel(\"Invoice Number\")\n",
    "plt.ylabel(\"Revenue\")\n",
    "\n",
    "plt.xticks(rotation=45)\n",
    "\n",
    "plt.show()"
   ]
  },
  {
   "cell_type": "markdown",
   "metadata": {},
   "source": [
    "### What is the total revenue for each customer?"
   ]
  },
  {
   "cell_type": "code",
   "execution_count": null,
   "metadata": {},
   "outputs": [],
   "source": [
    "query = \"\"\"\n",
    "with cte_test as\n",
    "(\n",
    "    select \n",
    "        cast(case\n",
    "            when CustomerID = 0 then null else CustomerID\n",
    "        end as int) as CustomerID,\n",
    "        round(sum(Profit), 2) as CustomerProfit,\n",
    "        count(*) as num_of_transactions\n",
    "    from online_retail\n",
    "    group by\n",
    "        CustomerID\n",
    "    order by sum(Profit) desc\n",
    ")\n",
    "select *\n",
    "from cte_test\n",
    "where\n",
    "    CustomerID is not null;\n",
    "\"\"\"\n",
    "\n",
    "customer_revenues = SPARK.sql(query).toPandas()\n",
    "\n",
    "customer_revenues.head()"
   ]
  },
  {
   "cell_type": "code",
   "execution_count": null,
   "metadata": {},
   "outputs": [],
   "source": [
    "# bar plot sorted by profit\n",
    "sns.barplot(x=\"CustomerID\", y=\"CustomerProfit\", data=customer_revenues.head(10), palette=\"Blues_d\")\n",
    "\n",
    "plt.title(\"Top 10 Customers by Revenue\")\n",
    "\n",
    "plt.xlabel(\"Customer ID\")\n",
    "\n",
    "plt.ylabel(\"Revenue\")\n",
    "\n",
    "plt.xticks(rotation = 45)\n",
    "plt.show()"
   ]
  },
  {
   "cell_type": "markdown",
   "metadata": {},
   "source": [
    "### Revenue Trend"
   ]
  },
  {
   "cell_type": "code",
   "execution_count": null,
   "metadata": {},
   "outputs": [],
   "source": [
    "new_df = df.copy()\n",
    "\n",
    "new_df[\"InvoiceDate\"] = new_df[\"InvoiceDate\"].dt.date\n",
    "\n",
    "new_df.sort_values(by=\"InvoiceDate\", inplace=True)\n",
    "\n",
    "new_df[\"Running_Sum\"] = new_df[\"Profit\"].cumsum()\n",
    "\n",
    "new_df[\"Running_Sum\"] = new_df[\"Running_Sum\"].astype(\"float64\")\n",
    "\n",
    "new_df = new_df[['InvoiceDate', 'Profit', 'Running_Sum']]"
   ]
  },
  {
   "cell_type": "code",
   "execution_count": null,
   "metadata": {},
   "outputs": [],
   "source": [
    "new_df.head()"
   ]
  },
  {
   "cell_type": "code",
   "execution_count": null,
   "metadata": {},
   "outputs": [],
   "source": [
    "# line plot\n",
    "fig = go.Figure()\n",
    "\n",
    "fig.add_trace(go.Scatter(x=new_df.InvoiceDate, y=new_df.Running_Sum,\n",
    "                         \n",
    "                            mode='lines',\n",
    "                            name='lines'))\n",
    "\n",
    "fig.update_layout(title='Cumulative Revenue',\n",
    "                     xaxis_title='Date',\n",
    "                        yaxis_title='Revenue')\n",
    "\n",
    "fig.show()"
   ]
  },
  {
   "cell_type": "markdown",
   "metadata": {},
   "source": [
    "## Product Analysis:\n",
    "        Which products are the best-sellers in terms of quantity sold?\n",
    "        What is the average unit price for each product?\n",
    "        What is the distribution of products across different categories?\n",
    "        Are there any products that are frequently bought together?"
   ]
  },
  {
   "cell_type": "markdown",
   "metadata": {},
   "source": [
    "### Product Quantities"
   ]
  },
  {
   "cell_type": "code",
   "execution_count": null,
   "metadata": {},
   "outputs": [],
   "source": [
    "query = \"\"\"\n",
    "select \n",
    "    StockCode,\n",
    "    description,\n",
    "    count(StockCode) as products_sold\n",
    "from online_retail\n",
    "group by \n",
    "    StockCode,\n",
    "    description\n",
    "order by count(StockCode) desc\n",
    "limit 10\n",
    "\"\"\"\n",
    "\n",
    "top10_most_sold_products = SPARK.sql(query)\n",
    "\n",
    "top10_most_sold_products.show()"
   ]
  },
  {
   "cell_type": "code",
   "execution_count": null,
   "metadata": {},
   "outputs": [],
   "source": [
    "top10_most_sold_products = top10_most_sold_products.toPandas()"
   ]
  },
  {
   "cell_type": "code",
   "execution_count": null,
   "metadata": {},
   "outputs": [],
   "source": [
    "\n",
    "sns.barplot(data = top10_most_sold_products, x = \"products_sold\", y = \"StockCode\", palette ='Blues_r')\n",
    "\n",
    "plt.title(\"Top 10 Products by Count\")\n",
    "plt.show()"
   ]
  },
  {
   "cell_type": "markdown",
   "metadata": {},
   "source": [
    "### Average unit of price"
   ]
  },
  {
   "cell_type": "code",
   "execution_count": null,
   "metadata": {},
   "outputs": [],
   "source": [
    "print(f\"Average Pirce of a Unit: {round(np.average(df.UnitPrice), 2)}\")"
   ]
  },
  {
   "cell_type": "markdown",
   "metadata": {},
   "source": [
    "### Products by Category"
   ]
  },
  {
   "cell_type": "code",
   "execution_count": null,
   "metadata": {},
   "outputs": [],
   "source": [
    "descriptions = df.description\n",
    "descriptions = descriptions.str.split().to_list()"
   ]
  },
  {
   "cell_type": "code",
   "execution_count": null,
   "metadata": {},
   "outputs": [],
   "source": [
    "# product types\n",
    "clothing_types = [\n",
    "    \"t-shirt\",\n",
    "    \"jeans\",\n",
    "    \"dress\",\n",
    "    \"sweater\",\n",
    "    \"shorts\",\n",
    "    \"skirt\",\n",
    "    \"jacket\",\n",
    "    \"hoodie\",\n",
    "    \"blouse\",\n",
    "    \"suit\",\n",
    "    \"pants\",\n",
    "    \"coat\",\n",
    "    \"shirt\",\n",
    "    \"tank top\",\n",
    "    \"leggings\",\n",
    "    \"sweatshirt\",\n",
    "    \"trousers\",\n",
    "    \"blazer\",\n",
    "    \"polo shirt\",\n",
    "    \"jumpsuit\",\n",
    "]\n",
    "\n",
    "# electronic types\n",
    "electronic_types = [\n",
    "    \"smartphone\",\n",
    "    \"laptop\",\n",
    "    \"tablet\",\n",
    "    \"television\",\n",
    "    \"headphones\",\n",
    "    \"smartwatch\",\n",
    "    \"camera\",\n",
    "    \"speaker\",\n",
    "    \"gaming console\",\n",
    "    \"router\",\n",
    "    \"monitor\",\n",
    "    \"keyboard\",\n",
    "    \"mouse\",\n",
    "    \"printer\",\n",
    "    \"earbuds\",\n",
    "    \"fitness tracker\",\n",
    "    \"drone\",\n",
    "    \"projector\",\n",
    "    \"external hard drive\",\n",
    "    \"bluetooth earphones\",\n",
    "]\n",
    "\n",
    "food_types = [\n",
    "    \"pizza\",\n",
    "    \"burger\",\n",
    "    \"pasta\",\n",
    "    \"sushi\",\n",
    "    \"salad\",\n",
    "    \"taco\",\n",
    "    \"sandwich\",\n",
    "    \"ramen\",\n",
    "    \"steak\",\n",
    "    \"ice cream\",\n",
    "    \"chocolate\",\n",
    "    \"cake\",\n",
    "    \"coffee\",\n",
    "    \"smoothie\",\n",
    "    \"sushi\",\n",
    "    \"doughnut\",\n",
    "    \"burrito\",\n",
    "    \"pancake\",\n",
    "    \"croissant\",\n",
    "    \"noodles\",\n",
    "    \"candy\"\n",
    "]"
   ]
  },
  {
   "cell_type": "code",
   "execution_count": null,
   "metadata": {},
   "outputs": [],
   "source": [
    "descriptions_categories = {}\n",
    "\n",
    "for row in descriptions:\n",
    "    for word in row:\n",
    "        word = word.lower()\n",
    "        if word in clothing_types:\n",
    "            descriptions_categories[tuple(row)] = \"Clothes\"\n",
    "            break\n",
    "        \n",
    "        elif word in electronic_types:\n",
    "            descriptions_categories[tuple(row)] = \"Eletronics\"\n",
    "            break \n",
    "        \n",
    "        elif word in food_types:\n",
    "            descriptions_categories[tuple(row)] = \"Food\"\n",
    "            break \n",
    "\n",
    "        else:\n",
    "            descriptions_categories[tuple(row)] = \"Unidentified\""
   ]
  },
  {
   "cell_type": "code",
   "execution_count": null,
   "metadata": {},
   "outputs": [],
   "source": [
    "new_df = df[[\"StockCode\", \"description\"]]\n",
    "new_df.head()"
   ]
  },
  {
   "cell_type": "code",
   "execution_count": null,
   "metadata": {},
   "outputs": [],
   "source": [
    "categories = []\n",
    "    \n",
    "for row in new_df.iterrows():\n",
    "    categories.append(descriptions_categories[tuple(row[1].description.split())])\n",
    "\n",
    "new_df[\"Category\"] = categories\n",
    "\n",
    "new_df.head()"
   ]
  },
  {
   "cell_type": "code",
   "execution_count": null,
   "metadata": {},
   "outputs": [],
   "source": [
    "new_df = SPARK.createDataFrame(new_df)"
   ]
  },
  {
   "cell_type": "code",
   "execution_count": null,
   "metadata": {},
   "outputs": [],
   "source": [
    "new_df.createOrReplaceTempView(\"categories\")"
   ]
  },
  {
   "cell_type": "code",
   "execution_count": null,
   "metadata": {},
   "outputs": [],
   "source": [
    "query = \"\"\"\n",
    "select \n",
    "    category,\n",
    "    count(*) as num_of_products\n",
    "from categories\n",
    "where\n",
    "    category != 'Unidentified'\n",
    "group by\n",
    "    category\n",
    "order by \n",
    "    count(*) desc\n",
    "\"\"\"\n",
    "\n",
    "new_df = SPARK.sql(query)\n",
    "\n",
    "new_df.show()"
   ]
  },
  {
   "cell_type": "markdown",
   "metadata": {},
   "source": [
    "##     Customer Analysis:\n",
    "        Who are the top customers based on total spending?\n",
    "        What is the distribution of customers by country?\n",
    "        What is the average order quantity per customer?\n",
    "        How often do customers make repeat purchases?"
   ]
  },
  {
   "cell_type": "code",
   "execution_count": null,
   "metadata": {},
   "outputs": [],
   "source": [
    "df = load_data()\n",
    "df = pre_processing(df)\n",
    "\n",
    "spark_df = SPARK.createDataFrame(df).repartition(5)"
   ]
  },
  {
   "cell_type": "code",
   "execution_count": null,
   "metadata": {},
   "outputs": [],
   "source": [
    "spark_df = SPARK.createDataFrame(df)\n",
    "\n",
    "spark_df.createOrReplaceTempView(\"online_retail\")"
   ]
  },
  {
   "cell_type": "markdown",
   "metadata": {},
   "source": [
    "### Who are the top customers based on total spending?"
   ]
  },
  {
   "cell_type": "code",
   "execution_count": null,
   "metadata": {},
   "outputs": [],
   "source": [
    "query = \"\"\"\n",
    "select \n",
    "    CustomerID,    \n",
    "    round(sum(Profit), 2) as Total_Profit\n",
    "from online_retail\n",
    "where\n",
    "    CustomerID != 0\n",
    "group by\n",
    "    CustomerID\n",
    "order by\n",
    "    round(sum(Profit), 2) desc\n",
    "limit 10\n",
    "\"\"\"\n",
    "\n",
    "top10_customers = SPARK.sql(query).toPandas()\n",
    "\n",
    "top10_customers.head()"
   ]
  },
  {
   "cell_type": "code",
   "execution_count": null,
   "metadata": {},
   "outputs": [],
   "source": [
    "sns.barplot(data = top10_customers, x = \"CustomerID\", y = \"Total_Profit\", palette ='Blues_r', order = top10_customers.sort_values(\"Total_Profit\", ascending = False).CustomerID)\n",
    "\n",
    "plt.title(\"Top 10 Customers by Profit\")\n",
    "plt.ylabel(\"Profit\")\n",
    "plt.xticks(rotation = 45)\n",
    "\n",
    "plt.show()"
   ]
  },
  {
   "cell_type": "markdown",
   "metadata": {},
   "source": [
    "### What is the distribution of customers by country?\n"
   ]
  },
  {
   "cell_type": "code",
   "execution_count": null,
   "metadata": {},
   "outputs": [],
   "source": [
    "query = \"\"\"\n",
    "select \n",
    "    country,    \n",
    "    count(country) as country_count\n",
    "from online_retail\n",
    "group by\n",
    "    country\n",
    "order by\n",
    "    count(country) desc\n",
    "limit 10\n",
    "\"\"\"\n",
    "\n",
    "top10_countries = SPARK.sql(query).toPandas()\n",
    "\n",
    "top10_countries.head()"
   ]
  },
  {
   "cell_type": "code",
   "execution_count": null,
   "metadata": {},
   "outputs": [],
   "source": [
    "sns.catplot(data = top10_countries, x = \"country_count\", y = \"country\", palette ='Blues_r', kind = \"bar\")\n",
    "\n",
    "plt.title(\"Top 10 Countries by Count\")\n",
    "plt.ylabel(\"Country\")\n",
    "plt.xticks(rotation = 45)\n",
    "\n",
    "plt.subplots_adjust(left = 0, right = 1)\n",
    "\n",
    "plt.show()\n"
   ]
  },
  {
   "cell_type": "markdown",
   "metadata": {},
   "source": [
    "### What is the average order quantity per customer?"
   ]
  },
  {
   "cell_type": "code",
   "execution_count": null,
   "metadata": {},
   "outputs": [],
   "source": [
    "print(f\"Average Quantity per Order: {round(np.average(df.quantity), 2)}\")"
   ]
  },
  {
   "cell_type": "markdown",
   "metadata": {},
   "source": [
    "### How often do customers make repeat purchases?"
   ]
  },
  {
   "cell_type": "code",
   "execution_count": null,
   "metadata": {},
   "outputs": [],
   "source": [
    "df = load_data()\n",
    "df = pre_processing(df)\n",
    "\n",
    "spark_df = SPARK.createDataFrame(df)\n",
    "\n",
    "spark_df.createOrReplaceTempView(\"online_retail\")"
   ]
  },
  {
   "cell_type": "code",
   "execution_count": null,
   "metadata": {},
   "outputs": [],
   "source": [
    "query = \"\"\"\n",
    "with cte_temp as\n",
    "(\n",
    "\n",
    "    select \n",
    "        CustomerID,\n",
    "        round(avg(diff), 2) as avg_days_between_purchase,\n",
    "        count(CustomerID) as transaction_amount\n",
    "    from\n",
    "    (\n",
    "        select \n",
    "            CustomerID,\n",
    "            date_diff(InvoiceDate, lag1) as diff\n",
    "        from\n",
    "        (\n",
    "            select \n",
    "                cast(CustomerID as integer) as CustomerID,\n",
    "                InvoiceDate,\n",
    "                lag(InvoiceDate, 1) over (partition by CustomerID order by InvoiceDate) as lag1\n",
    "            from\n",
    "            (\n",
    "                select \n",
    "                    CustomerID,\n",
    "                    InvoiceDate\n",
    "                from online_retail\n",
    "                where\n",
    "                    CustomerID != 0\n",
    "                group by\n",
    "                    CustomerID,\n",
    "                    InvoiceDate\n",
    "                order by\n",
    "                    CustomerID desc, InvoiceDate desc\n",
    "            )\n",
    "        ) \n",
    "    ) \n",
    "    group by CustomerID\n",
    ")\n",
    "\n",
    "select *\n",
    "from cte_temp\n",
    "where avg_days_between_purchase > 0\n",
    "order by avg_days_between_purchase\n",
    "\"\"\"\n",
    "\n",
    "most_frequent_customers = SPARK.sql(query)\n",
    "\n",
    "most_frequent_customers.show()\n"
   ]
  },
  {
   "cell_type": "code",
   "execution_count": null,
   "metadata": {},
   "outputs": [],
   "source": [
    "most_frequent_customers = most_frequent_customers.toPandas()"
   ]
  },
  {
   "cell_type": "code",
   "execution_count": null,
   "metadata": {},
   "outputs": [],
   "source": [
    "most_frequent_customers = most_frequent_customers[(most_frequent_customers[\"avg_days_between_purchase\"] < 50) & (most_frequent_customers[\"transaction_amount\"] >= 5)].sort_values(\"CustomerID\")\n",
    "\n",
    "sns.relplot(data = most_frequent_customers, \n",
    "            y = \"avg_days_between_purchase\", \n",
    "            x = \"transaction_amount\", palette ='Reds', \n",
    "            kind = \"scatter\", hue = \"transaction_amount\", size = \"transaction_amount\", sizes = (10, 250), alpha = 0.8)\n",
    "\n",
    "# Annotate most frequent customers\n",
    "plt.annotate(\"Dead Zone\", xy=[10,50])\n",
    "\n",
    "plt.annotate(\"Whales\", xy=[125,5])\n",
    "\n",
    "plt.title(\"Most Frequent Customers\")\n",
    "\n",
    "plt.xlabel(\"Number of Transactions\")\n",
    "\n",
    "plt.ylabel(\"Average Days Between Purchase\")\n",
    "\n",
    "plt.show()"
   ]
  },
  {
   "cell_type": "code",
   "execution_count": null,
   "metadata": {},
   "outputs": [],
   "source": [
    "print(f\"The average number of days it takes a customer to buy another product is: {round(np.average(most_frequent_customers.avg_days_between_purchase), 2)}\")"
   ]
  },
  {
   "cell_type": "markdown",
   "metadata": {},
   "source": [
    "##    Time Analysis:\n",
    "        What are the busiest months in terms of sales volume?\n",
    "        Is there a pattern in sales based on days of the week?\n",
    "        How does sales performance vary by different times of the day?"
   ]
  },
  {
   "cell_type": "code",
   "execution_count": null,
   "metadata": {},
   "outputs": [],
   "source": [
    "df = load_data()\n",
    "df = pre_processing(df)\n",
    "\n",
    "spark_df = SPARK.createDataFrame(df)\n",
    "spark_df.createOrReplaceTempView(\"online_retail\")"
   ]
  },
  {
   "cell_type": "markdown",
   "metadata": {},
   "source": [
    "### What are the busiest months in terms of sales volume?"
   ]
  },
  {
   "cell_type": "code",
   "execution_count": null,
   "metadata": {},
   "outputs": [],
   "source": [
    "query = \"\"\"\n",
    "select \n",
    "    month(InvoiceDate) as month,\n",
    "    round(sum(profit), 2) as Total_Profit,\n",
    "    count(*) as num_of_transactions\n",
    "from online_retail\n",
    "group by\n",
    "    month(InvoiceDate)\n",
    "order by\n",
    "    month(InvoiceDate)\n",
    "\"\"\"\n",
    "\n",
    "profits_per_month = SPARK.sql(query)\n",
    "\n",
    "profits_per_month.show()"
   ]
  },
  {
   "cell_type": "code",
   "execution_count": null,
   "metadata": {},
   "outputs": [],
   "source": [
    "profits_per_month = profits_per_month.toPandas()"
   ]
  },
  {
   "cell_type": "code",
   "execution_count": null,
   "metadata": {},
   "outputs": [],
   "source": [
    "profits_per_month.to_csv(\"profits_per_month.csv\")"
   ]
  },
  {
   "cell_type": "code",
   "execution_count": null,
   "metadata": {},
   "outputs": [],
   "source": [
    "sns.barplot(data = profits_per_month, x = \"month\", y = \"Total_Profit\", hue=\"month\", palette=\"Blues_r\", order = profits_per_month.sort_values(\"Total_Profit\", ascending = False).month , legend=False)\n",
    "sns.barplot(data = profits_per_month, x = \"month\", y = \"num_of_transactions\", hue=\"month\", palette=\"Reds\", order = profits_per_month.sort_values(\"num_of_transactions\", ascending = False).month, legend=False)\n",
    "\n",
    "plt.title(\"Total Profit + num of transactions per Month\")\n",
    "\n",
    "plt.xlabel(\"Month\")\n",
    "\n",
    "plt.ylabel(\"Total Profit\")\n",
    "\n",
    "plt.show()"
   ]
  },
  {
   "cell_type": "markdown",
   "metadata": {},
   "source": [
    "### Is there a pattern in sales based on days of the week?"
   ]
  },
  {
   "cell_type": "code",
   "execution_count": null,
   "metadata": {},
   "outputs": [],
   "source": [
    "query = \"\"\"\n",
    "select \n",
    "    cast(InvoiceDate as date) as InvoiceDate,\n",
    "    round(sum(profit), 2) as daily_profit\n",
    "from online_retail\n",
    "group by\n",
    "    cast(InvoiceDate as date)\n",
    "order by\n",
    "    InvoiceDate\n",
    "\"\"\"\n",
    "\n",
    "profits_per_day = SPARK.sql(query)\n",
    "\n",
    "profits_per_day.show()"
   ]
  },
  {
   "cell_type": "code",
   "execution_count": null,
   "metadata": {},
   "outputs": [],
   "source": [
    "profits_per_day = profits_per_day.toPandas()"
   ]
  },
  {
   "cell_type": "code",
   "execution_count": null,
   "metadata": {},
   "outputs": [],
   "source": [
    "profits_per_day.to_csv(\"profits_per_day.csv\")"
   ]
  },
  {
   "cell_type": "code",
   "execution_count": null,
   "metadata": {},
   "outputs": [],
   "source": [
    "fig = go.Figure()\n",
    "\n",
    "fig.add_trace(go.Scatter(x=profits_per_day.InvoiceDate, y=profits_per_day.daily_profit,\n",
    "                         \n",
    "                            mode='lines',\n",
    "                            name='lines'))\n",
    "\n",
    "fig.update_layout(title='Daily Revenue',\n",
    "\n",
    "                        xaxis_title='Date',\n",
    "                        yaxis_title='Revenue')\n",
    "\n",
    "fig.show()"
   ]
  },
  {
   "cell_type": "code",
   "execution_count": null,
   "metadata": {},
   "outputs": [],
   "source": [
    "query = \"\"\"\n",
    "select \n",
    "    cast(InvoiceDate as date) as InvoiceDate,\n",
    "    day(cast(InvoiceDate as date)) as day,\n",
    "    month(cast(InvoiceDate as date)) as month,\n",
    "    round(sum(profit), 2) as daily_profit,\n",
    "    count(*) as num_of_transactions\n",
    "from online_retail\n",
    "group by\n",
    "    cast(InvoiceDate as date),\n",
    "    day(cast(InvoiceDate as date)),\n",
    "    month(cast(InvoiceDate as date))\n",
    "order by\n",
    "    InvoiceDate\n",
    "\"\"\"\n",
    "\n",
    "revenue_density = SPARK.sql(query)\n",
    "\n",
    "revenue_density.show()"
   ]
  },
  {
   "cell_type": "code",
   "execution_count": null,
   "metadata": {},
   "outputs": [],
   "source": [
    "revenue_density = revenue_density.toPandas()"
   ]
  },
  {
   "cell_type": "code",
   "execution_count": null,
   "metadata": {},
   "outputs": [],
   "source": [
    "revenue_density.to_csv(\"revenue_density.csv\")"
   ]
  },
  {
   "cell_type": "code",
   "execution_count": null,
   "metadata": {},
   "outputs": [],
   "source": [
    "sns.kdeplot(data = revenue_density, x = \"daily_profit\", fill = True, alpha = 0.5)\n",
    "\n",
    "plt.title(\"Daily Revenue Distribution\")\n",
    "\n",
    "plt.xlabel(\"Daily Revenue\")\n",
    "\n",
    "plt.ylabel(\"Density\")\n",
    "\n",
    "plt.show()"
   ]
  },
  {
   "cell_type": "code",
   "execution_count": null,
   "metadata": {},
   "outputs": [],
   "source": [
    "sns.kdeplot(data = revenue_density, x = \"num_of_transactions\", fill = True, alpha = 0.5)\n",
    "\n",
    "plt.title(\"Daily Transactions Distribution\")\n",
    "\n",
    "plt.xlabel(\"Daily Transactions\")\n",
    "\n",
    "plt.ylabel(\"Density\")\n",
    "\n",
    "plt.show()"
   ]
  },
  {
   "cell_type": "code",
   "execution_count": null,
   "metadata": {},
   "outputs": [],
   "source": []
  },
  {
   "cell_type": "code",
   "execution_count": null,
   "metadata": {},
   "outputs": [],
   "source": []
  },
  {
   "cell_type": "code",
   "execution_count": null,
   "metadata": {},
   "outputs": [],
   "source": []
  },
  {
   "cell_type": "code",
   "execution_count": null,
   "metadata": {},
   "outputs": [],
   "source": []
  },
  {
   "cell_type": "code",
   "execution_count": null,
   "metadata": {},
   "outputs": [],
   "source": []
  },
  {
   "cell_type": "code",
   "execution_count": null,
   "metadata": {},
   "outputs": [],
   "source": []
  },
  {
   "cell_type": "code",
   "execution_count": null,
   "metadata": {},
   "outputs": [],
   "source": []
  },
  {
   "cell_type": "code",
   "execution_count": null,
   "metadata": {},
   "outputs": [],
   "source": []
  },
  {
   "cell_type": "code",
   "execution_count": null,
   "metadata": {},
   "outputs": [],
   "source": []
  }
 ],
 "metadata": {
  "kernelspec": {
   "display_name": "Python 3 (ipykernel)",
   "language": "python",
   "name": "python3"
  },
  "language_info": {
   "codemirror_mode": {
    "name": "ipython",
    "version": 3
   },
   "file_extension": ".py",
   "mimetype": "text/x-python",
   "name": "python",
   "nbconvert_exporter": "python",
   "pygments_lexer": "ipython3",
   "version": "3.11.6"
  }
 },
 "nbformat": 4,
 "nbformat_minor": 4
}
