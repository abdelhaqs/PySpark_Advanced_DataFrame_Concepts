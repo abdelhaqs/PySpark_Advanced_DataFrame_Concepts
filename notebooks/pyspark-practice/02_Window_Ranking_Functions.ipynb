{
 "cells": [
  {
   "cell_type": "markdown",
   "id": "cd82ac76-1fba-483e-83a6-4a6e1a684ae1",
   "metadata": {},
   "source": [
    "pySpark Window Ranking Functions\n",
    "Definitions:\n",
    "Window function:\n",
    "pySpark window functions are useful when you want to examine relationships within group\n",
    "of data rather than between group of data. It performs statictical operations like below\n",
    "explained.\n",
    "PySpark Window function performs statistical operations such as rank, row number, etc. on\n",
    "a group, frame, or collection of rows and returns results for each row individually. It is\n",
    "also popularly growing to perform data transformations.\n",
    "There are mainly three types of Window function:\n",
    "Analytical Function\n",
    "Ranking Function\n",
    "Aggregate Function\n",
    "Analytical functions:\n",
    "An analytic function is a function that returns a result after operating on data or a finite\n",
    "set of rows partitioned by a SELECT clause or in the ORDER BY clause. It returns a result in\n",
    "the same number of rows as the number of input rows. E.g. lead(), lag(), cume_dist()."
   ]
  },
  {
   "cell_type": "code",
   "execution_count": null,
   "id": "6b55a8c5-a54e-4bde-a17c-afa4f4879b2e",
   "metadata": {},
   "outputs": [],
   "source": []
  }
 ],
 "metadata": {
  "kernelspec": {
   "display_name": "Python 3 (ipykernel)",
   "language": "python",
   "name": "python3"
  },
  "language_info": {
   "codemirror_mode": {
    "name": "ipython",
    "version": 3
   },
   "file_extension": ".py",
   "mimetype": "text/x-python",
   "name": "python",
   "nbconvert_exporter": "python",
   "pygments_lexer": "ipython3",
   "version": "3.11.6"
  }
 },
 "nbformat": 4,
 "nbformat_minor": 5
}
