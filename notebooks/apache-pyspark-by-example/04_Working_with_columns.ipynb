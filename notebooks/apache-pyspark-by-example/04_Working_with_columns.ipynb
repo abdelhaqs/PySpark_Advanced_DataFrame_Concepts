{
 "cells": [
  {
   "cell_type": "markdown",
   "metadata": {
    "id": "8qf-TmnsBgXd"
   },
   "source": [
    "# Working with columns"
   ]
  },
  {
   "cell_type": "markdown",
   "metadata": {
    "id": "FEuEkV0BlzAD"
   },
   "source": [
    "## Setup environment"
   ]
  },
  {
   "cell_type": "code",
   "execution_count": 2,
   "metadata": {
    "colab": {
     "base_uri": "https://localhost:8080/",
     "height": 219
    },
    "id": "sdOOq4twHN1K",
    "outputId": "5a51bef7-f5df-4dfb-e555-b0008ac8be06"
   },
   "outputs": [
    {
     "data": {
      "text/html": [
       "\n",
       "            <div>\n",
       "                <p><b>SparkSession - in-memory</b></p>\n",
       "                \n",
       "        <div>\n",
       "            <p><b>SparkContext</b></p>\n",
       "\n",
       "            <p><a href=\"http://6d49db0254f9:4040\">Spark UI</a></p>\n",
       "\n",
       "            <dl>\n",
       "              <dt>Version</dt>\n",
       "                <dd><code>v3.5.0</code></dd>\n",
       "              <dt>Master</dt>\n",
       "                <dd><code>local[*]</code></dd>\n",
       "              <dt>AppName</dt>\n",
       "                <dd><code>pyspark-shell</code></dd>\n",
       "            </dl>\n",
       "        </div>\n",
       "        \n",
       "            </div>\n",
       "        "
      ],
      "text/plain": [
       "<pyspark.sql.session.SparkSession at 0x7d9ad879f810>"
      ]
     },
     "execution_count": 2,
     "metadata": {},
     "output_type": "execute_result"
    }
   ],
   "source": [
    "from pyspark.sql import SparkSession\n",
    "spark = SparkSession.builder.getOrCreate() \n",
    "spark"
   ]
  },
  {
   "cell_type": "markdown",
   "metadata": {
    "id": "0ysUlfFrN5OD"
   },
   "source": [
    "## Downloading and preprocessing Chicago's Reported Crime Data"
   ]
  },
  {
   "cell_type": "code",
   "execution_count": 5,
   "metadata": {},
   "outputs": [
    {
     "name": "stdout",
     "output_type": "stream",
     "text": [
      "--2024-11-26 21:57:52--  https://data.cityofchicago.org/api/views/9hwr-2zxp/rows.csv?accessType=DOWNLOAD\n",
      "Resolving data.cityofchicago.org (data.cityofchicago.org)... 35.170.133.124, 100.28.82.57, 174.129.43.10\n",
      "Connecting to data.cityofchicago.org (data.cityofchicago.org)|35.170.133.124|:443... connected.\n",
      "HTTP request sent, awaiting response... 200 OK\n",
      "Length: unspecified [text/csv]\n",
      "Saving to: ‘police-stations.csv’\n",
      "\n",
      "police-stations.csv     [    <=>             ]  54.54M  2.41MB/s    in 24s     \n",
      "\n",
      "2024-11-26 21:58:17 (2.26 MB/s) - ‘police-stations.csv’ saved [57189093]\n",
      "\n"
     ]
    }
   ],
   "source": [
    "!wget -O police-stations.csv https://data.cityofchicago.org/api/views/9hwr-2zxp/rows.csv?accessType=DOWNLOAD\n",
    "!mv police-stations.csv ../datasets/sparkbyexamples/"
   ]
  },
  {
   "cell_type": "code",
   "execution_count": 6,
   "metadata": {
    "colab": {
     "base_uri": "https://localhost:8080/"
    },
    "id": "9-1cK0nPNS95",
    "outputId": "ea13b407-5d21-498c-eb74-fc4a25bc2c42"
   },
   "outputs": [
    {
     "name": "stdout",
     "output_type": "stream",
     "text": [
      "+--------+-----------+--------------------+--------------------+----+--------------------+--------------------+--------------------+------+--------+----+--------+----+--------------+--------+------------+------------+----+--------------------+------------+-------------+--------------------+\n",
      "|      ID|Case Number|                Date|               Block|IUCR|        Primary Type|         Description|Location Description|Arrest|Domestic|Beat|District|Ward|Community Area|FBI Code|X Coordinate|Y Coordinate|Year|          Updated On|    Latitude|    Longitude|            Location|\n",
      "+--------+-----------+--------------------+--------------------+----+--------------------+--------------------+--------------------+------+--------+----+--------+----+--------------+--------+------------+------------+----+--------------------+------------+-------------+--------------------+\n",
      "|12651978|   JF185322|03/24/2022 05:07:...|  012XX S WABASH AVE|0910| MOTOR VEHICLE THEFT|          AUTOMOBILE|         GAS STATION| false|   false|0131|     001|  34|            33|      07|     1176963|     1894862|2022|09/02/2024 03:40:...|41.866843668|-87.625816668|(41.866843668, -8...|\n",
      "|12592454|   JF113025|01/14/2022 03:55:...|   067XX S MORGAN ST|2826|       OTHER OFFENSE|HARASSMENT BY ELE...|           RESIDENCE| false|    true|0724|     007|  16|            68|      26|     1170805|     1860170|2022|09/14/2023 03:41:...|41.771782439|-87.649436929|(41.771782439, -8...|\n",
      "|12601676|   JF124024|01/13/2022 04:00:...|031XX W AUGUSTA BLVD|1752|OFFENSE INVOLVING...|AGGRAVATED CRIMIN...|           RESIDENCE| false|    true|1211|     012|  36|            23|      17|     1155171|     1906486|2022|09/14/2023 03:41:...|41.899206068|-87.705505587|(41.899206068, -8...|\n",
      "|12785595|   JF346553|08/05/2022 09:00:...|072XX S UNIVERSIT...|1544|         SEX OFFENSE|SEXUAL EXPLOITATI...|           APARTMENT|  true|   false|0324|     003|   5|            69|      17|     1185135|     1857211|2022|09/14/2023 03:41:...|41.763337967|-87.597001131|(41.763337967, -8...|\n",
      "|12808281|   JF373517|08/14/2022 02:00:...| 055XX W ARDMORE AVE|1562|         SEX OFFENSE|AGGRAVATED CRIMIN...|           RESIDENCE| false|   false|1621|     016|  39|            11|      17|     1138383|     1937953|2022|09/14/2023 03:41:...|41.985875279|-87.766403857|(41.985875279, -8...|\n",
      "+--------+-----------+--------------------+--------------------+----+--------------------+--------------------+--------------------+------+--------+----+--------+----+--------------+--------+------------+------------+----+--------------------+------------+-------------+--------------------+\n",
      "only showing top 5 rows\n",
      "\n"
     ]
    }
   ],
   "source": [
    "from pyspark.sql.functions import to_timestamp,col,lit\n",
    "path =\"../datasets/sparkbyexamples/police-stations.csv\"\n",
    "rc = spark.read.csv(path,header=True)\n",
    "rc.show(5)"
   ]
  },
  {
   "cell_type": "markdown",
   "metadata": {
    "id": "mI_zYOVpf2yK"
   },
   "source": [
    "## Working with columns"
   ]
  },
  {
   "cell_type": "markdown",
   "metadata": {
    "id": "WvOfJmzhf0kG"
   },
   "source": [
    "**Display only the first 5 rows of the column name IUCR **\n",
    "\n",
    "**Spark can infer the schema by default.\n",
    "Spark takes a look at a couple of rows of the data, and tries to determine what kind of column each should be.**\n",
    "\n",
    "**in a production environment, you want to explicitly define your schemas.**"
   ]
  },
  {
   "cell_type": "code",
   "execution_count": 6,
   "metadata": {
    "colab": {
     "base_uri": "https://localhost:8080/"
    },
    "id": "808f1HzwgDyh",
    "outputId": "6713958f-1207-489a-842d-897c41c93f4d"
   },
   "outputs": [
    {
     "name": "stdout",
     "output_type": "stream",
     "text": [
      "root\n",
      " |-- ID: string (nullable = true)\n",
      " |-- Case Number: string (nullable = true)\n",
      " |-- Date: string (nullable = true)\n",
      " |-- Block: string (nullable = true)\n",
      " |-- IUCR: string (nullable = true)\n",
      " |-- Primary Type: string (nullable = true)\n",
      " |-- Description: string (nullable = true)\n",
      " |-- Location Description: string (nullable = true)\n",
      " |-- Arrest: string (nullable = true)\n",
      " |-- Domestic: string (nullable = true)\n",
      " |-- Beat: string (nullable = true)\n",
      " |-- District: string (nullable = true)\n",
      " |-- Ward: string (nullable = true)\n",
      " |-- Community Area: string (nullable = true)\n",
      " |-- FBI Code: string (nullable = true)\n",
      " |-- X Coordinate: string (nullable = true)\n",
      " |-- Y Coordinate: string (nullable = true)\n",
      " |-- Year: string (nullable = true)\n",
      " |-- Updated On: string (nullable = true)\n",
      " |-- Latitude: string (nullable = true)\n",
      " |-- Longitude: string (nullable = true)\n",
      " |-- Location: string (nullable = true)\n",
      "\n"
     ]
    }
   ],
   "source": [
    "rc.printSchema()"
   ]
  },
  {
   "cell_type": "markdown",
   "metadata": {
    "id": "BjGTq80OTkuD"
   },
   "source": [
    "**in a production environment, you want to explicitly define your schemas.**"
   ]
  },
  {
   "cell_type": "code",
   "execution_count": 8,
   "metadata": {
    "id": "PeeOFy5cgDRq"
   },
   "outputs": [],
   "source": [
    "from pyspark.sql.types import StructType, StructField, StringType, TimestampType, BooleanType, DoubleType, IntegerType"
   ]
  },
  {
   "cell_type": "code",
   "execution_count": 9,
   "metadata": {
    "id": "qLS_NEpEgDBJ"
   },
   "outputs": [],
   "source": [
    "labels = [\n",
    "('ID',StringType()),\n",
    "('Case Number',StringType()), \n",
    "('Block',StringType()), \n",
    "('IUCR',StringType()),\n",
    "('Primary Type',StringType()), \n",
    "('Description',StringType()), \n",
    "('Location Description',StringType()), \n",
    "('Arrest',StringType()), \n",
    "('Domestic',BooleanType()), \n",
    "('Beat',StringType()), \n",
    "('District',StringType()), \n",
    "('Ward',StringType()),\n",
    "('Community Area',StringType()), \n",
    "('FBI Code',StringType()),\n",
    "('X Coordinate',StringType()), \n",
    "('Y Coordinate',StringType()), \n",
    "('Year',IntegerType()),\n",
    "('Updated On',StringType()), \n",
    "('Latitude',DoubleType()), \n",
    "('Longitude',DoubleType()),\n",
    "('Location',StringType())\n",
    "]\n"
   ]
  },
  {
   "cell_type": "code",
   "execution_count": 10,
   "metadata": {
    "colab": {
     "base_uri": "https://localhost:8080/"
    },
    "id": "E7NuMVpygC2h",
    "outputId": "37d57ff1-0104-4675-97bc-d9b8d1917a58"
   },
   "outputs": [
    {
     "data": {
      "text/plain": [
       "StructType([StructField('ID', StringType(), True), StructField('Case Number', StringType(), True), StructField('Block', StringType(), True), StructField('IUCR', StringType(), True), StructField('Primary Type', StringType(), True), StructField('Description', StringType(), True), StructField('Location Description', StringType(), True), StructField('Arrest', StringType(), True), StructField('Domestic', BooleanType(), True), StructField('Beat', StringType(), True), StructField('District', StringType(), True), StructField('Ward', StringType(), True), StructField('Community Area', StringType(), True), StructField('FBI Code', StringType(), True), StructField('X Coordinate', StringType(), True), StructField('Y Coordinate', StringType(), True), StructField('Year', IntegerType(), True), StructField('Updated On', StringType(), True), StructField('Latitude', DoubleType(), True), StructField('Longitude', DoubleType(), True), StructField('Location', StringType(), True)])"
      ]
     },
     "execution_count": 10,
     "metadata": {},
     "output_type": "execute_result"
    }
   ],
   "source": [
    "Myschema = StructType([StructField (x[0] ,x[1], True) for x in labels])\n",
    "Myschema"
   ]
  },
  {
   "cell_type": "code",
   "execution_count": 14,
   "metadata": {
    "colab": {
     "base_uri": "https://localhost:8080/"
    },
    "id": "gxvp9zold59Y",
    "outputId": "57cb4a01-1ba9-4e0b-a249-87e55d2cac02"
   },
   "outputs": [
    {
     "name": "stdout",
     "output_type": "stream",
     "text": [
      "root\n",
      " |-- ID: string (nullable = true)\n",
      " |-- Case Number: string (nullable = true)\n",
      " |-- Block: string (nullable = true)\n",
      " |-- IUCR: string (nullable = true)\n",
      " |-- Primary Type: string (nullable = true)\n",
      " |-- Description: string (nullable = true)\n",
      " |-- Location Description: string (nullable = true)\n",
      " |-- Arrest: string (nullable = true)\n",
      " |-- Domestic: boolean (nullable = true)\n",
      " |-- Beat: string (nullable = true)\n",
      " |-- District: string (nullable = true)\n",
      " |-- Ward: string (nullable = true)\n",
      " |-- Community Area: string (nullable = true)\n",
      " |-- FBI Code: string (nullable = true)\n",
      " |-- X Coordinate: string (nullable = true)\n",
      " |-- Y Coordinate: string (nullable = true)\n",
      " |-- Year: integer (nullable = true)\n",
      " |-- Updated On: string (nullable = true)\n",
      " |-- Latitude: double (nullable = true)\n",
      " |-- Longitude: double (nullable = true)\n",
      " |-- Location: string (nullable = true)\n",
      "\n"
     ]
    }
   ],
   "source": [
    "rc1 = spark.read.csv(path,schema=Myschema)\n",
    "rc1.printSchema()"
   ]
  },
  {
   "cell_type": "code",
   "execution_count": 17,
   "metadata": {
    "colab": {
     "base_uri": "https://localhost:8080/"
    },
    "id": "PGg06P7NecxT",
    "outputId": "472cc5b5-3a50-4313-b78e-fce162d47569"
   },
   "outputs": [
    {
     "name": "stdout",
     "output_type": "stream",
     "text": [
      "root\n",
      " |-- ID: string (nullable = true)\n",
      " |-- Case Number: string (nullable = true)\n",
      " |-- Date: string (nullable = true)\n",
      " |-- Block: string (nullable = true)\n",
      " |-- IUCR: string (nullable = true)\n",
      " |-- Primary Type: string (nullable = true)\n",
      " |-- Description: string (nullable = true)\n",
      " |-- Location Description: string (nullable = true)\n",
      " |-- Arrest: string (nullable = true)\n",
      " |-- Domestic: string (nullable = true)\n",
      " |-- Beat: string (nullable = true)\n",
      " |-- District: string (nullable = true)\n",
      " |-- Ward: string (nullable = true)\n",
      " |-- Community Area: string (nullable = true)\n",
      " |-- FBI Code: string (nullable = true)\n",
      " |-- X Coordinate: string (nullable = true)\n",
      " |-- Y Coordinate: string (nullable = true)\n",
      " |-- Year: string (nullable = true)\n",
      " |-- Updated On: string (nullable = true)\n",
      " |-- Latitude: string (nullable = true)\n",
      " |-- Longitude: string (nullable = true)\n",
      " |-- Location: string (nullable = true)\n",
      "\n",
      "+--------+-----------+----------------------+--------------------+----+--------------------------+-------------------------------------------------+--------------------+------+--------+----+--------+----+--------------+--------+------------+------------+----+----------------------+------------+-------------+-----------------------------+\n",
      "|ID      |Case Number|Date                  |Block               |IUCR|Primary Type              |Description                                      |Location Description|Arrest|Domestic|Beat|District|Ward|Community Area|FBI Code|X Coordinate|Y Coordinate|Year|Updated On            |Latitude    |Longitude    |Location                     |\n",
      "+--------+-----------+----------------------+--------------------+----+--------------------------+-------------------------------------------------+--------------------+------+--------+----+--------+----+--------------+--------+------------+------------+----+----------------------+------------+-------------+-----------------------------+\n",
      "|12651978|JF185322   |03/24/2022 05:07:00 PM|012XX S WABASH AVE  |0910|MOTOR VEHICLE THEFT       |AUTOMOBILE                                       |GAS STATION         |false |false   |0131|001     |34  |33            |07      |1176963     |1894862     |2022|09/02/2024 03:40:51 PM|41.866843668|-87.625816668|(41.866843668, -87.625816668)|\n",
      "|12592454|JF113025   |01/14/2022 03:55:00 PM|067XX S MORGAN ST   |2826|OTHER OFFENSE             |HARASSMENT BY ELECTRONIC MEANS                   |RESIDENCE           |false |true    |0724|007     |16  |68            |26      |1170805     |1860170     |2022|09/14/2023 03:41:59 PM|41.771782439|-87.649436929|(41.771782439, -87.649436929)|\n",
      "|12601676|JF124024   |01/13/2022 04:00:00 PM|031XX W AUGUSTA BLVD|1752|OFFENSE INVOLVING CHILDREN|AGGRAVATED CRIMINAL SEXUAL ABUSE BY FAMILY MEMBER|RESIDENCE           |false |true    |1211|012     |36  |23            |17      |1155171     |1906486     |2022|09/14/2023 03:41:59 PM|41.899206068|-87.705505587|(41.899206068, -87.705505587)|\n",
      "+--------+-----------+----------------------+--------------------+----+--------------------------+-------------------------------------------------+--------------------+------+--------+----+--------+----+--------------+--------+------------+------------+----+----------------------+------------+-------------+-----------------------------+\n",
      "only showing top 3 rows\n",
      "\n"
     ]
    }
   ],
   "source": [
    "df= spark.read.option('infeerSchema', True).csv(path, header=True)\n",
    "df.printSchema()\n",
    "df.show(3, truncate=False)"
   ]
  },
  {
   "cell_type": "code",
   "execution_count": 18,
   "metadata": {},
   "outputs": [
    {
     "name": "stdout",
     "output_type": "stream",
     "text": [
      "['ID', 'Case Number', 'Date', 'Block', 'IUCR', 'Primary Type', 'Description', 'Location Description', 'Arrest', 'Domestic', 'Beat', 'District', 'Ward', 'Community Area', 'FBI Code', 'X Coordinate', 'Y Coordinate', 'Year', 'Updated On', 'Latitude', 'Longitude', 'Location']\n"
     ]
    }
   ],
   "source": [
    "print(df.columns)"
   ]
  },
  {
   "cell_type": "markdown",
   "metadata": {
    "id": "sqKVhTd7f5eV"
   },
   "source": [
    "**Display only the first 5 rows of the column name IUCR**\n",
    "\n"
   ]
  },
  {
   "cell_type": "code",
   "execution_count": 23,
   "metadata": {
    "colab": {
     "base_uri": "https://localhost:8080/"
    },
    "id": "QpQAywqjgNP5",
    "outputId": "c2aa8c6c-7df0-462e-e5a6-8abd6d1f7b2d"
   },
   "outputs": [
    {
     "name": "stdout",
     "output_type": "stream",
     "text": [
      "+----+\n",
      "|IUCR|\n",
      "+----+\n",
      "|0910|\n",
      "|2826|\n",
      "|1752|\n",
      "|1544|\n",
      "|1562|\n",
      "+----+\n",
      "only showing top 5 rows\n",
      "\n"
     ]
    }
   ],
   "source": [
    "df.select(col('IUCR')).show(5)"
   ]
  },
  {
   "cell_type": "markdown",
   "metadata": {
    "id": "A4u5vp73gEtB"
   },
   "source": [
    "  **Display only the first 4 rows of the column names Case Number, Date and Arrest**"
   ]
  },
  {
   "cell_type": "code",
   "execution_count": 21,
   "metadata": {
    "colab": {
     "base_uri": "https://localhost:8080/"
    },
    "id": "ugRDxNwNgHNa",
    "outputId": "d08e10a5-d0e3-4cf9-c51f-44fcfd279009"
   },
   "outputs": [
    {
     "name": "stdout",
     "output_type": "stream",
     "text": [
      "+-----------+------+--------------------+\n",
      "|Case Number|Arrest|                Date|\n",
      "+-----------+------+--------------------+\n",
      "|   JF185322| false|03/24/2022 05:07:...|\n",
      "|   JF113025| false|01/14/2022 03:55:...|\n",
      "|   JF124024| false|01/13/2022 04:00:...|\n",
      "|   JF346553|  true|08/05/2022 09:00:...|\n",
      "+-----------+------+--------------------+\n",
      "only showing top 4 rows\n",
      "\n"
     ]
    }
   ],
   "source": [
    "df.select('Case Number', 'Arrest','Date' ).show(4)"
   ]
  },
  {
   "cell_type": "markdown",
   "metadata": {
    "id": "GKnmLXJWr35c"
   },
   "source": [
    "** Add a column with name One, with entries all 1s **"
   ]
  },
  {
   "cell_type": "code",
   "execution_count": 22,
   "metadata": {
    "colab": {
     "base_uri": "https://localhost:8080/"
    },
    "id": "_OhKvPoItNtK",
    "outputId": "3c1ef562-4e7f-45bc-9c8c-84f4e84e9445"
   },
   "outputs": [
    {
     "name": "stdout",
     "output_type": "stream",
     "text": [
      "+--------+-----------+--------------------+--------------------+----+--------------------+--------------------+--------------------+------+--------+----+--------+----+--------------+--------+------------+------------+----+--------------------+------------+-------------+--------------------+---+\n",
      "|      ID|Case Number|                Date|               Block|IUCR|        Primary Type|         Description|Location Description|Arrest|Domestic|Beat|District|Ward|Community Area|FBI Code|X Coordinate|Y Coordinate|Year|          Updated On|    Latitude|    Longitude|            Location|One|\n",
      "+--------+-----------+--------------------+--------------------+----+--------------------+--------------------+--------------------+------+--------+----+--------+----+--------------+--------+------------+------------+----+--------------------+------------+-------------+--------------------+---+\n",
      "|12651978|   JF185322|03/24/2022 05:07:...|  012XX S WABASH AVE|0910| MOTOR VEHICLE THEFT|          AUTOMOBILE|         GAS STATION| false|   false|0131|     001|  34|            33|      07|     1176963|     1894862|2022|09/02/2024 03:40:...|41.866843668|-87.625816668|(41.866843668, -8...|  1|\n",
      "|12592454|   JF113025|01/14/2022 03:55:...|   067XX S MORGAN ST|2826|       OTHER OFFENSE|HARASSMENT BY ELE...|           RESIDENCE| false|    true|0724|     007|  16|            68|      26|     1170805|     1860170|2022|09/14/2023 03:41:...|41.771782439|-87.649436929|(41.771782439, -8...|  1|\n",
      "|12601676|   JF124024|01/13/2022 04:00:...|031XX W AUGUSTA BLVD|1752|OFFENSE INVOLVING...|AGGRAVATED CRIMIN...|           RESIDENCE| false|    true|1211|     012|  36|            23|      17|     1155171|     1906486|2022|09/14/2023 03:41:...|41.899206068|-87.705505587|(41.899206068, -8...|  1|\n",
      "|12785595|   JF346553|08/05/2022 09:00:...|072XX S UNIVERSIT...|1544|         SEX OFFENSE|SEXUAL EXPLOITATI...|           APARTMENT|  true|   false|0324|     003|   5|            69|      17|     1185135|     1857211|2022|09/14/2023 03:41:...|41.763337967|-87.597001131|(41.763337967, -8...|  1|\n",
      "|12808281|   JF373517|08/14/2022 02:00:...| 055XX W ARDMORE AVE|1562|         SEX OFFENSE|AGGRAVATED CRIMIN...|           RESIDENCE| false|   false|1621|     016|  39|            11|      17|     1138383|     1937953|2022|09/14/2023 03:41:...|41.985875279|-87.766403857|(41.985875279, -8...|  1|\n",
      "+--------+-----------+--------------------+--------------------+----+--------------------+--------------------+--------------------+------+--------+----+--------+----+--------------+--------+------------+------------+----+--------------------+------------+-------------+--------------------+---+\n",
      "only showing top 5 rows\n",
      "\n"
     ]
    }
   ],
   "source": [
    "df.withColumn('One', lit(1)).show(5)"
   ]
  },
  {
   "cell_type": "markdown",
   "metadata": {
    "id": "BKV2ymA2uI2h"
   },
   "source": [
    "** Remove the column IUCR **"
   ]
  },
  {
   "cell_type": "code",
   "execution_count": 16,
   "metadata": {
    "colab": {
     "base_uri": "https://localhost:8080/"
    },
    "id": "3wr2Q9djtXBV",
    "outputId": "0824c484-6639-4fd4-b5fd-317ab9a5231c"
   },
   "outputs": [
    {
     "name": "stdout",
     "output_type": "stream",
     "text": [
      "['ID', 'Case Number', 'Date', 'Block', 'Primary Type', 'Description', 'Location Description', 'Arrest', 'Domestic', 'Beat', 'District', 'Ward', 'Community Area', 'FBI Code', 'X Coordinate', 'Y Coordinate', 'Year', 'Updated On', 'Latitude', 'Longitude', 'Location']\n"
     ]
    }
   ],
   "source": [
    "rc2= rc.drop('IUCR')\n",
    "print(rc2.columns)"
   ]
  },
  {
   "cell_type": "code",
   "execution_count": null,
   "metadata": {
    "id": "3HBJev2Ctdbo"
   },
   "outputs": [],
   "source": []
  }
 ],
 "metadata": {
  "colab": {
   "collapsed_sections": [],
   "name": "Working_with_columns.ipynb",
   "provenance": []
  },
  "kernelspec": {
   "display_name": "Python 3 (ipykernel)",
   "language": "python",
   "name": "python3"
  },
  "language_info": {
   "codemirror_mode": {
    "name": "ipython",
    "version": 3
   },
   "file_extension": ".py",
   "mimetype": "text/x-python",
   "name": "python",
   "nbconvert_exporter": "python",
   "pygments_lexer": "ipython3",
   "version": "3.11.6"
  }
 },
 "nbformat": 4,
 "nbformat_minor": 4
}
