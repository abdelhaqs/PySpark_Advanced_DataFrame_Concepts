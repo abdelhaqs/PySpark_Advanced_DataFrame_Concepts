{
 "cells": [
  {
   "cell_type": "markdown",
   "metadata": {
    "id": "8qf-TmnsBgXd"
   },
   "source": [
    "# Download Chicago's Reported Crime Data"
   ]
  },
  {
   "cell_type": "code",
   "execution_count": 1,
   "metadata": {
    "colab": {
     "base_uri": "https://localhost:8080/"
    },
    "executionInfo": {
     "elapsed": 586,
     "status": "ok",
     "timestamp": 1655322017984,
     "user": {
      "displayName": "Abdelhak Aswak",
      "userId": "10570477179366674085"
     },
     "user_tz": -60
    },
    "id": "zToS5PqxBXpK",
    "outputId": "8ac15f02-b00a-4a1d-ebb0-e0986b7368cb"
   },
   "outputs": [],
   "source": [
    "#!wget -O police-stations.csv https://data.cityofchicago.org/api/views/z8bn-74gv/rows.csv?accessType=DOWNLOAD"
   ]
  },
  {
   "cell_type": "code",
   "execution_count": 2,
   "metadata": {},
   "outputs": [
    {
     "name": "stdout",
     "output_type": "stream",
     "text": [
      "--2024-12-05 10:28:19--  https://data.cityofchicago.org/api/views/9hwr-2zxp/rows.csv?accessType=DOWNLOAD\n",
      "Resolving data.cityofchicago.org (data.cityofchicago.org)... 35.170.133.124, 174.129.43.10, 100.28.82.57\n",
      "Connecting to data.cityofchicago.org (data.cityofchicago.org)|35.170.133.124|:443... connected.\n",
      "HTTP request sent, awaiting response... 200 OK\n",
      "Length: unspecified [text/csv]\n",
      "Saving to: ‘reported-crimes.csv’\n",
      "\n",
      "reported-crimes.csv     [             <=>    ]  54.54M  1.31MB/s    in 82s     \n",
      "\n",
      "2024-12-05 10:29:42 (684 KB/s) - ‘reported-crimes.csv’ saved [57191790]\n",
      "\n"
     ]
    }
   ],
   "source": [
    "#ACTUAL DATA\n",
    "!wget -O reported-crimes.csv https://data.cityofchicago.org/api/views/9hwr-2zxp/rows.csv?accessType=DOWNLOAD"
   ]
  },
  {
   "cell_type": "code",
   "execution_count": 3,
   "metadata": {
    "colab": {
     "base_uri": "https://localhost:8080/"
    },
    "executionInfo": {
     "elapsed": 586,
     "status": "ok",
     "timestamp": 1655322017984,
     "user": {
      "displayName": "Abdelhak Aswak",
      "userId": "10570477179366674085"
     },
     "user_tz": -60
    },
    "id": "zToS5PqxBXpK",
    "outputId": "8ac15f02-b00a-4a1d-ebb0-e0986b7368cb"
   },
   "outputs": [],
   "source": [
    "#!ls"
   ]
  },
  {
   "cell_type": "code",
   "execution_count": 4,
   "metadata": {},
   "outputs": [],
   "source": [
    "!mv reported-crimes.csv ../datasets/sparkbyexamples/"
   ]
  },
  {
   "cell_type": "markdown",
   "metadata": {
    "id": "FEuEkV0BlzAD"
   },
   "source": [
    "## Setup environment"
   ]
  },
  {
   "cell_type": "code",
   "execution_count": 5,
   "metadata": {
    "colab": {
     "base_uri": "https://localhost:8080/",
     "height": 219
    },
    "executionInfo": {
     "elapsed": 5200,
     "status": "ok",
     "timestamp": 1655322484159,
     "user": {
      "displayName": "Abdelhak Aswak",
      "userId": "10570477179366674085"
     },
     "user_tz": -60
    },
    "id": "sdOOq4twHN1K",
    "outputId": "c9c2ec8e-4f09-4e17-c476-545728dc0e3c"
   },
   "outputs": [
    {
     "data": {
      "text/plain": [
       "'\\nimport pyspark\\nfrom pyspark.sql import SparkSession\\nspark = SparkSession.builder.getOrCreate() \\nspark\\n'"
      ]
     },
     "execution_count": 5,
     "metadata": {},
     "output_type": "execute_result"
    }
   ],
   "source": [
    "\"\"\"\n",
    "import pyspark\n",
    "from pyspark.sql import SparkSession\n",
    "spark = SparkSession.builder.getOrCreate() \n",
    "spark\n",
    "\"\"\""
   ]
  },
  {
   "cell_type": "markdown",
   "metadata": {
    "id": "0ysUlfFrN5OD"
   },
   "source": [
    "## preprocessing Chicago's Reported Crime Data"
   ]
  },
  {
   "cell_type": "code",
   "execution_count": 6,
   "metadata": {},
   "outputs": [],
   "source": [
    "#path =\"../datasets/sparkbyexamples/police-stations.csv\""
   ]
  },
  {
   "cell_type": "code",
   "execution_count": 7,
   "metadata": {
    "colab": {
     "base_uri": "https://localhost:8080/"
    },
    "executionInfo": {
     "elapsed": 15946,
     "status": "ok",
     "timestamp": 1655322507148,
     "user": {
      "displayName": "Abdelhak Aswak",
      "userId": "10570477179366674085"
     },
     "user_tz": -60
    },
    "id": "9-1cK0nPNS95",
    "outputId": "8aecdea5-6b27-4073-e1b4-3a05a9a94a30"
   },
   "outputs": [],
   "source": [
    "#from pyspark.sql.functions import to_timestamp,col,lit\n",
    "#rc = spark.read.csv(path,header=True)"
   ]
  },
  {
   "cell_type": "code",
   "execution_count": 8,
   "metadata": {
    "id": "FtDmwilgogPH"
   },
   "outputs": [],
   "source": [
    "#rc.printSchema()"
   ]
  },
  {
   "cell_type": "code",
   "execution_count": 9,
   "metadata": {
    "id": "Zxbq2qCyogGp"
   },
   "outputs": [],
   "source": [
    "#rc.select(\"Year\").distinct().show()"
   ]
  },
  {
   "cell_type": "code",
   "execution_count": 10,
   "metadata": {},
   "outputs": [],
   "source": [
    "#rc.select(\"Date\").distinct().show()"
   ]
  }
 ],
 "metadata": {
  "colab": {
   "name": "Download_data.ipynb",
   "provenance": []
  },
  "kernelspec": {
   "display_name": "Python 3 (ipykernel)",
   "language": "python",
   "name": "python3"
  },
  "language_info": {
   "codemirror_mode": {
    "name": "ipython",
    "version": 3
   },
   "file_extension": ".py",
   "mimetype": "text/x-python",
   "name": "python",
   "nbconvert_exporter": "python",
   "pygments_lexer": "ipython3",
   "version": "3.11.6"
  }
 },
 "nbformat": 4,
 "nbformat_minor": 4
}
