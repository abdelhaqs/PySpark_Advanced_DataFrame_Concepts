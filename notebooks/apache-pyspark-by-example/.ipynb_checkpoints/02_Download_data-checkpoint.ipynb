{
 "cells": [
  {
   "cell_type": "markdown",
   "metadata": {
    "id": "8qf-TmnsBgXd"
   },
   "source": [
    "# Download Chicago's Reported Crime Data"
   ]
  },
  {
   "cell_type": "code",
   "execution_count": 1,
   "metadata": {
    "colab": {
     "base_uri": "https://localhost:8080/"
    },
    "executionInfo": {
     "elapsed": 586,
     "status": "ok",
     "timestamp": 1655322017984,
     "user": {
      "displayName": "Abdelhak Aswak",
      "userId": "10570477179366674085"
     },
     "user_tz": -60
    },
    "id": "zToS5PqxBXpK",
    "outputId": "8ac15f02-b00a-4a1d-ebb0-e0986b7368cb"
   },
   "outputs": [
    {
     "name": "stdout",
     "output_type": "stream",
     "text": [
      "--2024-11-19 16:43:27--  https://data.cityofchicago.org/api/views/z8bn-74gv/rows.csv?accessType=DOWNLOAD\n",
      "Resolving data.cityofchicago.org (data.cityofchicago.org)... 100.28.82.57, 174.129.43.10, 35.170.133.124\n",
      "Connecting to data.cityofchicago.org (data.cityofchicago.org)|100.28.82.57|:443... connected.\n",
      "HTTP request sent, awaiting response... 200 OK\n",
      "Length: unspecified [text/csv]\n",
      "Saving to: ‘police-stations.csv’\n",
      "\n",
      "police-stations.csv     [ <=>                ]   5.57K  --.-KB/s    in 0s      \n",
      "\n",
      "2024-11-19 16:43:28 (1.93 GB/s) - ‘police-stations.csv’ saved [5699]\n",
      "\n"
     ]
    }
   ],
   "source": [
    "!wget -O police-stations.csv https://data.cityofchicago.org/api/views/z8bn-74gv/rows.csv?accessType=DOWNLOAD"
   ]
  },
  {
   "cell_type": "code",
   "execution_count": 2,
   "metadata": {
    "colab": {
     "base_uri": "https://localhost:8080/"
    },
    "executionInfo": {
     "elapsed": 586,
     "status": "ok",
     "timestamp": 1655322017984,
     "user": {
      "displayName": "Abdelhak Aswak",
      "userId": "10570477179366674085"
     },
     "user_tz": -60
    },
    "id": "zToS5PqxBXpK",
    "outputId": "8ac15f02-b00a-4a1d-ebb0-e0986b7368cb"
   },
   "outputs": [
    {
     "name": "stdout",
     "output_type": "stream",
     "text": [
      "01_Lab_environment.ipynb       06_Challenge.ipynb\t    14_Certificate\n",
      "02_Download_data.ipynb\t       07_Built_in_functions.ipynb  LICENSE\n",
      "03_Schemas.ipynb\t       08_Working_with_dates.ipynb  police-stations.csv\n",
      "04_Working_with_columns.ipynb  10_joins.ipynb\t\t    README.md\n",
      "05_Working_with_rows.ipynb     13_RDDs.ipynb\n"
     ]
    }
   ],
   "source": [
    "!ls"
   ]
  },
  {
   "cell_type": "code",
   "execution_count": 3,
   "metadata": {},
   "outputs": [],
   "source": [
    "mv police-stations.csv ../datasets/sparkbyexamples/"
   ]
  },
  {
   "cell_type": "markdown",
   "metadata": {
    "id": "FEuEkV0BlzAD"
   },
   "source": [
    "## Setup environment"
   ]
  },
  {
   "cell_type": "code",
   "execution_count": 7,
   "metadata": {
    "colab": {
     "base_uri": "https://localhost:8080/",
     "height": 219
    },
    "executionInfo": {
     "elapsed": 5200,
     "status": "ok",
     "timestamp": 1655322484159,
     "user": {
      "displayName": "Abdelhak Aswak",
      "userId": "10570477179366674085"
     },
     "user_tz": -60
    },
    "id": "sdOOq4twHN1K",
    "outputId": "c9c2ec8e-4f09-4e17-c476-545728dc0e3c"
   },
   "outputs": [
    {
     "data": {
      "text/html": [
       "\n",
       "            <div>\n",
       "                <p><b>SparkSession - in-memory</b></p>\n",
       "                \n",
       "        <div>\n",
       "            <p><b>SparkContext</b></p>\n",
       "\n",
       "            <p><a href=\"http://a65aa566ea42:4041\">Spark UI</a></p>\n",
       "\n",
       "            <dl>\n",
       "              <dt>Version</dt>\n",
       "                <dd><code>v3.5.0</code></dd>\n",
       "              <dt>Master</dt>\n",
       "                <dd><code>local[*]</code></dd>\n",
       "              <dt>AppName</dt>\n",
       "                <dd><code>pyspark-shell</code></dd>\n",
       "            </dl>\n",
       "        </div>\n",
       "        \n",
       "            </div>\n",
       "        "
      ],
      "text/plain": [
       "<pyspark.sql.session.SparkSession at 0x7f242485aed0>"
      ]
     },
     "execution_count": 7,
     "metadata": {},
     "output_type": "execute_result"
    }
   ],
   "source": [
    "import pyspark\n",
    "from pyspark.sql import SparkSession\n",
    "spark = SparkSession.builder.getOrCreate() \n",
    "spark"
   ]
  },
  {
   "cell_type": "markdown",
   "metadata": {
    "id": "0ysUlfFrN5OD"
   },
   "source": [
    "## preprocessing Chicago's Reported Crime Data"
   ]
  },
  {
   "cell_type": "code",
   "execution_count": 10,
   "metadata": {},
   "outputs": [],
   "source": [
    "path =\"../datasets/sparkbyexamples/police-stations.csv\""
   ]
  },
  {
   "cell_type": "code",
   "execution_count": 15,
   "metadata": {
    "colab": {
     "base_uri": "https://localhost:8080/"
    },
    "executionInfo": {
     "elapsed": 15946,
     "status": "ok",
     "timestamp": 1655322507148,
     "user": {
      "displayName": "Abdelhak Aswak",
      "userId": "10570477179366674085"
     },
     "user_tz": -60
    },
    "id": "9-1cK0nPNS95",
    "outputId": "8aecdea5-6b27-4073-e1b4-3a05a9a94a30"
   },
   "outputs": [],
   "source": [
    "from pyspark.sql.functions import to_timestamp,col,lit\n",
    "rc = spark.read.csv(path,header=True)"
   ]
  },
  {
   "cell_type": "code",
   "execution_count": 19,
   "metadata": {
    "id": "FtDmwilgogPH"
   },
   "outputs": [
    {
     "name": "stdout",
     "output_type": "stream",
     "text": [
      "root\n",
      " |-- DISTRICT: string (nullable = true)\n",
      " |-- DISTRICT NAME: string (nullable = true)\n",
      " |-- ADDRESS: string (nullable = true)\n",
      " |-- CITY: string (nullable = true)\n",
      " |-- STATE: string (nullable = true)\n",
      " |-- ZIP: string (nullable = true)\n",
      " |-- WEBSITE: string (nullable = true)\n",
      " |-- PHONE: string (nullable = true)\n",
      " |-- FAX: string (nullable = true)\n",
      " |-- TTY: string (nullable = true)\n",
      " |-- X COORDINATE: string (nullable = true)\n",
      " |-- Y COORDINATE: string (nullable = true)\n",
      " |-- LATITUDE: string (nullable = true)\n",
      " |-- LONGITUDE: string (nullable = true)\n",
      " |-- LOCATION: string (nullable = true)\n",
      "\n"
     ]
    }
   ],
   "source": [
    "rc.printSchema()"
   ]
  },
  {
   "cell_type": "code",
   "execution_count": 22,
   "metadata": {
    "id": "Zxbq2qCyogGp"
   },
   "outputs": [
    {
     "name": "stdout",
     "output_type": "stream",
     "text": [
      "+-------+-----+\n",
      "|   CITY|STATE|\n",
      "+-------+-----+\n",
      "|Chicago|   IL|\n",
      "|   NULL| NULL|\n",
      "+-------+-----+\n",
      "\n"
     ]
    }
   ],
   "source": [
    "rc.select(\"CITY\",\"STATE\"  ).distinct().show()"
   ]
  }
 ],
 "metadata": {
  "colab": {
   "name": "Download_data.ipynb",
   "provenance": []
  },
  "kernelspec": {
   "display_name": "Python 3 (ipykernel)",
   "language": "python",
   "name": "python3"
  },
  "language_info": {
   "codemirror_mode": {
    "name": "ipython",
    "version": 3
   },
   "file_extension": ".py",
   "mimetype": "text/x-python",
   "name": "python",
   "nbconvert_exporter": "python",
   "pygments_lexer": "ipython3",
   "version": "3.11.6"
  }
 },
 "nbformat": 4,
 "nbformat_minor": 4
}
