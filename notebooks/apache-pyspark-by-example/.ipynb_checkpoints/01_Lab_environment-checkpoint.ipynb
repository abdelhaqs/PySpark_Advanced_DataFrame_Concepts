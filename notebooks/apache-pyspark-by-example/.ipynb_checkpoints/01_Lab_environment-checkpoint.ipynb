{
 "cells": [
  {
   "cell_type": "code",
   "execution_count": 7,
   "metadata": {
    "colab": {
     "base_uri": "https://localhost:8080/"
    },
    "executionInfo": {
     "elapsed": 328,
     "status": "ok",
     "timestamp": 1655323121490,
     "user": {
      "displayName": "Abdelhak Aswak",
      "userId": "10570477179366674085"
     },
     "user_tz": -60
    },
    "id": "z2BmbTR3DOcZ",
    "outputId": "5321a87e-261e-4a1f-9a5f-b110b1e9ce4f"
   },
   "outputs": [
    {
     "name": "stdout",
     "output_type": "stream",
     "text": [
      "total 208\n",
      "-rw-rw-rw-  1 jovyan root  5589 Nov 19 16:41 01_Lab_environment.ipynb\n",
      "-rw-rw-rw-  1 jovyan root  9748 Nov 19 16:29 02_Download_data.ipynb\n",
      "-rw-rw-rw-  1 jovyan root  4980 Nov 19 16:29 03_Schemas.ipynb\n",
      "-rw-rw-rw-  1 jovyan root 33319 Nov 19 16:29 04_Working_with_columns.ipynb\n",
      "-rw-rw-rw-  1 jovyan root 23382 Nov 19 16:29 05_Working_with_rows.ipynb\n",
      "-rw-rw-rw-  1 jovyan root  5573 Nov 19 16:29 06_Challenge.ipynb\n",
      "-rw-rw-rw-  1 jovyan root 24141 Nov 19 16:29 07_Built_in_functions.ipynb\n",
      "-rw-rw-rw-  1 jovyan root 15492 Nov 19 16:29 08_Working_with_dates.ipynb\n",
      "-rw-rw-rw-  1 jovyan root 33142 Nov 19 16:29 10_joins.ipynb\n",
      "-rw-rw-rw-  1 jovyan root 15042 Nov 19 16:29 13_RDDs.ipynb\n",
      "drwxrwxrwx+ 2 jovyan root  4096 Nov 19 16:29 \u001b[0m\u001b[34;42m14_Certificate\u001b[0m/\n",
      "-rw-rw-rw-  1 jovyan root 11357 Nov 19 16:29 LICENSE\n",
      "-rw-rw-rw-  1 jovyan root   433 Nov 19 16:29 README.md\n"
     ]
    }
   ],
   "source": [
    "ls -l"
   ]
  },
  {
   "cell_type": "markdown",
   "metadata": {
    "id": "Dd6t0uFzuR4X"
   },
   "source": [
    "## Install Spark"
   ]
  },
  {
   "cell_type": "code",
   "execution_count": 8,
   "metadata": {
    "colab": {
     "base_uri": "https://localhost:8080/",
     "height": 196
    },
    "executionInfo": {
     "elapsed": 277,
     "status": "ok",
     "timestamp": 1655302541441,
     "user": {
      "displayName": "Abdelhak Aswak",
      "userId": "10570477179366674085"
     },
     "user_tz": -60
    },
    "id": "wjfF7LLgHZe3",
    "outputId": "8dbbade7-9c84-4c53-9dd3-48814c8f4b25"
   },
   "outputs": [
    {
     "data": {
      "text/html": [
       "\n",
       "        <div>\n",
       "            <p><b>SparkContext</b></p>\n",
       "\n",
       "            <p><a href=\"http://a65aa566ea42:4040\">Spark UI</a></p>\n",
       "\n",
       "            <dl>\n",
       "              <dt>Version</dt>\n",
       "                <dd><code>v3.5.0</code></dd>\n",
       "              <dt>Master</dt>\n",
       "                <dd><code>local[*]</code></dd>\n",
       "              <dt>AppName</dt>\n",
       "                <dd><code>pyspark-shell</code></dd>\n",
       "            </dl>\n",
       "        </div>\n",
       "        "
      ],
      "text/plain": [
       "<SparkContext master=local[*] appName=pyspark-shell>"
      ]
     },
     "execution_count": 8,
     "metadata": {},
     "output_type": "execute_result"
    }
   ],
   "source": [
    "from pyspark import SparkContext\n",
    "\n",
    "sc = SparkContext.getOrCreate()\n",
    "sc"
   ]
  },
  {
   "cell_type": "code",
   "execution_count": 9,
   "metadata": {
    "colab": {
     "base_uri": "https://localhost:8080/",
     "height": 219
    },
    "executionInfo": {
     "elapsed": 1840,
     "status": "ok",
     "timestamp": 1655299778077,
     "user": {
      "displayName": "Abdelhak Aswak",
      "userId": "10570477179366674085"
     },
     "user_tz": -60
    },
    "id": "Gs7fzvxcHfvw",
    "outputId": "bdc67da8-1cc3-4ace-944d-f2cccc1ea0ac"
   },
   "outputs": [
    {
     "data": {
      "text/html": [
       "\n",
       "            <div>\n",
       "                <p><b>SparkSession - in-memory</b></p>\n",
       "                \n",
       "        <div>\n",
       "            <p><b>SparkContext</b></p>\n",
       "\n",
       "            <p><a href=\"http://a65aa566ea42:4040\">Spark UI</a></p>\n",
       "\n",
       "            <dl>\n",
       "              <dt>Version</dt>\n",
       "                <dd><code>v3.5.0</code></dd>\n",
       "              <dt>Master</dt>\n",
       "                <dd><code>local[*]</code></dd>\n",
       "              <dt>AppName</dt>\n",
       "                <dd><code>pyspark-shell</code></dd>\n",
       "            </dl>\n",
       "        </div>\n",
       "        \n",
       "            </div>\n",
       "        "
      ],
      "text/plain": [
       "<pyspark.sql.session.SparkSession at 0x79da9494d290>"
      ]
     },
     "execution_count": 9,
     "metadata": {},
     "output_type": "execute_result"
    }
   ],
   "source": [
    "import pyspark\n",
    "from pyspark.sql import SparkSession\n",
    "spark = SparkSession.builder.getOrCreate() \n",
    "spark"
   ]
  }
 ],
 "metadata": {
  "colab": {
   "collapsed_sections": [],
   "name": "Lab_environment.ipynb",
   "provenance": []
  },
  "kernelspec": {
   "display_name": "Python 3 (ipykernel)",
   "language": "python",
   "name": "python3"
  },
  "language_info": {
   "codemirror_mode": {
    "name": "ipython",
    "version": 3
   },
   "file_extension": ".py",
   "mimetype": "text/x-python",
   "name": "python",
   "nbconvert_exporter": "python",
   "pygments_lexer": "ipython3",
   "version": "3.11.6"
  },
  "vscode": {
   "interpreter": {
    "hash": "1711be3fcae7d1b35c00f63e9388dc207c8b62d39bb68cb33e8e9e3c4a044a28"
   }
  }
 },
 "nbformat": 4,
 "nbformat_minor": 4
}
