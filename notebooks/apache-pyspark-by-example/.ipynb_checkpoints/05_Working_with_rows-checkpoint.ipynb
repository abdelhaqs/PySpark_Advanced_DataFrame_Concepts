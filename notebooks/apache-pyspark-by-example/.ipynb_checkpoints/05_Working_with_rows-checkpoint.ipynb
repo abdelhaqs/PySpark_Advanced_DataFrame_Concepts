{
 "cells": [
  {
   "cell_type": "markdown",
   "metadata": {
    "id": "8qf-TmnsBgXd"
   },
   "source": [
    "# Working with rows"
   ]
  },
  {
   "cell_type": "markdown",
   "metadata": {
    "id": "Dd6t0uFzuR4X"
   },
   "source": [
    "## Download and install Spark"
   ]
  },
  {
   "cell_type": "markdown",
   "metadata": {
    "id": "0ysUlfFrN5OD"
   },
   "source": [
    "## Downloading and preprocessing Chicago's Reported Crime Data"
   ]
  },
  {
   "cell_type": "code",
   "execution_count": 3,
   "metadata": {},
   "outputs": [],
   "source": [
    "import pyspark\n",
    "from pyspark.sql import SparkSession\n",
    "spark = SparkSession.builder.getOrCreate() "
   ]
  },
  {
   "cell_type": "code",
   "execution_count": 8,
   "metadata": {
    "colab": {
     "base_uri": "https://localhost:8080/"
    },
    "id": "9-1cK0nPNS95",
    "outputId": "586f31fe-4936-452b-b60b-b85fbc57ae4f"
   },
   "outputs": [
    {
     "name": "stdout",
     "output_type": "stream",
     "text": [
      "+--------+-----------+-------------------+--------------------+----+-----------------+--------------------+--------------------+------+--------+----+--------+----+--------------+--------+------------+------------+----+--------------------+------------+-------------+--------------------+\n",
      "|      ID|Case Number|               Date|               Block|IUCR|     Primary Type|         Description|Location Description|Arrest|Domestic|Beat|District|Ward|Community Area|FBI Code|X Coordinate|Y Coordinate|Year|          Updated On|    Latitude|    Longitude|            Location|\n",
      "+--------+-----------+-------------------+--------------------+----+-----------------+--------------------+--------------------+------+--------+----+--------+----+--------------+--------+------------+------------+----+--------------------+------------+-------------+--------------------+\n",
      "|12592454|   JF113025|2022-01-14 15:55:00|   067XX S MORGAN ST|2826|    OTHER OFFENSE|HARASSMENT BY ELE...|           RESIDENCE| false|    true|0724|     007|  16|            68|      26|     1170805|     1860170|2022|09/14/2023 03:41:...|41.771782439|-87.649436929|(41.771782439, -8...|\n",
      "|12785595|   JF346553|2022-08-05 21:00:00|072XX S UNIVERSIT...|1544|      SEX OFFENSE|SEXUAL EXPLOITATI...|           APARTMENT|  true|   false|0324|     003|   5|            69|      17|     1185135|     1857211|2022|09/14/2023 03:41:...|41.763337967|-87.597001131|(41.763337967, -8...|\n",
      "|12808281|   JF373517|2022-08-14 14:00:00| 055XX W ARDMORE AVE|1562|      SEX OFFENSE|AGGRAVATED CRIMIN...|           RESIDENCE| false|   false|1621|     016|  39|            11|      17|     1138383|     1937953|2022|09/14/2023 03:41:...|41.985875279|-87.766403857|(41.985875279, -8...|\n",
      "|12888104|   JF469015|2022-11-10 03:47:00|      072XX S MAY ST|1477|WEAPONS VIOLATION|RECKLESS FIREARM ...|              STREET| false|   false|0733|     007|  17|            68|      15|     1169903|     1856822|2022|09/14/2023 03:41:...| 41.76261474|-87.652840463|(41.76261474, -87...|\n",
      "|13209277|   JG422539|2022-08-15 09:00:00|0000X W JACKSON BLVD|0810|            THEFT|           OVER $500|COMMERCIAL / BUSI...| false|   false|0113|     001|   4|            32|      06|        NULL|        NULL|2022|09/14/2023 03:43:...|        NULL|         NULL|                NULL|\n",
      "+--------+-----------+-------------------+--------------------+----+-----------------+--------------------+--------------------+------+--------+----+--------+----+--------------+--------+------------+------------+----+--------------------+------------+-------------+--------------------+\n",
      "only showing top 5 rows\n",
      "\n"
     ]
    }
   ],
   "source": [
    "from pyspark.sql.functions import to_timestamp,col,lit\n",
    "path =\"../datasets/sparkbyexamples/police-stations.csv\"\n",
    "rc = spark.read.csv(path,header=True)\\\n",
    ".withColumn('Date',to_timestamp(col('Date'),'MM/dd/yyyy hh:mm:ss a'))\\\n",
    ".filter(col('Date') <= lit('2023-11-11'))\n",
    "rc.show(5)"
   ]
  },
  {
   "cell_type": "markdown",
   "metadata": {
    "id": "mI_zYOVpf2yK"
   },
   "source": [
    "## Working with rows"
   ]
  },
  {
   "cell_type": "markdown",
   "metadata": {
    "id": "hgnCWSfNZsLV"
   },
   "source": [
    "**Add the reported crimes for an additional day, 12-Nov-2018, to our dataset.**"
   ]
  },
  {
   "cell_type": "code",
   "execution_count": 13,
   "metadata": {},
   "outputs": [
    {
     "name": "stdout",
     "output_type": "stream",
     "text": [
      "+--------------------+\n",
      "|                Date|\n",
      "+--------------------+\n",
      "|08/05/2022 09:26:...|\n",
      "|01/03/2022 05:00:...|\n",
      "|02/03/2022 02:30:...|\n",
      "|12/27/2022 04:35:...|\n",
      "|11/18/2022 04:00:...|\n",
      "|11/30/2022 09:45:...|\n",
      "|12/27/2022 11:21:...|\n",
      "|07/14/2022 08:52:...|\n",
      "|08/29/2022 12:00:...|\n",
      "|09/02/2022 10:00:...|\n",
      "|03/16/2022 02:00:...|\n",
      "|08/07/2022 06:00:...|\n",
      "|08/09/2022 09:00:...|\n",
      "|09/02/2022 08:15:...|\n",
      "|04/13/2022 12:00:...|\n",
      "|01/29/2022 02:00:...|\n",
      "|03/01/2022 01:15:...|\n",
      "|01/01/2022 02:00:...|\n",
      "|02/08/2022 03:27:...|\n",
      "|02/10/2022 03:50:...|\n",
      "+--------------------+\n",
      "only showing top 20 rows\n",
      "\n"
     ]
    }
   ],
   "source": [
    "rc = spark.read.csv(path,header=True)\n",
    "rc.select(\"Date\").distinct().show()"
   ]
  },
  {
   "cell_type": "code",
   "execution_count": 9,
   "metadata": {
    "colab": {
     "base_uri": "https://localhost:8080/"
    },
    "id": "808f1HzwgDyh",
    "outputId": "66340279-b4bf-4d65-90b2-03b188fe6d6f"
   },
   "outputs": [
    {
     "data": {
      "text/plain": [
       "239602"
      ]
     },
     "execution_count": 9,
     "metadata": {},
     "output_type": "execute_result"
    }
   ],
   "source": [
    "rc.count()"
   ]
  },
  {
   "cell_type": "markdown",
   "metadata": {
    "id": "WvOfJmzhf0kG"
   },
   "source": [
    "**FILTER DAYS 2022-11-12 and 2022-11-13**"
   ]
  },
  {
   "cell_type": "code",
   "execution_count": 17,
   "metadata": {
    "colab": {
     "base_uri": "https://localhost:8080/"
    },
    "id": "PeeOFy5cgDRq",
    "outputId": "9fc1c580-5ecc-4bb3-c5ec-f582ec322853"
   },
   "outputs": [
    {
     "data": {
      "text/plain": [
       "23"
      ]
     },
     "execution_count": 17,
     "metadata": {},
     "output_type": "execute_result"
    }
   ],
   "source": [
    "path =\"../datasets/sparkbyexamples/police-stations.csv\"\n",
    "one_day = spark.read.csv(path,header=True)\\\n",
    ".withColumn('Date',to_timestamp(col('Date'),'MM/dd/yyyy hh:mm:ss a'))\\\n",
    ".filter(col('Date') == lit('2022-11-12'))\n",
    "one_day.count()"
   ]
  },
  {
   "cell_type": "code",
   "execution_count": 18,
   "metadata": {
    "colab": {
     "base_uri": "https://localhost:8080/"
    },
    "id": "426sMiGuyTcU",
    "outputId": "0e7a8137-6153-4076-977c-244e3faea992"
   },
   "outputs": [
    {
     "data": {
      "text/plain": [
       "31"
      ]
     },
     "execution_count": 18,
     "metadata": {},
     "output_type": "execute_result"
    }
   ],
   "source": [
    "path =\"../datasets/sparkbyexamples/police-stations.csv\"\n",
    "one_day2 = spark.read.csv(path,header=True)\\\n",
    ".withColumn('Date',to_timestamp(col('Date'),'MM/dd/yyyy hh:mm:ss a'))\\\n",
    ".filter(col('Date') == lit('2022-11-13'))\n",
    "one_day2.count()"
   ]
  },
  {
   "cell_type": "markdown",
   "metadata": {
    "id": "dBrMcURVzyGN"
   },
   "source": [
    "**UNION : APPEND ROWS**"
   ]
  },
  {
   "cell_type": "code",
   "execution_count": 19,
   "metadata": {
    "colab": {
     "base_uri": "https://localhost:8080/"
    },
    "id": "qLS_NEpEgDBJ",
    "outputId": "5404f56b-d710-497b-bb99-1ca714e530b2"
   },
   "outputs": [
    {
     "data": {
      "text/plain": [
       "54"
      ]
     },
     "execution_count": 19,
     "metadata": {},
     "output_type": "execute_result"
    }
   ],
   "source": [
    "one_day.union(one_day2).orderBy('Date', ascending=False).count()"
   ]
  },
  {
   "cell_type": "code",
   "execution_count": null,
   "metadata": {
    "id": "T6w6-fN9gG_7"
   },
   "outputs": [],
   "source": []
  },
  {
   "cell_type": "markdown",
   "metadata": {
    "id": "bp8co-36ykT0"
   },
   "source": [
    "**COUNT and GROUP BY**"
   ]
  },
  {
   "cell_type": "code",
   "execution_count": 14,
   "metadata": {
    "colab": {
     "base_uri": "https://localhost:8080/"
    },
    "id": "JkUF4yJFgG25",
    "outputId": "b4c323cb-6450-4f86-d295-2a65ad15ea93"
   },
   "outputs": [
    {
     "name": "stdout",
     "output_type": "stream",
     "text": [
      "+--------------------+-------+\n",
      "|        Primary Type|  count|\n",
      "+--------------------+-------+\n",
      "|OFFENSE INVOLVING...|  46437|\n",
      "|CRIMINAL SEXUAL A...|   1081|\n",
      "|            STALKING|   3388|\n",
      "|PUBLIC PEACE VIOL...|  47785|\n",
      "|           OBSCENITY|    585|\n",
      "|NON-CRIMINAL (SUB...|      9|\n",
      "|               ARSON|  11158|\n",
      "|   DOMESTIC VIOLENCE|      1|\n",
      "|            GAMBLING|  14422|\n",
      "|   CRIMINAL TRESPASS| 193371|\n",
      "|             ASSAULT| 418517|\n",
      "|      NON - CRIMINAL|     38|\n",
      "|LIQUOR LAW VIOLATION|  14068|\n",
      "| MOTOR VEHICLE THEFT| 314131|\n",
      "|               THEFT|1418481|\n",
      "|             BATTERY|1232265|\n",
      "|             ROBBERY| 255600|\n",
      "|            HOMICIDE|   9478|\n",
      "|           RITUALISM|     23|\n",
      "|    PUBLIC INDECENCY|    161|\n",
      "+--------------------+-------+\n",
      "only showing top 20 rows\n",
      "\n"
     ]
    }
   ],
   "source": [
    "rc.groupBy('Primary Type').count().show()"
   ]
  },
  {
   "cell_type": "markdown",
   "metadata": {
    "id": "T2bnJHrGxT_1"
   },
   "source": [
    "**What are the top 10 number of reported crimes by Primary type, in descending order of occurence?**"
   ]
  },
  {
   "cell_type": "code",
   "execution_count": 16,
   "metadata": {
    "colab": {
     "base_uri": "https://localhost:8080/"
    },
    "id": "o3IB6VxLgGYi",
    "outputId": "834315ff-e281-4c7b-99dd-9e05524a9a21"
   },
   "outputs": [
    {
     "name": "stdout",
     "output_type": "stream",
     "text": [
      "+-------------------+-------+\n",
      "|       Primary Type|  count|\n",
      "+-------------------+-------+\n",
      "|              THEFT|1418481|\n",
      "|            BATTERY|1232265|\n",
      "|    CRIMINAL DAMAGE| 771507|\n",
      "|          NARCOTICS| 711758|\n",
      "|      OTHER OFFENSE| 418890|\n",
      "|            ASSAULT| 418517|\n",
      "|           BURGLARY| 388040|\n",
      "|MOTOR VEHICLE THEFT| 314131|\n",
      "| DECEPTIVE PRACTICE| 266781|\n",
      "|            ROBBERY| 255600|\n",
      "+-------------------+-------+\n",
      "only showing top 10 rows\n",
      "\n"
     ]
    }
   ],
   "source": [
    "rc.groupBy('Primary Type').count().orderBy('count', ascending=False).show(10)"
   ]
  },
  {
   "cell_type": "code",
   "execution_count": null,
   "metadata": {
    "id": "3HBJev2Ctdbo"
   },
   "outputs": [],
   "source": []
  }
 ],
 "metadata": {
  "colab": {
   "name": "Working_with_rows.ipynb",
   "provenance": []
  },
  "kernelspec": {
   "display_name": "Python 3 (ipykernel)",
   "language": "python",
   "name": "python3"
  },
  "language_info": {
   "codemirror_mode": {
    "name": "ipython",
    "version": 3
   },
   "file_extension": ".py",
   "mimetype": "text/x-python",
   "name": "python",
   "nbconvert_exporter": "python",
   "pygments_lexer": "ipython3",
   "version": "3.11.6"
  }
 },
 "nbformat": 4,
 "nbformat_minor": 4
}
