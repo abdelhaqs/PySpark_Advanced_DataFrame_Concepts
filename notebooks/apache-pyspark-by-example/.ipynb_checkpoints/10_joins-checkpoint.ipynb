{
 "cells": [
  {
   "cell_type": "markdown",
   "metadata": {
    "id": "8qf-TmnsBgXd"
   },
   "source": [
    "# Working with joins"
   ]
  },
  {
   "cell_type": "markdown",
   "metadata": {
    "id": "Dd6t0uFzuR4X"
   },
   "source": [
    "## Download and install Spark"
   ]
  },
  {
   "cell_type": "code",
   "execution_count": 1,
   "metadata": {},
   "outputs": [],
   "source": [
    "from pyspark.sql import SparkSession\n",
    "spark = SparkSession.builder.getOrCreate() "
   ]
  },
  {
   "cell_type": "code",
   "execution_count": 2,
   "metadata": {
    "colab": {
     "base_uri": "https://localhost:8080/"
    },
    "id": "9-1cK0nPNS95",
    "outputId": "fc9a64f8-e54b-44e6-d506-2442377398c9"
   },
   "outputs": [
    {
     "name": "stdout",
     "output_type": "stream",
     "text": [
      "+--------+-----------+-------------------+--------------------+----+-----------------+--------------------+--------------------+------+--------+----+--------+----+--------------+--------+------------+------------+----+--------------------+------------+-------------+--------------------+\n",
      "|      ID|Case Number|               Date|               Block|IUCR|     Primary Type|         Description|Location Description|Arrest|Domestic|Beat|District|Ward|Community Area|FBI Code|X Coordinate|Y Coordinate|Year|          Updated On|    Latitude|    Longitude|            Location|\n",
      "+--------+-----------+-------------------+--------------------+----+-----------------+--------------------+--------------------+------+--------+----+--------+----+--------------+--------+------------+------------+----+--------------------+------------+-------------+--------------------+\n",
      "|12592454|   JF113025|2022-01-14 15:55:00|   067XX S MORGAN ST|2826|    OTHER OFFENSE|HARASSMENT BY ELE...|           RESIDENCE| false|    true|0724|     007|  16|            68|      26|     1170805|     1860170|2022|09/14/2023 03:41:...|41.771782439|-87.649436929|(41.771782439, -8...|\n",
      "|12785595|   JF346553|2022-08-05 21:00:00|072XX S UNIVERSIT...|1544|      SEX OFFENSE|SEXUAL EXPLOITATI...|           APARTMENT|  true|   false|0324|     003|   5|            69|      17|     1185135|     1857211|2022|09/14/2023 03:41:...|41.763337967|-87.597001131|(41.763337967, -8...|\n",
      "|12808281|   JF373517|2022-08-14 14:00:00| 055XX W ARDMORE AVE|1562|      SEX OFFENSE|AGGRAVATED CRIMIN...|           RESIDENCE| false|   false|1621|     016|  39|            11|      17|     1138383|     1937953|2022|09/14/2023 03:41:...|41.985875279|-87.766403857|(41.985875279, -8...|\n",
      "|12888104|   JF469015|2022-11-10 03:47:00|      072XX S MAY ST|1477|WEAPONS VIOLATION|RECKLESS FIREARM ...|              STREET| false|   false|0733|     007|  17|            68|      15|     1169903|     1856822|2022|09/14/2023 03:41:...| 41.76261474|-87.652840463|(41.76261474, -87...|\n",
      "|13209277|   JG422539|2022-08-15 09:00:00|0000X W JACKSON BLVD|0810|            THEFT|           OVER $500|COMMERCIAL / BUSI...| false|   false|0113|     001|   4|            32|      06|        NULL|        NULL|2022|09/14/2023 03:43:...|        NULL|         NULL|                NULL|\n",
      "+--------+-----------+-------------------+--------------------+----+-----------------+--------------------+--------------------+------+--------+----+--------+----+--------------+--------+------------+------------+----+--------------------+------------+-------------+--------------------+\n",
      "only showing top 5 rows\n",
      "\n"
     ]
    }
   ],
   "source": [
    "from pyspark.sql.functions import to_timestamp,col,lit\n",
    "crimes_path =\"../datasets/sparkbyexamples/reported-crimes.csv\"\n",
    "rc = spark.read.csv(crimes_path,header=True)\\\n",
    ".withColumn('Date',to_timestamp(col('Date'),'MM/dd/yyyy hh:mm:ss a'))\\\n",
    ".filter(col('Date') <= lit('2023-11-11'))\n",
    "rc.show(5)"
   ]
  },
  {
   "cell_type": "markdown",
   "metadata": {
    "id": "mI_zYOVpf2yK"
   },
   "source": [
    "## Joins"
   ]
  },
  {
   "cell_type": "markdown",
   "metadata": {
    "id": "5klVM9jJZBDl"
   },
   "source": [
    "**Download police station data**"
   ]
  },
  {
   "cell_type": "code",
   "execution_count": 3,
   "metadata": {
    "colab": {
     "base_uri": "https://localhost:8080/"
    },
    "id": "808f1HzwgDyh",
    "outputId": "259be4ef-1662-4f6a-ca69-d31ff41b5249"
   },
   "outputs": [
    {
     "name": "stdout",
     "output_type": "stream",
     "text": [
      "--2024-12-05 10:31:33--  https://data.cityofchicago.org/api/views/z8bn-74gv/rows.csv?accessType=DOWNLOAD\n",
      "Resolving data.cityofchicago.org (data.cityofchicago.org)... 35.170.133.124, 100.28.82.57, 174.129.43.10\n",
      "Connecting to data.cityofchicago.org (data.cityofchicago.org)|35.170.133.124|:443... connected.\n",
      "HTTP request sent, awaiting response... 200 OK\n",
      "Length: unspecified [text/csv]\n",
      "Saving to: ‘police-stations.csv’\n",
      "\n",
      "police-stations.csv     [ <=>                ]   5.57K  --.-KB/s    in 0s      \n",
      "\n",
      "2024-12-05 10:31:34 (2.00 GB/s) - ‘police-stations.csv’ saved [5699]\n",
      "\n"
     ]
    }
   ],
   "source": [
    "!wget -O police-stations.csv https://data.cityofchicago.org/api/views/z8bn-74gv/rows.csv?accessType=DOWNLOAD\n",
    "!mv police-stations.csv ../datasets/sparkbyexamples/\n",
    "stations_path =\"../datasets/sparkbyexamples/police-stations.csv\""
   ]
  },
  {
   "cell_type": "code",
   "execution_count": 4,
   "metadata": {},
   "outputs": [
    {
     "name": "stdout",
     "output_type": "stream",
     "text": [
      "total 63076\n",
      "-rw-rw-rw- 1 jovyan root    143130 Dec  5 09:23 appl_stock.csv\n",
      "-rw-rw-rw- 1 jovyan root    884736 Dec  5 09:23 chinook.db\n",
      "-rw-rw-rw- 1 jovyan root    305596 Dec  5 09:23 chinook.zip\n",
      "-rw-rw-rw- 1 jovyan root        73 Dec  5 09:23 people.json\n",
      "-rw-rw-rw- 1 jovyan users     5699 Aug 19  2019 police-stations.csv\n",
      "-rw-rw-rw- 1 jovyan users 57191790 Dec  4 11:59 reported-crimes.csv\n",
      "-rw-rw-rw- 1 jovyan root       196 Dec  5 09:23 sales_info.csv\n",
      "-rw-rw-rw- 1 jovyan root   6043326 Dec  5 09:23 sqlite_latest.jar\n"
     ]
    }
   ],
   "source": [
    "!ls -l ../datasets/sparkbyexamples/"
   ]
  },
  {
   "cell_type": "code",
   "execution_count": 5,
   "metadata": {
    "colab": {
     "base_uri": "https://localhost:8080/"
    },
    "id": "qLS_NEpEgDBJ",
    "outputId": "982b14e2-e4bd-45cb-d931-e48773f09789"
   },
   "outputs": [
    {
     "name": "stdout",
     "output_type": "stream",
     "text": [
      "+------------+-------------+-------------------+-------+-----+-----+--------------------+------------+------------+------------+------------+------------+-----------+------------+--------------------+\n",
      "|    DISTRICT|DISTRICT NAME|            ADDRESS|   CITY|STATE|  ZIP|             WEBSITE|       PHONE|         FAX|         TTY|X COORDINATE|Y COORDINATE|   LATITUDE|   LONGITUDE|            LOCATION|\n",
      "+------------+-------------+-------------------+-------+-----+-----+--------------------+------------+------------+------------+------------+------------+-----------+------------+--------------------+\n",
      "|Headquarters| Headquarters|3510 S Michigan Ave|Chicago|   IL|60653|http://home.chica...|        NULL|        NULL|        NULL| 1177731.401| 1881697.404|41.83070169|-87.62339535|(41.8307016873, -...|\n",
      "|          18|   Near North| 1160 N Larrabee St|Chicago|   IL|60610|http://home.chica...|312-742-5870|312-742-5771|312-742-5773| 1172080.029| 1908086.527|41.90324165|-87.64335214|(41.9032416531, -...|\n",
      "|          19|    Town Hall|   850 W Addison St|Chicago|   IL|60613|http://home.chica...|312-744-8320|312-744-4481|312-744-8011| 1169730.744| 1924160.317|41.94740046|-87.65151202|(41.9474004564, -...|\n",
      "|          20|      Lincoln| 5400 N Lincoln Ave|Chicago|   IL|60625|http://home.chica...|312-742-8714|312-742-8803|312-742-8841| 1158399.146| 1935788.826|41.97954951|-87.69284451|(41.9795495131, -...|\n",
      "|          22|  Morgan Park|1900 W Monterey Ave|Chicago|   IL|60643|http://home.chica...|312-745-0710|312-745-0814|312-745-0569| 1165825.476| 1830851.333|41.69143478|-87.66852039|(41.6914347795, -...|\n",
      "+------------+-------------+-------------------+-------+-----+-----+--------------------+------------+------------+------------+------------+------------+-----------+------------+--------------------+\n",
      "only showing top 5 rows\n",
      "\n"
     ]
    }
   ],
   "source": [
    "ps = spark.read.csv(stations_path,header=True)\n",
    "ps.show(5)"
   ]
  },
  {
   "cell_type": "markdown",
   "metadata": {
    "id": "CdBqB9Oiw0gV"
   },
   "source": [
    "**The reported crimes dataset has only the district number. Add the district name by joining with the police station dataset**"
   ]
  },
  {
   "cell_type": "code",
   "execution_count": 6,
   "metadata": {
    "colab": {
     "base_uri": "https://localhost:8080/"
    },
    "id": "3HBJev2Ctdbo",
    "outputId": "c8c02eae-4279-4db5-f914-0faf04542bd1"
   },
   "outputs": [
    {
     "data": {
      "text/plain": [
       "239618"
      ]
     },
     "execution_count": 6,
     "metadata": {},
     "output_type": "execute_result"
    }
   ],
   "source": [
    "rc.cache()\n",
    "rc.count()"
   ]
  },
  {
   "cell_type": "code",
   "execution_count": 7,
   "metadata": {
    "colab": {
     "base_uri": "https://localhost:8080/"
    },
    "id": "GP90Bm-lc52-",
    "outputId": "01d201b3-cc36-4002-f3bb-be37ee03a886"
   },
   "outputs": [
    {
     "name": "stdout",
     "output_type": "stream",
     "text": [
      "+--------+\n",
      "|DISTRICT|\n",
      "+--------+\n",
      "|       7|\n",
      "|      15|\n",
      "|      11|\n",
      "|       3|\n",
      "|       8|\n",
      "|      22|\n",
      "|      16|\n",
      "+--------+\n",
      "only showing top 7 rows\n",
      "\n"
     ]
    }
   ],
   "source": [
    "ps.select( col('DISTRICT')).distinct().show(7)"
   ]
  },
  {
   "cell_type": "code",
   "execution_count": 8,
   "metadata": {
    "colab": {
     "base_uri": "https://localhost:8080/"
    },
    "id": "zbdoVA6Gc6mG",
    "outputId": "d967ef68-3711-47fc-d784-4d9463d03b0c"
   },
   "outputs": [
    {
     "name": "stdout",
     "output_type": "stream",
     "text": [
      "+--------+\n",
      "|district|\n",
      "+--------+\n",
      "|     009|\n",
      "|     012|\n",
      "|      16|\n",
      "|     024|\n",
      "|     031|\n",
      "|     015|\n",
      "|     006|\n",
      "|     019|\n",
      "|     020|\n",
      "|     011|\n",
      "+--------+\n",
      "only showing top 10 rows\n",
      "\n"
     ]
    }
   ],
   "source": [
    "rc.select( col('district')).distinct().show(10)"
   ]
  },
  {
   "cell_type": "code",
   "execution_count": 9,
   "metadata": {
    "id": "V06UpJ4Tc7oJ"
   },
   "outputs": [],
   "source": [
    "from pyspark.sql.functions import lpad"
   ]
  },
  {
   "cell_type": "code",
   "execution_count": 10,
   "metadata": {
    "colab": {
     "base_uri": "https://localhost:8080/"
    },
    "id": "S_YiRfSgc7em",
    "outputId": "93eb16db-da63-4f32-d5f1-20c741016061"
   },
   "outputs": [
    {
     "name": "stdout",
     "output_type": "stream",
     "text": [
      "+--------------------+\n",
      "|lpad(DISTRICT, 3, 0)|\n",
      "+--------------------+\n",
      "|                 Hea|\n",
      "|                 018|\n",
      "|                 019|\n",
      "|                 020|\n",
      "|                 022|\n",
      "|                 024|\n",
      "|                 025|\n",
      "|                 001|\n",
      "|                 002|\n",
      "|                 003|\n",
      "+--------------------+\n",
      "only showing top 10 rows\n",
      "\n"
     ]
    }
   ],
   "source": [
    "ps.select( lpad(col('DISTRICT'),3, '0')).show(10)"
   ]
  },
  {
   "cell_type": "code",
   "execution_count": 11,
   "metadata": {
    "colab": {
     "base_uri": "https://localhost:8080/"
    },
    "id": "nWQMpWQec7SO",
    "outputId": "129cad54-563b-47f9-e7af-05031a8bf7fb"
   },
   "outputs": [
    {
     "name": "stdout",
     "output_type": "stream",
     "text": [
      "+------------+-----------------+\n",
      "|    district|Formated_district|\n",
      "+------------+-----------------+\n",
      "|Headquarters|              Hea|\n",
      "|          18|              018|\n",
      "|          19|              019|\n",
      "|          20|              020|\n",
      "|          22|              022|\n",
      "+------------+-----------------+\n",
      "only showing top 5 rows\n",
      "\n"
     ]
    }
   ],
   "source": [
    "ps = ps.withColumn('Formated_district', lpad(col('DISTRICT'),3, '0'))\n",
    "ps.select('district', 'Formated_district').show(5)"
   ]
  },
  {
   "cell_type": "code",
   "execution_count": 12,
   "metadata": {
    "colab": {
     "base_uri": "https://localhost:8080/"
    },
    "id": "n4eBu-vMc6bN",
    "outputId": "c62eb1af-2eb8-4f6a-909b-229cbef45108"
   },
   "outputs": [
    {
     "name": "stdout",
     "output_type": "stream",
     "text": [
      "+--------+-----------+-------------------+--------------------+----+-----------------+--------------------+--------------------+------+--------+----+--------+----+--------------+--------+------------+------------+----+--------------------+------------+-------------+--------------------+--------+--------------+--------------------+-------+-----+-----+--------------------+------------+------------+------------+------------+------------+-----------+------------+--------------------+-----------------+\n",
      "|      ID|Case Number|               Date|               Block|IUCR|     Primary Type|         Description|Location Description|Arrest|Domestic|Beat|District|Ward|Community Area|FBI Code|X Coordinate|Y Coordinate|Year|          Updated On|    Latitude|    Longitude|            Location|DISTRICT| DISTRICT NAME|             ADDRESS|   CITY|STATE|  ZIP|             WEBSITE|       PHONE|         FAX|         TTY|X COORDINATE|Y COORDINATE|   LATITUDE|   LONGITUDE|            LOCATION|Formated_district|\n",
      "+--------+-----------+-------------------+--------------------+----+-----------------+--------------------+--------------------+------+--------+----+--------+----+--------------+--------+------------+------------+----+--------------------+------------+-------------+--------------------+--------+--------------+--------------------+-------+-----+-----+--------------------+------------+------------+------------+------------+------------+-----------+------------+--------------------+-----------------+\n",
      "|12592454|   JF113025|2022-01-14 15:55:00|   067XX S MORGAN ST|2826|    OTHER OFFENSE|HARASSMENT BY ELE...|           RESIDENCE| false|    true|0724|     007|  16|            68|      26|     1170805|     1860170|2022|09/14/2023 03:41:...|41.771782439|-87.649436929|(41.771782439, -8...|       7|     Englewood|      1438 W 63rd St|Chicago|   IL|60636|http://home.chica...|312-747-8223|312-747-6558|312-747-6652| 1167659.235| 1863005.522|41.77963154|-87.66088702|(41.7796315359, -...|              007|\n",
      "|12785595|   JF346553|2022-08-05 21:00:00|072XX S UNIVERSIT...|1544|      SEX OFFENSE|SEXUAL EXPLOITATI...|           APARTMENT|  true|   false|0324|     003|   5|            69|      17|     1185135|     1857211|2022|09/14/2023 03:41:...|41.763337967|-87.597001131|(41.763337967, -8...|       3|Grand Crossing|7040 S Cottage Gr...|Chicago|   IL|60637|http://home.chica...|312-747-8201|312-747-5479|312-747-9168| 1182739.183| 1858317.732|41.76643089|-87.60574786|(41.7664308925, -...|              003|\n",
      "|12808281|   JF373517|2022-08-14 14:00:00| 055XX W ARDMORE AVE|1562|      SEX OFFENSE|AGGRAVATED CRIMIN...|           RESIDENCE| false|   false|1621|     016|  39|            11|      17|     1138383|     1937953|2022|09/14/2023 03:41:...|41.985875279|-87.766403857|(41.985875279, -8...|      16|Jefferson Park|5151 N Milwaukee Ave|Chicago|   IL|60630|http://home.chica...|312-742-4480|312-742-4421|312-742-4423| 1138480.758| 1933660.473|41.97409445|-87.76614884|(41.9740944511, -...|              016|\n",
      "|12888104|   JF469015|2022-11-10 03:47:00|      072XX S MAY ST|1477|WEAPONS VIOLATION|RECKLESS FIREARM ...|              STREET| false|   false|0733|     007|  17|            68|      15|     1169903|     1856822|2022|09/14/2023 03:41:...| 41.76261474|-87.652840463|(41.76261474, -87...|       7|     Englewood|      1438 W 63rd St|Chicago|   IL|60636|http://home.chica...|312-747-8223|312-747-6558|312-747-6652| 1167659.235| 1863005.522|41.77963154|-87.66088702|(41.7796315359, -...|              007|\n",
      "|13209277|   JG422539|2022-08-15 09:00:00|0000X W JACKSON BLVD|0810|            THEFT|           OVER $500|COMMERCIAL / BUSI...| false|   false|0113|     001|   4|            32|      06|        NULL|        NULL|2022|09/14/2023 03:43:...|        NULL|         NULL|                NULL|       1|       Central|     1718 S State St|Chicago|   IL|60616|http://home.chica...|312-745-4290|312-745-3694|312-745-3693| 1176569.052| 1891771.704|41.85837259|-87.62735617|(41.8583725929, -...|              001|\n",
      "+--------+-----------+-------------------+--------------------+----+-----------------+--------------------+--------------------+------+--------+----+--------+----+--------------+--------+------------+------------+----+--------------------+------------+-------------+--------------------+--------+--------------+--------------------+-------+-----+-----+--------------------+------------+------------+------------+------------+------------+-----------+------------+--------------------+-----------------+\n",
      "only showing top 5 rows\n",
      "\n"
     ]
    }
   ],
   "source": [
    "rc.join(ps, rc.District == ps.Formated_district , 'left_outer').show(5)"
   ]
  },
  {
   "cell_type": "code",
   "execution_count": 28,
   "metadata": {
    "colab": {
     "base_uri": "https://localhost:8080/"
    },
    "id": "8CR9XUeCc6Tn",
    "outputId": "f33e3996-5924-400a-e5d8-b6fdb8b1e0b7"
   },
   "outputs": [
    {
     "data": {
      "text/plain": [
       "['DISTRICT',\n",
       " 'DISTRICT NAME',\n",
       " 'ADDRESS',\n",
       " 'CITY',\n",
       " 'STATE',\n",
       " 'ZIP',\n",
       " 'WEBSITE',\n",
       " 'PHONE',\n",
       " 'FAX',\n",
       " 'TTY',\n",
       " 'X COORDINATE',\n",
       " 'Y COORDINATE',\n",
       " 'LATITUDE',\n",
       " 'LONGITUDE',\n",
       " 'LOCATION',\n",
       " 'Formated_district']"
      ]
     },
     "execution_count": 28,
     "metadata": {},
     "output_type": "execute_result"
    }
   ],
   "source": [
    "ps.columns"
   ]
  },
  {
   "cell_type": "code",
   "execution_count": 13,
   "metadata": {
    "colab": {
     "base_uri": "https://localhost:8080/"
    },
    "id": "PxL3DKpPc6KG",
    "outputId": "97d5da2a-c448-48cb-9ec8-59954976d3b2"
   },
   "outputs": [
    {
     "name": "stdout",
     "output_type": "stream",
     "text": [
      "+--------+-----------+-------------------+--------------------+----+-----------------+--------------------+--------------------+------+--------+----+--------+----+--------------+--------+----+--------------------+--------+--------------+\n",
      "|      ID|Case Number|               Date|               Block|IUCR|     Primary Type|         Description|Location Description|Arrest|Domestic|Beat|District|Ward|Community Area|FBI Code|Year|          Updated On|DISTRICT| DISTRICT NAME|\n",
      "+--------+-----------+-------------------+--------------------+----+-----------------+--------------------+--------------------+------+--------+----+--------+----+--------------+--------+----+--------------------+--------+--------------+\n",
      "|12592454|   JF113025|2022-01-14 15:55:00|   067XX S MORGAN ST|2826|    OTHER OFFENSE|HARASSMENT BY ELE...|           RESIDENCE| false|    true|0724|     007|  16|            68|      26|2022|09/14/2023 03:41:...|       7|     Englewood|\n",
      "|12785595|   JF346553|2022-08-05 21:00:00|072XX S UNIVERSIT...|1544|      SEX OFFENSE|SEXUAL EXPLOITATI...|           APARTMENT|  true|   false|0324|     003|   5|            69|      17|2022|09/14/2023 03:41:...|       3|Grand Crossing|\n",
      "|12808281|   JF373517|2022-08-14 14:00:00| 055XX W ARDMORE AVE|1562|      SEX OFFENSE|AGGRAVATED CRIMIN...|           RESIDENCE| false|   false|1621|     016|  39|            11|      17|2022|09/14/2023 03:41:...|      16|Jefferson Park|\n",
      "|12888104|   JF469015|2022-11-10 03:47:00|      072XX S MAY ST|1477|WEAPONS VIOLATION|RECKLESS FIREARM ...|              STREET| false|   false|0733|     007|  17|            68|      15|2022|09/14/2023 03:41:...|       7|     Englewood|\n",
      "|13209277|   JG422539|2022-08-15 09:00:00|0000X W JACKSON BLVD|0810|            THEFT|           OVER $500|COMMERCIAL / BUSI...| false|   false|0113|     001|   4|            32|      06|2022|09/14/2023 03:43:...|       1|       Central|\n",
      "+--------+-----------+-------------------+--------------------+----+-----------------+--------------------+--------------------+------+--------+----+--------+----+--------------+--------+----+--------------------+--------+--------------+\n",
      "only showing top 5 rows\n",
      "\n"
     ]
    }
   ],
   "source": [
    "rc.join(ps, rc.District == ps.Formated_district , 'left_outer').drop(\n",
    " 'ADDRESS',\n",
    " 'CITY',\n",
    " 'STATE',\n",
    " 'ZIP',\n",
    " 'WEBSITE',\n",
    " 'PHONE',\n",
    " 'FAX',\n",
    " 'TTY',\n",
    " 'X COORDINATE',\n",
    " 'Y COORDINATE',\n",
    " 'LATITUDE',\n",
    " 'LONGITUDE',\n",
    " 'LOCATION',\n",
    " 'Formated_district'\n",
    ").show(5)"
   ]
  }
 ],
 "metadata": {
  "colab": {
   "name": "joins.ipynb",
   "provenance": []
  },
  "kernelspec": {
   "display_name": "Python 3 (ipykernel)",
   "language": "python",
   "name": "python3"
  },
  "language_info": {
   "codemirror_mode": {
    "name": "ipython",
    "version": 3
   },
   "file_extension": ".py",
   "mimetype": "text/x-python",
   "name": "python",
   "nbconvert_exporter": "python",
   "pygments_lexer": "ipython3",
   "version": "3.11.6"
  }
 },
 "nbformat": 4,
 "nbformat_minor": 4
}
