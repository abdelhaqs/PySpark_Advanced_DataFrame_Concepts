{
 "cells": [
  {
   "cell_type": "markdown",
   "id": "43e127ce-f1e4-4b0f-8381-ea0dedf26790",
   "metadata": {},
   "source": [
    "6. what is data skew in pyspark | pyspark interview questions & answers | databricks interview q & a\r\n",
    "https://www.youtube.com/watch?v=-ZzfP0HxVDA"
   ]
  },
  {
   "cell_type": "code",
   "execution_count": 1,
   "id": "721ddd7a-ea54-4157-82e2-7ca7e687ea2f",
   "metadata": {},
   "outputs": [],
   "source": [
    "import pyspark\n",
    "from pyspark.sql import SparkSession\n",
    "spark = SparkSession.builder.getOrCreate() "
   ]
  },
  {
   "cell_type": "code",
   "execution_count": 4,
   "id": "064d8b06-893b-4774-afe0-6f109f83f2af",
   "metadata": {},
   "outputs": [],
   "source": [
    "from pyspark.sql.functions import to_timestamp,col,lit\n",
    "path =\"../datasets/sparkbyexamples/reported-crimes.csv\""
   ]
  },
  {
   "cell_type": "code",
   "execution_count": 5,
   "id": "b3aa758f-fb0b-4be6-b171-c9499b84f57a",
   "metadata": {
    "scrolled": true
   },
   "outputs": [
    {
     "name": "stdout",
     "output_type": "stream",
     "text": [
      "root\n",
      " |-- ID: string (nullable = true)\n",
      " |-- Case Number: string (nullable = true)\n",
      " |-- Date: string (nullable = true)\n",
      " |-- Block: string (nullable = true)\n",
      " |-- IUCR: string (nullable = true)\n",
      " |-- Primary Type: string (nullable = true)\n",
      " |-- Description: string (nullable = true)\n",
      " |-- Location Description: string (nullable = true)\n",
      " |-- Arrest: string (nullable = true)\n",
      " |-- Domestic: string (nullable = true)\n",
      " |-- Beat: string (nullable = true)\n",
      " |-- District: string (nullable = true)\n",
      " |-- Ward: string (nullable = true)\n",
      " |-- Community Area: string (nullable = true)\n",
      " |-- FBI Code: string (nullable = true)\n",
      " |-- X Coordinate: string (nullable = true)\n",
      " |-- Y Coordinate: string (nullable = true)\n",
      " |-- Year: string (nullable = true)\n",
      " |-- Updated On: string (nullable = true)\n",
      " |-- Latitude: string (nullable = true)\n",
      " |-- Longitude: string (nullable = true)\n",
      " |-- Location: string (nullable = true)\n",
      "\n"
     ]
    }
   ],
   "source": [
    "rc = spark.read.csv(path,header=True)\n",
    "rc.printSchema()"
   ]
  },
  {
   "cell_type": "code",
   "execution_count": 8,
   "id": "8ddd568a-666c-4167-bfb3-814663d84089",
   "metadata": {},
   "outputs": [
    {
     "data": {
      "text/plain": [
       "4"
      ]
     },
     "execution_count": 8,
     "metadata": {},
     "output_type": "execute_result"
    }
   ],
   "source": [
    "rc.rdd.getNumPartitions()"
   ]
  },
  {
   "cell_type": "code",
   "execution_count": 11,
   "id": "9463a06d-54c0-47ef-8c0e-e7270647c116",
   "metadata": {},
   "outputs": [],
   "source": [
    "rc=rc.repartition(10)"
   ]
  },
  {
   "cell_type": "code",
   "execution_count": 12,
   "id": "b9da86ac-55e5-4815-8984-fe5fbbb8323c",
   "metadata": {},
   "outputs": [
    {
     "data": {
      "text/plain": [
       "10"
      ]
     },
     "execution_count": 12,
     "metadata": {},
     "output_type": "execute_result"
    }
   ],
   "source": [
    "rc.rdd.getNumPartitions()"
   ]
  },
  {
   "cell_type": "markdown",
   "id": "7897bd1d-a7be-4f11-8c1e-c308a8168d90",
   "metadata": {},
   "source": [
    "from pyspark.sql.functions import spark_partition_id\n",
    "\n",
    "rc1 = rc.select(spark_partition_id().alias('partID')).groupBy('partID').count()\n",
    "rc1.show()"
   ]
  },
  {
   "cell_type": "code",
   "execution_count": null,
   "id": "79b22601-cb09-461c-8d3a-a4facf3fd1a5",
   "metadata": {},
   "outputs": [],
   "source": []
  }
 ],
 "metadata": {
  "kernelspec": {
   "display_name": "Python 3 (ipykernel)",
   "language": "python",
   "name": "python3"
  },
  "language_info": {
   "codemirror_mode": {
    "name": "ipython",
    "version": 3
   },
   "file_extension": ".py",
   "mimetype": "text/x-python",
   "name": "python",
   "nbconvert_exporter": "python",
   "pygments_lexer": "ipython3",
   "version": "3.11.6"
  }
 },
 "nbformat": 4,
 "nbformat_minor": 5
}
