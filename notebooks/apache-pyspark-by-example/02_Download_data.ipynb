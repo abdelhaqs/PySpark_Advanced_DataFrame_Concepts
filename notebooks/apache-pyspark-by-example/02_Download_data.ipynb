{
 "cells": [
  {
   "cell_type": "markdown",
   "metadata": {
    "id": "8qf-TmnsBgXd"
   },
   "source": [
    "# Download Chicago's Reported Crime Data"
   ]
  },
  {
   "cell_type": "code",
   "execution_count": 1,
   "metadata": {
    "colab": {
     "base_uri": "https://localhost:8080/"
    },
    "executionInfo": {
     "elapsed": 586,
     "status": "ok",
     "timestamp": 1655322017984,
     "user": {
      "displayName": "Abdelhak Aswak",
      "userId": "10570477179366674085"
     },
     "user_tz": -60
    },
    "id": "zToS5PqxBXpK",
    "outputId": "8ac15f02-b00a-4a1d-ebb0-e0986b7368cb"
   },
   "outputs": [
    {
     "name": "stdout",
     "output_type": "stream",
     "text": [
      "--2024-11-21 20:22:44--  https://data.cityofchicago.org/api/views/z8bn-74gv/rows.csv?accessType=DOWNLOAD\n",
      "Resolving data.cityofchicago.org (data.cityofchicago.org)... 35.170.133.124, 100.28.82.57, 174.129.43.10\n",
      "Connecting to data.cityofchicago.org (data.cityofchicago.org)|35.170.133.124|:443... connected.\n",
      "HTTP request sent, awaiting response... 200 OK\n",
      "Length: unspecified [text/csv]\n",
      "Saving to: ‘police-stations.csv’\n",
      "\n",
      "police-stations.csv     [ <=>                ]   5.57K  --.-KB/s    in 0s      \n",
      "\n",
      "2024-11-21 20:22:45 (2.05 GB/s) - ‘police-stations.csv’ saved [5699]\n",
      "\n"
     ]
    }
   ],
   "source": [
    "!wget -O police-stations.csv https://data.cityofchicago.org/api/views/z8bn-74gv/rows.csv?accessType=DOWNLOAD"
   ]
  },
  {
   "cell_type": "code",
   "execution_count": 2,
   "metadata": {},
   "outputs": [
    {
     "name": "stdout",
     "output_type": "stream",
     "text": [
      "--2024-11-21 20:22:45--  https://data.cityofchicago.org/api/views/9hwr-2zxp/rows.csv?accessType=DOWNLOAD\n",
      "Resolving data.cityofchicago.org (data.cityofchicago.org)... 100.28.82.57, 174.129.43.10, 35.170.133.124\n",
      "Connecting to data.cityofchicago.org (data.cityofchicago.org)|100.28.82.57|:443... connected.\n",
      "HTTP request sent, awaiting response... 200 OK\n",
      "Length: unspecified [text/csv]\n",
      "Saving to: ‘police-stations.csv’\n",
      "\n",
      "police-stations.csv     [           <=>      ]  54.54M  3.13MB/s    in 17s     \n",
      "\n",
      "2024-11-21 20:23:03 (3.21 MB/s) - ‘police-stations.csv’ saved [57188717]\n",
      "\n"
     ]
    }
   ],
   "source": [
    "!wget -O police-stations.csv https://data.cityofchicago.org/api/views/9hwr-2zxp/rows.csv?accessType=DOWNLOAD"
   ]
  },
  {
   "cell_type": "code",
   "execution_count": 3,
   "metadata": {
    "colab": {
     "base_uri": "https://localhost:8080/"
    },
    "executionInfo": {
     "elapsed": 586,
     "status": "ok",
     "timestamp": 1655322017984,
     "user": {
      "displayName": "Abdelhak Aswak",
      "userId": "10570477179366674085"
     },
     "user_tz": -60
    },
    "id": "zToS5PqxBXpK",
    "outputId": "8ac15f02-b00a-4a1d-ebb0-e0986b7368cb"
   },
   "outputs": [
    {
     "name": "stdout",
     "output_type": "stream",
     "text": [
      "01_Lab_environment.ipynb       06_Challenge.ipynb\t    14_Certificate\n",
      "02_Download_data.ipynb\t       07_Built_in_functions.ipynb  LICENSE\n",
      "03_Schemas.ipynb\t       08_Working_with_dates.ipynb  police-stations.csv\n",
      "04_Working_with_columns.ipynb  10_joins.ipynb\t\t    README.md\n",
      "05_Working_with_rows.ipynb     13_RDDs.ipynb\n"
     ]
    }
   ],
   "source": [
    "!ls"
   ]
  },
  {
   "cell_type": "code",
   "execution_count": 4,
   "metadata": {},
   "outputs": [],
   "source": [
    "mv police-stations.csv ../datasets/sparkbyexamples/"
   ]
  },
  {
   "cell_type": "markdown",
   "metadata": {
    "id": "FEuEkV0BlzAD"
   },
   "source": [
    "## Setup environment"
   ]
  },
  {
   "cell_type": "code",
   "execution_count": 5,
   "metadata": {
    "colab": {
     "base_uri": "https://localhost:8080/",
     "height": 219
    },
    "executionInfo": {
     "elapsed": 5200,
     "status": "ok",
     "timestamp": 1655322484159,
     "user": {
      "displayName": "Abdelhak Aswak",
      "userId": "10570477179366674085"
     },
     "user_tz": -60
    },
    "id": "sdOOq4twHN1K",
    "outputId": "c9c2ec8e-4f09-4e17-c476-545728dc0e3c"
   },
   "outputs": [
    {
     "data": {
      "text/html": [
       "\n",
       "            <div>\n",
       "                <p><b>SparkSession - in-memory</b></p>\n",
       "                \n",
       "        <div>\n",
       "            <p><b>SparkContext</b></p>\n",
       "\n",
       "            <p><a href=\"http://b58f762f4826:4041\">Spark UI</a></p>\n",
       "\n",
       "            <dl>\n",
       "              <dt>Version</dt>\n",
       "                <dd><code>v3.5.0</code></dd>\n",
       "              <dt>Master</dt>\n",
       "                <dd><code>local[*]</code></dd>\n",
       "              <dt>AppName</dt>\n",
       "                <dd><code>pyspark-shell</code></dd>\n",
       "            </dl>\n",
       "        </div>\n",
       "        \n",
       "            </div>\n",
       "        "
      ],
      "text/plain": [
       "<pyspark.sql.session.SparkSession at 0x7924ffb39f50>"
      ]
     },
     "execution_count": 5,
     "metadata": {},
     "output_type": "execute_result"
    }
   ],
   "source": [
    "import pyspark\n",
    "from pyspark.sql import SparkSession\n",
    "spark = SparkSession.builder.getOrCreate() \n",
    "spark"
   ]
  },
  {
   "cell_type": "markdown",
   "metadata": {
    "id": "0ysUlfFrN5OD"
   },
   "source": [
    "## preprocessing Chicago's Reported Crime Data"
   ]
  },
  {
   "cell_type": "code",
   "execution_count": 6,
   "metadata": {},
   "outputs": [],
   "source": [
    "path =\"../datasets/sparkbyexamples/police-stations.csv\""
   ]
  },
  {
   "cell_type": "code",
   "execution_count": 7,
   "metadata": {
    "colab": {
     "base_uri": "https://localhost:8080/"
    },
    "executionInfo": {
     "elapsed": 15946,
     "status": "ok",
     "timestamp": 1655322507148,
     "user": {
      "displayName": "Abdelhak Aswak",
      "userId": "10570477179366674085"
     },
     "user_tz": -60
    },
    "id": "9-1cK0nPNS95",
    "outputId": "8aecdea5-6b27-4073-e1b4-3a05a9a94a30"
   },
   "outputs": [],
   "source": [
    "from pyspark.sql.functions import to_timestamp,col,lit\n",
    "rc = spark.read.csv(path,header=True)"
   ]
  },
  {
   "cell_type": "code",
   "execution_count": 8,
   "metadata": {
    "id": "FtDmwilgogPH"
   },
   "outputs": [
    {
     "name": "stdout",
     "output_type": "stream",
     "text": [
      "root\n",
      " |-- ID: string (nullable = true)\n",
      " |-- Case Number: string (nullable = true)\n",
      " |-- Date: string (nullable = true)\n",
      " |-- Block: string (nullable = true)\n",
      " |-- IUCR: string (nullable = true)\n",
      " |-- Primary Type: string (nullable = true)\n",
      " |-- Description: string (nullable = true)\n",
      " |-- Location Description: string (nullable = true)\n",
      " |-- Arrest: string (nullable = true)\n",
      " |-- Domestic: string (nullable = true)\n",
      " |-- Beat: string (nullable = true)\n",
      " |-- District: string (nullable = true)\n",
      " |-- Ward: string (nullable = true)\n",
      " |-- Community Area: string (nullable = true)\n",
      " |-- FBI Code: string (nullable = true)\n",
      " |-- X Coordinate: string (nullable = true)\n",
      " |-- Y Coordinate: string (nullable = true)\n",
      " |-- Year: string (nullable = true)\n",
      " |-- Updated On: string (nullable = true)\n",
      " |-- Latitude: string (nullable = true)\n",
      " |-- Longitude: string (nullable = true)\n",
      " |-- Location: string (nullable = true)\n",
      "\n"
     ]
    }
   ],
   "source": [
    "rc.printSchema()"
   ]
  },
  {
   "cell_type": "code",
   "execution_count": 9,
   "metadata": {
    "id": "Zxbq2qCyogGp"
   },
   "outputs": [
    {
     "name": "stdout",
     "output_type": "stream",
     "text": [
      "+----+\n",
      "|Year|\n",
      "+----+\n",
      "|2022|\n",
      "+----+\n",
      "\n"
     ]
    }
   ],
   "source": [
    "rc.select(\"Year\").distinct().show()"
   ]
  },
  {
   "cell_type": "code",
   "execution_count": 10,
   "metadata": {},
   "outputs": [
    {
     "name": "stdout",
     "output_type": "stream",
     "text": [
      "+--------------------+\n",
      "|                Date|\n",
      "+--------------------+\n",
      "|08/05/2022 09:26:...|\n",
      "|01/03/2022 05:00:...|\n",
      "|02/03/2022 02:30:...|\n",
      "|12/27/2022 04:35:...|\n",
      "|11/18/2022 04:00:...|\n",
      "|11/30/2022 09:45:...|\n",
      "|12/27/2022 11:21:...|\n",
      "|07/14/2022 08:52:...|\n",
      "|08/29/2022 12:00:...|\n",
      "|09/02/2022 10:00:...|\n",
      "|03/16/2022 02:00:...|\n",
      "|08/07/2022 06:00:...|\n",
      "|08/09/2022 09:00:...|\n",
      "|09/02/2022 08:15:...|\n",
      "|04/13/2022 12:00:...|\n",
      "|01/29/2022 02:00:...|\n",
      "|03/01/2022 01:15:...|\n",
      "|01/01/2022 02:00:...|\n",
      "|02/08/2022 03:27:...|\n",
      "|02/10/2022 03:50:...|\n",
      "+--------------------+\n",
      "only showing top 20 rows\n",
      "\n"
     ]
    }
   ],
   "source": [
    "rc.select(\"Date\").distinct().show()"
   ]
  }
 ],
 "metadata": {
  "colab": {
   "name": "Download_data.ipynb",
   "provenance": []
  },
  "kernelspec": {
   "display_name": "Python 3 (ipykernel)",
   "language": "python",
   "name": "python3"
  },
  "language_info": {
   "codemirror_mode": {
    "name": "ipython",
    "version": 3
   },
   "file_extension": ".py",
   "mimetype": "text/x-python",
   "name": "python",
   "nbconvert_exporter": "python",
   "pygments_lexer": "ipython3",
   "version": "3.11.6"
  }
 },
 "nbformat": 4,
 "nbformat_minor": 4
}
